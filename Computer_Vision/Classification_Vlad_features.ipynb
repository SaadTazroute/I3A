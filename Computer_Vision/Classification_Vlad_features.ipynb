{
  "nbformat": 4,
  "nbformat_minor": 0,
  "metadata": {
    "colab": {
      "name": "CV_TP2_TAZROUTE.ipynb",
      "provenance": [],
      "collapsed_sections": []
    },
    "kernelspec": {
      "name": "python3",
      "display_name": "Python 3"
    }
  },
  "cells": [
    {
      "cell_type": "code",
      "metadata": {
        "id": "RmYvDDt3OClU",
        "colab": {
          "base_uri": "https://localhost:8080/"
        },
        "outputId": "57caf462-d22b-4a88-b8c4-7af0c7da3569"
      },
      "source": [
        "#Mount your google drive: require authorization\n",
        "from google.colab import drive\n",
        "drive.mount('drive')"
      ],
      "execution_count": null,
      "outputs": [
        {
          "output_type": "stream",
          "name": "stdout",
          "text": [
            "Mounted at drive\n"
          ]
        }
      ]
    },
    {
      "cell_type": "code",
      "metadata": {
        "id": "PfAY7OEuOtmU",
        "colab": {
          "base_uri": "https://localhost:8080/"
        },
        "outputId": "7351a59b-2991-4155-89be-d6f08e6b9e16"
      },
      "source": [
        "#Launch some linux commands by adding \"!\" before a command\n",
        "!pwd\n",
        "!ls\n",
        "!ls drive/My\\ Drive"
      ],
      "execution_count": null,
      "outputs": [
        {
          "output_type": "stream",
          "name": "stdout",
          "text": [
            "/content\n",
            "drive  sample_data\n",
            "'Colab Notebooks'\t\t        Model\n",
            " Documents_Saad\t\t\t       'Paris test'\n",
            "'Documents stagiaire'\t\t       'rapport lailouette'\n",
            "'Documents Visa 2021 2022'\t       'Rapport LVMT'\n",
            " Donda\t\t\t\t        Recovery\n",
            " ECM\t\t\t\t        ressourcessss\n",
            " gifs\t\t\t\t       'RIB SAAD TAZROUTE.pdf'\n",
            " Imagetest\t\t\t        SmallDrone\n",
            " Inside-Two-i-S02E15-Anomalies-V2.mp4  'Visa Saad.rar'\n",
            " main_CV2_21.gdoc\t\t        Work\n"
          ]
        }
      ]
    },
    {
      "cell_type": "code",
      "metadata": {
        "id": "Snv-W5TgOvUT"
      },
      "source": [
        "#Change your location in the arborescence\n",
        "import os\n",
        "#################################################CHANGE TO YOUR PATH\n",
        "os.chdir('/content/drive/MyDrive/ECM/ComputerVision/')#########################\n"
      ],
      "execution_count": null,
      "outputs": []
    },
    {
      "cell_type": "code",
      "metadata": {
        "id": "xMboH93MPErm",
        "colab": {
          "base_uri": "https://localhost:8080/"
        },
        "outputId": "4936db08-89a0-4394-dec3-e91fa4bbcecb"
      },
      "source": [
        "!pwd\n",
        "!ls"
      ],
      "execution_count": null,
      "outputs": [
        {
          "output_type": "stream",
          "name": "stdout",
          "text": [
            "/content/drive/My Drive/ECM/ComputerVision\n",
            " CV_TP1_21_students.ipynb   img2.ppm   img5.ppm       main_CV1_21.pdf\n",
            " CV_TP2_21_students.ipynb   img3.ppm  'Large scale'   main_CV2_21.pdf\n",
            " img1.ppm\t\t    img4.ppm   lena.jpeg\n"
          ]
        }
      ]
    },
    {
      "cell_type": "code",
      "metadata": {
        "id": "r3HTzwn0OOUS"
      },
      "source": [
        "from google.colab.patches import cv2_imshow"
      ],
      "execution_count": null,
      "outputs": []
    },
    {
      "cell_type": "code",
      "metadata": {
        "id": "v6JB8U-JT3Pm",
        "colab": {
          "base_uri": "https://localhost:8080/"
        },
        "outputId": "f6b513c3-b197-4a9f-9196-52f58371589a"
      },
      "source": [
        "#Load MNIST Dataset\n",
        "from sklearn.datasets import fetch_openml\n",
        "#from sklearn.model_selection import train_test_split\n",
        "import numpy as np\n",
        "import matplotlib.pyplot as plt\n",
        "\n",
        "mnist = fetch_openml('mnist_784', cache=False)\n",
        "\n",
        "print(mnist.data.shape)\n",
        "print(mnist.target.shape)\n",
        "print(np.unique(mnist.target))\n",
        "\n"
      ],
      "execution_count": null,
      "outputs": [
        {
          "output_type": "stream",
          "name": "stdout",
          "text": [
            "(70000, 784)\n",
            "(70000,)\n",
            "['0' '1' '2' '3' '4' '5' '6' '7' '8' '9']\n"
          ]
        }
      ]
    },
    {
      "cell_type": "code",
      "metadata": {
        "id": "VycJybiLNKnw"
      },
      "source": [
        ""
      ],
      "execution_count": null,
      "outputs": []
    },
    {
      "cell_type": "code",
      "metadata": {
        "id": "Dp64FTdbUTFV",
        "colab": {
          "base_uri": "https://localhost:8080/"
        },
        "outputId": "d8a36a34-b77c-4f2e-d83e-37655d5ad532"
      },
      "source": [
        "\n",
        "X = mnist.data.astype('float32')\n",
        "y = mnist.target.astype('int64')\n",
        "print(type(mnist))\n"
      ],
      "execution_count": null,
      "outputs": [
        {
          "output_type": "stream",
          "name": "stdout",
          "text": [
            "<class 'sklearn.utils.Bunch'>\n"
          ]
        }
      ]
    },
    {
      "cell_type": "markdown",
      "metadata": {
        "id": "3LL_75pv-BpI"
      },
      "source": [
        "##Build your dataset\n",
        "\n",
        "Take the first 300 digits as your dataset.\n",
        "\n",
        "Reshape the image data into 28*28 images and display one of them using cv2_imshow"
      ]
    },
    {
      "cell_type": "code",
      "metadata": {
        "id": "961WNRqE-ZM4",
        "colab": {
          "base_uri": "https://localhost:8080/",
          "height": 79
        },
        "outputId": "58bd7e57-f7eb-4fed-d634-ca9eb96104eb"
      },
      "source": [
        "X = mnist.data[:300]\n",
        "y = mnist.target[:300]\n",
        "print(X.shape)\n",
        "X = np.reshape(X, (300,28, 28))\n",
        "print(X.shape)\n",
        "#displayed the second image of the X set\n",
        "cv2_imshow(X[2])\n"
      ],
      "execution_count": null,
      "outputs": [
        {
          "output_type": "stream",
          "name": "stdout",
          "text": [
            "(300, 784)\n",
            "(300, 28, 28)\n"
          ]
        },
        {
          "output_type": "display_data",
          "data": {
            "image/png": "[encoded data removed]",
            "text/plain": [
              "<PIL.Image.Image image mode=L size=28x28 at 0x7F3965665210>"
            ]
          },
          "metadata": {}
        }
      ]
    },
    {
      "cell_type": "markdown",
      "metadata": {
        "id": "Fab61ol_-aUu"
      },
      "source": [
        "## Extract dense features\n",
        "\n",
        "For each image extract dense daisy features using the following code.\n",
        "\n",
        "More information on daisy can be found here: https://scikit-image.org/docs/dev/auto_examples/features_detection/plot_daisy.html\n",
        "\n",
        "Make sure you reshape the output to obtain a 2d array per image (nb features * feature dimension)\n",
        "\n"
      ]
    },
    {
      "cell_type": "code",
      "metadata": {
        "id": "Ny6xOIJr0D6e",
        "colab": {
          "base_uri": "https://localhost:8080/"
        },
        "outputId": "356265ff-d78e-491f-a435-9fdd92b7d079"
      },
      "source": [
        "from skimage.feature import daisy\n",
        "from skimage import data\n",
        "import matplotlib.pyplot as plt\n",
        "\n",
        "full_descs = []\n",
        "\n",
        "for t in range(len(X)):\n",
        "  img  = X[t]\n",
        "  descs, descs_img = daisy(img, step=2, radius=8, rings=2, histograms=6, orientations=8, visualize=True)  #sortie (6x6x104) ====} (36,104) pour chaque feature \n",
        "  descs = np.reshape(descs,(36,104))\n",
        "\n",
        "  full_descs.append(descs)\n",
        "full_descs = np.array(full_descs)\n",
        "print(full_descs.shape)\n"
      ],
      "execution_count": null,
      "outputs": [
        {
          "output_type": "stream",
          "name": "stdout",
          "text": [
            "0\n",
            "1\n",
            "2\n",
            "3\n",
            "4\n",
            "5\n",
            "6\n",
            "7\n",
            "8\n",
            "9\n",
            "10\n",
            "11\n",
            "12\n",
            "13\n",
            "14\n",
            "15\n",
            "16\n",
            "17\n",
            "18\n",
            "19\n",
            "20\n",
            "21\n",
            "22\n",
            "23\n",
            "24\n",
            "25\n",
            "26\n",
            "27\n",
            "28\n",
            "29\n",
            "30\n",
            "31\n",
            "32\n",
            "33\n",
            "34\n",
            "35\n",
            "36\n",
            "37\n",
            "38\n",
            "39\n",
            "40\n",
            "41\n",
            "42\n",
            "43\n",
            "44\n",
            "45\n",
            "46\n",
            "47\n",
            "48\n",
            "49\n",
            "50\n",
            "51\n",
            "52\n",
            "53\n",
            "54\n",
            "55\n",
            "56\n",
            "57\n",
            "58\n",
            "59\n",
            "60\n",
            "61\n",
            "62\n",
            "63\n",
            "64\n",
            "65\n",
            "66\n",
            "67\n",
            "68\n",
            "69\n",
            "70\n",
            "71\n",
            "72\n",
            "73\n",
            "74\n",
            "75\n",
            "76\n",
            "77\n",
            "78\n",
            "79\n",
            "80\n",
            "81\n",
            "82\n",
            "83\n",
            "84\n",
            "85\n",
            "86\n",
            "87\n",
            "88\n",
            "89\n",
            "90\n",
            "91\n",
            "92\n",
            "93\n",
            "94\n",
            "95\n",
            "96\n",
            "97\n",
            "98\n",
            "99\n",
            "100\n",
            "101\n",
            "102\n",
            "103\n",
            "104\n",
            "105\n",
            "106\n",
            "107\n",
            "108\n",
            "109\n",
            "110\n",
            "111\n",
            "112\n",
            "113\n",
            "114\n",
            "115\n",
            "116\n",
            "117\n",
            "118\n",
            "119\n",
            "120\n",
            "121\n",
            "122\n",
            "123\n",
            "124\n",
            "125\n",
            "126\n",
            "127\n",
            "128\n",
            "129\n",
            "130\n",
            "131\n",
            "132\n",
            "133\n",
            "134\n",
            "135\n",
            "136\n",
            "137\n",
            "138\n",
            "139\n",
            "140\n",
            "141\n",
            "142\n",
            "143\n",
            "144\n",
            "145\n",
            "146\n",
            "147\n",
            "148\n",
            "149\n",
            "150\n",
            "151\n",
            "152\n",
            "153\n",
            "154\n",
            "155\n",
            "156\n",
            "157\n",
            "158\n",
            "159\n",
            "160\n",
            "161\n",
            "162\n",
            "163\n",
            "164\n",
            "165\n",
            "166\n",
            "167\n",
            "168\n",
            "169\n",
            "170\n",
            "171\n",
            "172\n",
            "173\n",
            "174\n",
            "175\n",
            "176\n",
            "177\n",
            "178\n",
            "179\n",
            "180\n",
            "181\n",
            "182\n",
            "183\n",
            "184\n",
            "185\n",
            "186\n",
            "187\n",
            "188\n",
            "189\n",
            "190\n",
            "191\n",
            "192\n",
            "193\n",
            "194\n",
            "195\n",
            "196\n",
            "197\n",
            "198\n",
            "199\n",
            "200\n",
            "201\n",
            "202\n",
            "203\n",
            "204\n",
            "205\n",
            "206\n",
            "207\n",
            "208\n",
            "209\n",
            "210\n",
            "211\n",
            "212\n",
            "213\n",
            "214\n",
            "215\n",
            "216\n",
            "217\n",
            "218\n",
            "219\n",
            "220\n",
            "221\n",
            "222\n",
            "223\n",
            "224\n",
            "225\n",
            "226\n",
            "227\n",
            "228\n",
            "229\n",
            "230\n",
            "231\n",
            "232\n",
            "233\n",
            "234\n",
            "235\n",
            "236\n",
            "237\n",
            "238\n",
            "239\n",
            "240\n",
            "241\n",
            "242\n",
            "243\n",
            "244\n",
            "245\n",
            "246\n",
            "247\n",
            "248\n",
            "249\n",
            "250\n",
            "251\n",
            "252\n",
            "253\n",
            "254\n",
            "255\n",
            "256\n",
            "257\n",
            "258\n",
            "259\n",
            "260\n",
            "261\n",
            "262\n",
            "263\n",
            "264\n",
            "265\n",
            "266\n",
            "267\n",
            "268\n",
            "269\n",
            "270\n",
            "271\n",
            "272\n",
            "273\n",
            "274\n",
            "275\n",
            "276\n",
            "277\n",
            "278\n",
            "279\n",
            "280\n",
            "281\n",
            "282\n",
            "283\n",
            "284\n",
            "285\n",
            "286\n",
            "287\n",
            "288\n",
            "289\n",
            "290\n",
            "291\n",
            "292\n",
            "293\n",
            "294\n",
            "295\n",
            "296\n",
            "297\n",
            "298\n",
            "299\n",
            "(300, 36, 104)\n"
          ]
        }
      ]
    },
    {
      "cell_type": "markdown",
      "metadata": {
        "id": "-agnirH-_QGW"
      },
      "source": [
        "## Normalization\n",
        "\n",
        "Perform l2 normalization on each feature descriptor."
      ]
    },
    {
      "cell_type": "code",
      "metadata": {
        "id": "VcggULUaAC1s"
      },
      "source": [
        "import sklearn\n",
        "full_desc = []\n",
        "for feature in full_descs :\n",
        "  feature = sklearn.preprocessing.normalize(feature, norm=\"l2\")\n",
        "  full_desc.append(feature)\n",
        "full_desc = np.array(full_desc)"
      ],
      "execution_count": null,
      "outputs": []
    },
    {
      "cell_type": "code",
      "metadata": {
        "id": "rBMqiN9rDgWL",
        "colab": {
          "base_uri": "https://localhost:8080/"
        },
        "outputId": "ae4c3861-3d8e-4bc8-e27c-433653112924"
      },
      "source": [
        "#You can check that the normalization is properly done.\n",
        "print(np.sum(np.power(full_desc[0,0,:],2.0)))"
      ],
      "execution_count": null,
      "outputs": [
        {
          "output_type": "stream",
          "name": "stdout",
          "text": [
            "1.0\n"
          ]
        }
      ]
    },
    {
      "cell_type": "markdown",
      "metadata": {
        "id": "Mb-00B_xAZYq"
      },
      "source": [
        "##Clustering and embeddings\n",
        "\n",
        "Look and try to understand the following codes.\n",
        "These aggregators include the clustering.\n",
        "\n",
        "After dividing your data into train and test set, perform the clustering with k=100 clusters on all the features of the train set.\n",
        "\n",
        "Then, compute the bow and vlad descriptors for each image of the train and test sets.\n",
        "\n",
        "Pay attention to the normalization apllied on the computed embeddings."
      ]
    },
    {
      "cell_type": "code",
      "metadata": {
        "colab": {
          "base_uri": "https://localhost:8080/"
        },
        "id": "-cD8eQofWeYq",
        "outputId": "9654cd19-b891-4a40-c0bd-4540f49c7eee"
      },
      "source": [
        "from sklearn.model_selection import train_test_split\n",
        "\n",
        "X_train, X_test, y_train, y_test = train_test_split(full_desc, y, test_size=0.33, random_state=42, shuffle = True)\n",
        "print(X_train.shape)\n",
        "print(y_train.shape)\n",
        "X_train = np.reshape(X_train,(X_train.shape[0],X_train.shape[1]*X_train.shape[2]))\n",
        "print(X_test.shape)\n",
        "X_test = np.reshape(X_test,(X_test.shape[0],X_test.shape[1]*X_test.shape[2]))\n",
        "\n",
        "from sklearn.cluster import KMeans\n",
        "kmeans = KMeans(n_clusters=100, random_state=0).fit(X_train)\n",
        "\n"
      ],
      "execution_count": null,
      "outputs": [
        {
          "output_type": "stream",
          "name": "stdout",
          "text": [
            "(201, 36, 104)\n",
            "(201,)\n",
            "(99, 36, 104)\n"
          ]
        }
      ]
    },
    {
      "cell_type": "code",
      "metadata": {
        "id": "BUSMSdHuBxtI",
        "colab": {
          "base_uri": "https://localhost:8080/"
        },
        "outputId": "b4fd702b-7852-42cd-ace4-af627050e366"
      },
      "source": [
        "!pip install feature-aggregation"
      ],
      "execution_count": null,
      "outputs": [
        {
          "output_type": "stream",
          "name": "stdout",
          "text": [
            "Collecting feature-aggregation\n",
            "  Downloading feature_aggregation-0.3-py2.py3-none-any.whl (13 kB)\n",
            "Requirement already satisfied: scikit-learn in /usr/local/lib/python3.7/dist-packages (from feature-aggregation) (0.22.2.post1)\n",
            "Requirement already satisfied: numpy>=1.11.0 in /usr/local/lib/python3.7/dist-packages (from scikit-learn->feature-aggregation) (1.19.5)\n",
            "Requirement already satisfied: scipy>=0.17.0 in /usr/local/lib/python3.7/dist-packages (from scikit-learn->feature-aggregation) (1.4.1)\n",
            "Requirement already satisfied: joblib>=0.11 in /usr/local/lib/python3.7/dist-packages (from scikit-learn->feature-aggregation) (1.0.1)\n",
            "Installing collected packages: feature-aggregation\n",
            "Successfully installed feature-aggregation-0.3\n"
          ]
        }
      ]
    },
    {
      "cell_type": "code",
      "metadata": {
        "id": "6zyt3p7OFqTP"
      },
      "source": [
        "import numpy as np\n",
        "from sklearn.base import BaseEstimator\n",
        "\n",
        "\n",
        "class BaseAggregator(BaseEstimator):\n",
        "    \"\"\"Implement any functions that can be shared among all feature\n",
        "    aggregation methods.\"\"\"\n",
        "\n",
        "    def __init__(self, dimension_ordering=\"tf\"):\n",
        "        self.dimension_ordering = dimension_ordering\n",
        "\n",
        "    def _reshape_local_features(self, X):\n",
        "        \"\"\"Reshape a n-dimensional array into a 2d array of local features.\n",
        "        Account for the case that X is a list because not all samples have\n",
        "        the same number of local features.\n",
        "        \"\"\"\n",
        "        if len(X) == 0:\n",
        "            raise ValueError(\"X cannot be empty\")\n",
        "\n",
        "        dims = len(X[0]) if self.dimension_ordering == \"th\" else X[0].shape[-1]\n",
        "        if isinstance(X, list):\n",
        "            arrays = [\n",
        "                x.T.reshape(-1, dims)\n",
        "                if self.dimension_ordering == \"th\"\n",
        "                else x.reshape(-1, dims)\n",
        "                for x in X\n",
        "            ]\n",
        "            lengths = [len(x) for x in arrays]\n",
        "            X = np.vstack(arrays)\n",
        "        else:\n",
        "            if self.dimension_ordering == \"th\":\n",
        "                X = X.transpose(*([0] + range(2, len(X.shape)) + [1]))\n",
        "            lengths = [int(np.prod(X.shape[1:-1]))]*X.shape[0]\n",
        "            X = X.reshape(-1, dims)\n",
        "\n",
        "        return X, lengths"
      ],
      "execution_count": null,
      "outputs": []
    },
    {
      "cell_type": "code",
      "metadata": {
        "id": "s3UBhgPTFhCA"
      },
      "source": [
        "\"\"\"Quantize local features and aggregate them in a Bag Of Words manner\"\"\"\n",
        "\n",
        "import numpy as np\n",
        "from sklearn import cluster\n",
        "\n",
        "#from .base import BaseAggregator\n",
        "\n",
        "\n",
        "class BagOfWords(BaseAggregator):\n",
        "    \"\"\"Compute a Bag of Words model and aggregate local features with it.\n",
        "    \n",
        "    Train a MiniBatchKMeans on the data and then use the centroids as a\n",
        "    codebook to encode any set of local features.\n",
        "    Parameters\n",
        "    ----------\n",
        "    n_codewords : int\n",
        "                  The codebook size aka the number of clusters\n",
        "    l1_norm : boolean\n",
        "              Whether to normalize the transformed data or not\n",
        "    dimension_ordering : {'th', 'tf'}\n",
        "                         Changes how n-dimensional arrays are reshaped to form\n",
        "                         simple local feature matrices. 'th' ordering means the\n",
        "                         local feature dimension is the second dimension and\n",
        "                         'tf' means it is the last dimension.\n",
        "    \"\"\"\n",
        "    def __init__(self, n_codewords, l1_norm=True, dimension_ordering=\"tf\"):\n",
        "        self.n_codewords = n_codewords\n",
        "        self.l1_norm = l1_norm\n",
        "        self._clusterer = cluster.MiniBatchKMeans(\n",
        "            n_clusters=self.n_codewords,\n",
        "            n_init=1,\n",
        "            compute_labels=False\n",
        "        )\n",
        "\n",
        "        super(self.__class__, self).__init__(dimension_ordering)\n",
        "\n",
        "    @property\n",
        "    def centroids(self):\n",
        "        \"\"\"The centroids of the encoding\"\"\"\n",
        "        return self._clusterer.cluster_centers_.copy()\n",
        "\n",
        "    @centroids.setter\n",
        "    def centroids(self, _centroids):\n",
        "        self._clusterer.cluster_centers_ = _centroids.copy()\n",
        "\n",
        "    def fit(self, X, y=None):\n",
        "        \"\"\"Build the codebook for the Bag of Words model.\n",
        "        Apply the clustering algorithm to the data and use the cluster centers\n",
        "        as codewords for the codebook.\n",
        "        Parameters:\n",
        "        -----------\n",
        "        X : array_like or list\n",
        "            The local features to train on. They must be either nd arrays or\n",
        "            a list of nd arrays.\n",
        "        \"\"\"\n",
        "        X, _ = self._reshape_local_features(X)\n",
        "\n",
        "        self._clusterer.fit(X)\n",
        "\n",
        "        return self\n",
        "\n",
        "    def partial_fit(self, X, y=None):\n",
        "        \"\"\"Partially learn the codebook from the provided data.\n",
        "        Run a single iteration of the minibatch KMeans on the provided data.\n",
        "        Parameters:\n",
        "        -----------\n",
        "        X : array_like or list\n",
        "            The local features to train on. They must be either nd arrays or\n",
        "            a list of nd arrays.\n",
        "        \"\"\"\n",
        "        X, _ = self._reshape_local_features(X)\n",
        "        self._clusterer.partial_fit(X)\n",
        "\n",
        "        return self\n",
        "\n",
        "    def transform(self, X):\n",
        "        \"\"\"Compute the Bag of Words representation of the provided data.\n",
        "        \n",
        "        Parameters\n",
        "        ----------\n",
        "        X : array_like or list\n",
        "            The local features to aggregate. They must be either nd arrays or\n",
        "            a list of nd arrays. In case of a list each item is aggregated\n",
        "            separately.\n",
        "        \"\"\"\n",
        "        # Get the local features and the number of local features per document\n",
        "        X, lengths = self._reshape_local_features(X)\n",
        "\n",
        "        # Preprocess the lengths list into indexes in the local feature array\n",
        "        starts = np.cumsum([0] + lengths).astype(int)\n",
        "        ends = np.cumsum(lengths).astype(int)\n",
        "\n",
        "        # Transform and aggregate the local features\n",
        "        words = self._clusterer.predict(X)\n",
        "        bow = np.vstack([\n",
        "            np.histogram(\n",
        "                words[s:e],\n",
        "                bins=np.arange(self.n_codewords + 1) - 0.5,\n",
        "                density=False\n",
        "            )[0]\n",
        "            for s, e in zip(starts, ends)\n",
        "        ])\n",
        "\n",
        "        if self.l1_norm:\n",
        "            bow = bow.astype(float) / bow.sum(axis=1).reshape(-1, 1)\n",
        "\n",
        "        return bow\n",
        "\n",
        "    def inertia(self, X):\n",
        "        \"\"\"Return the value of the KMeans objective function on the provided\n",
        "        data.\n",
        "        X : array_like or list\n",
        "            The local features to train on. They must be either nd arrays or\n",
        "            a list of nd arrays.\n",
        "        \"\"\"\n",
        "        X, _ = self._reshape_local_features(X)\n",
        "\n",
        "        return -self._clusterer.score(X)\n",
        "\n",
        "    def score(self, X, y=None):\n",
        "        \"\"\"Return the negative inertia so that the best score is the max\n",
        "        score.\n",
        "        X : array_like or list\n",
        "            The local features to train on. They must be either nd arrays or\n",
        "            a list of nd arrays.\n",
        "        \"\"\"\n",
        "        return -self.inertia(X)"
      ],
      "execution_count": null,
      "outputs": []
    },
    {
      "cell_type": "code",
      "metadata": {
        "id": "18okIVFOHU8k"
      },
      "source": [
        "\"\"\"Quantize local features and aggregate them using the Vector of Locally\n",
        "Aggregated Descriptors (VLAD) encoding\"\"\"\n",
        "\n",
        "import numpy as np\n",
        "from sklearn import cluster\n",
        "from sklearn.metrics import pairwise_distances\n",
        "\n",
        "\n",
        "\n",
        "class Vlad(BaseAggregator):\n",
        "    \"\"\"Compute a VLAD model and aggregate local features with it.\n",
        "    Parameters\n",
        "    ----------\n",
        "    n_codewords: int\n",
        "                 The codebook size aka the number of clusters.\n",
        "    inner_batch: int\n",
        "                 The batch size used to compute the differences between\n",
        "                 the feature descriptors and the centroids.\n",
        "    normalization: int\n",
        "                   A bitmask of possible normalizations\n",
        "    dimension_ordering : {'th', 'tf'}\n",
        "                         Changes how n-dimensional arrays are reshaped to form\n",
        "                         simple local feature matrices. 'th' ordering means the\n",
        "                         local feature dimension is the second dimension and\n",
        "                         'tf' means it is the last dimension.\n",
        "    \"\"\"\n",
        "\n",
        "\n",
        "    POWER_NORMALIZATION = 1\n",
        "    L2_NORMALIZATION = 2\n",
        "\n",
        "    def __init__(self, n_codewords, normalization=3, inner_batch=128,\n",
        "                 dimension_ordering=\"tf\"):\n",
        "        self.n_codewords = n_codewords\n",
        "        self.inner_batch = inner_batch\n",
        "        self.normalization = normalization\n",
        "\n",
        "        self._clusterer = cluster.MiniBatchKMeans(\n",
        "            n_clusters=self.n_codewords,\n",
        "            n_init=1,\n",
        "            compute_labels=False\n",
        "        )\n",
        "\n",
        "        super(self.__class__, self).__init__(dimension_ordering)\n",
        "\n",
        "    def fit(self, X, y=None):\n",
        "        \"\"\"Build the codebook for the VLAD model using KMeans.\n",
        "        Apply the clustering algorithm to the data and use the cluster centers\n",
        "        as codewords for the codebook.\n",
        "        Parameters:\n",
        "        -----------\n",
        "        X : array_like or list\n",
        "            The local features to train on. They must be either nd arrays or\n",
        "            a list of nd arrays.\n",
        "        \"\"\"\n",
        "        X, _ = self._reshape_local_features(X)\n",
        "\n",
        "        self._clusterer.fit(X)\n",
        "\n",
        "        return self\n",
        "\n",
        "    def partial_fit(self, X, y=None):\n",
        "        \"\"\"Partially learn the codebook from the provided data.\n",
        "        Run a single iteration of the minibatch KMeans on the provided data.\n",
        "        Parameters:\n",
        "        -----------\n",
        "        X : array_like or list\n",
        "            The local features to train on. They must be either nd arrays or\n",
        "            a list of nd arrays.\n",
        "        \"\"\"\n",
        "        X, _ = self._reshape_local_features(X)\n",
        "        self._clusterer.partial_fit(X)\n",
        "\n",
        "        return self\n",
        "\n",
        "    def transform(self, X):\n",
        "        \"\"\"Compute the Bag of Words representation of the provided data.\n",
        "        Parameters\n",
        "        ----------\n",
        "        X : array_like or list\n",
        "            The local features to aggregate. They must be either nd arrays or\n",
        "            a list of nd arrays. In case of a list each item is aggregated\n",
        "            separately.\n",
        "        \"\"\"\n",
        "        # Get the local features and the number of local features per document\n",
        "        X, lengths = self._reshape_local_features(X)\n",
        "\n",
        "        # Preprocess the lengths list into indexes in the local feature array\n",
        "        starts = np.cumsum([0] + lengths).astype(int)\n",
        "        ends = np.cumsum(lengths).astype(int)\n",
        "\n",
        "        words = self._clusterer.predict(X)\n",
        "        dims = len(X[0])\n",
        "\n",
        "        vlad = np.zeros((len(lengths), dims*self.n_codewords))\n",
        "        v = np.zeros((self.inner_batch, self.n_codewords, dims))\n",
        "        for i, (s, e) in enumerate(zip(starts, ends)):\n",
        "            for j in range(s, e, self.inner_batch):\n",
        "                ee = min(j+self.inner_batch, e)\n",
        "\n",
        "                v.fill(0)\n",
        "                v[range(ee-j), words[j:ee]] = \\\n",
        "                    X[j:ee] - self._clusterer.cluster_centers_[words[j:ee]]\n",
        "                vlad[i] += v[:ee-j].sum(axis=0).ravel()\n",
        "            vlad[i] /= lengths[i]\n",
        "        \n",
        "        # Check if we should be normalizing the power\n",
        "        if self.normalization & self.POWER_NORMALIZATION:\n",
        "            vlad = np.sqrt(np.abs(vlad))*np.sign(vlad)\n",
        "\n",
        "        # Check if we should be performing L2 normalization\n",
        "        if self.normalization & self.L2_NORMALIZATION:\n",
        "            vlad /= np.sqrt(np.sum(vlad**2, axis=1)).reshape(-1, 1)\n",
        "\n",
        "        return vlad"
      ],
      "execution_count": null,
      "outputs": []
    },
    {
      "cell_type": "code",
      "metadata": {
        "colab": {
          "base_uri": "https://localhost:8080/"
        },
        "id": "Vr29NGsuOMnW",
        "outputId": "edd01f19-5d7c-4541-927f-bd1a2f49d6e7"
      },
      "source": [
        "X?shape"
      ],
      "execution_count": null,
      "outputs": [
        {
          "output_type": "execute_result",
          "data": {
            "text/plain": [
              "(300, 28, 28)"
            ]
          },
          "metadata": {},
          "execution_count": 77
        }
      ]
    },
    {
      "cell_type": "code",
      "metadata": {
        "id": "TVunRpIABndr",
        "colab": {
          "base_uri": "https://localhost:8080/"
        },
        "outputId": "1ece78c1-5dd9-4176-8688-93d27e2be9c8"
      },
      "source": [
        "vlad  = Vlad(n_codewords=100)\n",
        "vlad.fit(X_train)\n",
        "\n",
        "X_preds_vlad = vlad.transform(X_test)\n",
        "print(X_preds_vlad[0].shape[0])"
      ],
      "execution_count": null,
      "outputs": [
        {
          "output_type": "stream",
          "name": "stdout",
          "text": [
            "374400\n"
          ]
        }
      ]
    },
    {
      "cell_type": "code",
      "metadata": {
        "id": "VclORATiBnp-",
        "colab": {
          "base_uri": "https://localhost:8080/"
        },
        "outputId": "faa1b7e2-9828-459e-dbe0-0b5103b9a625"
      },
      "source": [
        "bow = BagOfWords(n_codewords=100)\n",
        "bow.fit(X_train)\n",
        "\n",
        "X_preds_bow = bow.transform(X_test)\n",
        "\n",
        "print(X_preds_bow[0].shape)"
      ],
      "execution_count": null,
      "outputs": [
        {
          "output_type": "stream",
          "name": "stdout",
          "text": [
            "(100,)\n"
          ]
        }
      ]
    },
    {
      "cell_type": "markdown",
      "metadata": {
        "id": "zsxa0pDzFQZN"
      },
      "source": [
        "##Some questions: \n",
        "\n",
        "- what is the dimension of BOW, VLAD and Fisher vectors ? \n",
        "    - **voir code cell ci-dessous**\n",
        "- what is the power normalization ? \n",
        "\n",
        "- what are the parameters of the clustering computed by kmeans ? \n",
        "    -  **Nombres de cluster + Terme de régularisation  + Init : qui permet de définir comment o initialise nos centroids + degree : degrès du polynome de kernelisation**\n",
        "\n",
        "- what are those of the GMM ?\n",
        "    - **Nombres de mixtures + Type de covariance + seuil de convergence (L'algo de maximisation d'esperance s'arrete lorsqu'il arrive à cet erreur )**\n"
      ]
    },
    {
      "cell_type": "code",
      "metadata": {
        "colab": {
          "base_uri": "https://localhost:8080/"
        },
        "id": "bgjmJLyK6KPl",
        "outputId": "af5c87d6-4d09-4566-fc54-1c39b2f59f5a"
      },
      "source": [
        "\n",
        "#Dimension of VLAD  vectors\n",
        "print(\"dimension du vecteur de features VALD\",X_preds_vlad[0].shape)    # k = 2925\n",
        "X_preds_bow = bow.transform(X_test)\n",
        "\n",
        "#Dimension of bow  vectors\n",
        "print(\"dimension du vecteur de features BOW\",X_preds_bow[0].shape)"
      ],
      "execution_count": null,
      "outputs": [
        {
          "output_type": "stream",
          "name": "stdout",
          "text": [
            "dimension du vecteur de features VALD (374400,)\n",
            "dimension du vecteur de features BOW (100,)\n"
          ]
        }
      ]
    },
    {
      "cell_type": "markdown",
      "metadata": {
        "id": "l6oOnPhtBmba"
      },
      "source": [
        "## Classification with SVM\n",
        "\n",
        "For BOW and VLAD perform classification of the small MNIST dataset with linear SVMs.\n",
        "\n",
        "Make sure your descriptors are L2-normalized and use sklearn:\n",
        "https://scikit-learn.org/stable/modules/generated/sklearn.svm.SVC.html\n",
        "\n",
        "- give results for all encoding and various C values.\n",
        "- compare BOW and VLAD to using the full image (flatten) as input.\n",
        "- compute the kernels on train and test sets and compute the SVM again\n",
        "\n"
      ]
    },
    {
      "cell_type": "code",
      "metadata": {
        "id": "Tp0_YlxmDQfb"
      },
      "source": [
        "\n",
        "import sklearn\n",
        "from sklearn.pipeline import make_pipeline\n",
        "from sklearn.preprocessing import norma\n",
        "\n",
        "\n",
        "# pipeline comme décrite dans le cours + variation du param C sur [0,0.1,0.2, ... , 1]\n",
        "# storing results Ypred et scores sur \n",
        "param = np.linspace(0, 1, 11)\n",
        "YPRED = []\n",
        "SCORES = []\n",
        "for c in param : \n",
        "  clf = make_pipeline(Vlad(n_codewords=100),StandardScaler(), sklearn.svm.SVC(C=c))\n",
        "  clf.fit(X_train, y_train)\n",
        "  y_pred = clf.predict(X_test)\n",
        "  YPRED.append(y_pred)\n",
        "  scores = sklearn.metrics.accuracy_score(y_test, y_pred)\n",
        "  SCORES.append(scores)\n",
        "\n",
        "\n"
      ],
      "execution_count": null,
      "outputs": []
    },
    {
      "cell_type": "code",
      "metadata": {
        "colab": {
          "base_uri": "https://localhost:8080/",
          "height": 295
        },
        "id": "7oxuAS-kMIwy",
        "outputId": "e1e420ac-fa78-4cdf-c02c-b1613b527672"
      },
      "source": [
        "from sklearn.metrics import confusion_matrix\n",
        "import seaborn as sns\n",
        "\n",
        "\n",
        "# plot matrce de confusion\n",
        "sns.heatmap(confusion_matrix(y_test, YPRED[0]),annot=True,lw =2,cbar=False)\n",
        "plt.ylabel(\"True Values\")\n",
        "plt.xlabel(\"Predicted Values\")\n",
        "plt.title(\"CONFUSION MATRIX VISUALIZATION\")\n",
        "plt.show()"
      ],
      "execution_count": null,
      "outputs": [
        {
          "output_type": "display_data",
          "data": {
            "image/png": "[encoded data removed]",
            "text/plain": [
              "<Figure size 432x288 with 1 Axes>"
            ]
          },
          "metadata": {
            "needs_background": "light"
          }
        }
      ]
    },
    {
      "cell_type": "markdown",
      "metadata": {
        "id": "okhn2Mr1CmES"
      },
      "source": [
        ""
      ]
    }
  ]
}