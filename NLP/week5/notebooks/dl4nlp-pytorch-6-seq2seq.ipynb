{
 "cells": [
  {
   "cell_type": "code",
   "execution_count": null,
   "metadata": {
    "colab": {
     "base_uri": "https://localhost:8080/",
     "height": 141
    },
    "colab_type": "code",
    "id": "4Tjz7TgXIHBJ",
    "outputId": "d6de86c4-d2e9-410b-c8d1-340a6bbe8bdd"
   },
   "outputs": [],
   "source": [
    "! pip install torch"
   ]
  },
  {
   "cell_type": "code",
   "execution_count": null,
   "metadata": {},
   "outputs": [],
   "source": []
  },
  {
   "cell_type": "markdown",
   "metadata": {
    "colab_type": "text",
    "id": "u6aEy6NkIED0"
   },
   "source": [
    "Nous nous intéressons maintenant à un problème de transduction d'une séquence de symbole en une autre (autrement dit de la traduction). Traduire de séquences de mots d'une langue à une autre n'est pas raisonnable sans GPU. Nous allons donc nous intéresser au problème de la phonétisation automatique. Étant donné une séquence de graphèmes, nous devons générer la séquence de phonèmes correspondant.\n",
    "\n",
    "Ce problème peut être vu comme la composition de deux problèmes vus dans les notebooks précédents :\n",
    "- le problème de prédiction de la polarité d'un tweet : lire une séquence en entrée et produire une représentation à partir de cette séquence (ici les graphèmes)\n",
    "- le problème de modèlisation du langage : partir d'une représentation cachée puis générer une séquence de symboles (ici les phonèmes)\n",
    "\n",
    "On appelle souvent ce cadre \"encodeur-décodeur\" ou \"seq2seq2.\n",
    "\n",
    "Comme les modèles de langages conditionnés (par leur état caché initial) ne fonctionnent pas très car ils doivent emagasiner toute l'information sur la séquence vue en entrée dans une représentation de taille fixe, nous dans une deuxième étape augmenter le modèle d'un macanisme d'attention.\n",
    "\n",
    "Commençons par télécharger un dictionnaire phonétisé de petite taille créé à partir d'un sous-ensemble du dictionnaire de CMU (utilisé dans l'ASR sphinx). Ce dictionnaire, regénérable avec les commandes en commentaire, contient sur chaque ligne un mot, suivi d'un séparateur \"|||\" suivi d'une sèquence de phonèmes."
   ]
  },
  {
   "cell_type": "code",
   "execution_count": null,
   "metadata": {
    "colab": {},
    "colab_type": "code",
    "id": "SuL1XnCt2CqC"
   },
   "outputs": [],
   "source": [
    "%matplotlib inline"
   ]
  },
  {
   "cell_type": "code",
   "execution_count": null,
   "metadata": {
    "colab": {
     "base_uri": "https://localhost:8080/",
     "height": 191
    },
    "colab_type": "code",
    "id": "9t217ggNQiie",
    "outputId": "c8665ae6-b877-4714-b76b-fa28b5755131"
   },
   "outputs": [],
   "source": [
    "\n",
    "! wget -q http://svn.code.sf.net/p/cmusphinx/code/trunk/cmudict/cmudict-0.7b\n",
    "! iconv -f latin1 cmudict-0.7b | grep \"^[A-Z]\" | awk '{ if( NF < 16 ){print} }' | sed 's/([0-9]*)//;s/  / ||| /' | shuf | head -5500 > cmudict-0.7b.filtered\n",
    "! [ -f cmudict-0.7b.filtered ] || wget -q http://pageperso.lif.univ-mrs.fr/~benoit.favre/files/cmudict-0.7b.filtered\n",
    "! head cmudict-0.7b.filtered"
   ]
  },
  {
   "cell_type": "markdown",
   "metadata": {
    "colab_type": "text",
    "id": "yILJ-on6IEEH"
   },
   "source": [
    "Le chargement des données nécessite de convertir les mots en listes de caractères, et la séquence de phonème en liste de chaînes de caractères."
   ]
  },
  {
   "cell_type": "code",
   "execution_count": null,
   "metadata": {
    "colab": {
     "base_uri": "https://localhost:8080/",
     "height": 52
    },
    "colab_type": "code",
    "id": "bB5D__eC2fnT",
    "outputId": "15704f01-6f71-43fe-d780-a89229f8f61c"
   },
   "outputs": [],
   "source": [
    "words = []\n",
    "phonemes = []\n",
    "\n",
    "with open(\"cmudict-0.7b.filtered\") as fp:\n",
    "    for line in fp:\n",
    "        word, phones = line.strip().split(' ||| ')\n",
    "        words.append(list(word))\n",
    "        phonemes.append(phones.split())\n",
    "\n",
    "print(words[42], phonemes[42])\n",
    "len(words)"
   ]
  },
  {
   "cell_type": "markdown",
   "metadata": {
    "colab_type": "text",
    "id": "PPbOPDWYIEES"
   },
   "source": [
    "Si on regarde la distribution des tailles de mots et de phonétisations, on peut voir que l'on couvre la plupart des cas avec une longueur maximale de 16."
   ]
  },
  {
   "cell_type": "code",
   "execution_count": null,
   "metadata": {
    "colab": {
     "base_uri": "https://localhost:8080/",
     "height": 513
    },
    "colab_type": "code",
    "id": "vcTntvOXIEEV",
    "outputId": "cf5a0fda-6819-4550-b66d-a0cbfe796f2d"
   },
   "outputs": [],
   "source": [
    "from matplotlib import pyplot as plt\n",
    "\n",
    "plt.hist([len(x) for x in words])\n",
    "plt.show()\n",
    "plt.hist([len(x) for x in phonemes])\n",
    "plt.show()"
   ]
  },
  {
   "cell_type": "markdown",
   "metadata": {
    "colab_type": "text",
    "id": "nPymPIGeIEEb"
   },
   "source": [
    "La conversion des entrées et sorties du système en séquences d'entiers se fait comme pour l'analyse de sentiment et le modèle de langage. Notez la présence du symbole `<start>` pour la partie modèle de langage."
   ]
  },
  {
   "cell_type": "code",
   "execution_count": null,
   "metadata": {
    "colab": {
     "base_uri": "https://localhost:8080/",
     "height": 69
    },
    "colab_type": "code",
    "id": "yKPsumQH_dsz",
    "outputId": "6375b3d2-32b8-47cb-cec1-6ac3c80d6a0a"
   },
   "outputs": [],
   "source": [
    "import collections\n",
    "\n",
    "letter_vocab = collections.defaultdict(lambda: len(letter_vocab))\n",
    "letter_vocab['<eos>'] = 0\n",
    "\n",
    "phoneme_vocab = collections.defaultdict(lambda: len(phoneme_vocab))\n",
    "phoneme_vocab['<eos>'] = 0\n",
    "phoneme_vocab['<start>'] = 1\n",
    "\n",
    "int_words = []\n",
    "int_phonemes = []\n",
    "\n",
    "for word, phones in zip(words, phonemes):\n",
    "    int_words.append([letter_vocab[x] for x in word])\n",
    "    int_phonemes.append([phoneme_vocab[x] for x in phones])\n",
    "\n",
    "print(len(letter_vocab), len(phoneme_vocab))\n",
    "print(int_words[42], int_phonemes[42])\n",
    "\n",
    "rev_letter_vocab = {y: x for x, y in letter_vocab.items()}\n",
    "rev_phoneme_vocab = {y: x for x, y in phoneme_vocab.items()}\n",
    "\n",
    "print([rev_letter_vocab[x] for x in int_words[42]], [rev_phoneme_vocab[x] for x in int_phonemes[42]])"
   ]
  },
  {
   "cell_type": "markdown",
   "metadata": {
    "colab_type": "text",
    "id": "dJC-YrbrIEEk"
   },
   "source": [
    "Nous allons utiliser des hyperparamètres de magnitude réduite pour pouvoir entraîner le système sur CPU. Sur GPU, on pourrait prendre de bien plus grands états cachés. De plus, rien ne nous empêche d'avoir des tailles d'embedding et d'état caché différentes selon que l'on est dans la partie \"encodeur\" ou \"décodeur\"."
   ]
  },
  {
   "cell_type": "code",
   "execution_count": null,
   "metadata": {
    "colab": {},
    "colab_type": "code",
    "id": "CZ9NUarqnG2M"
   },
   "outputs": [],
   "source": [
    "import torch\n",
    "import torch.nn as nn\n",
    "import torch.nn.functional as F\n",
    "import torch.optim as optim\n",
    "from torch.autograd import Variable\n",
    "\n",
    "max_len = 16\n",
    "batch_size = 16\n",
    "embed_size = 8\n",
    "hidden_size = 32"
   ]
  },
  {
   "cell_type": "markdown",
   "metadata": {
    "colab_type": "text",
    "id": "7-hohsrkIEEu"
   },
   "source": [
    "Une fois que l'on a des listes de listes d'entiers, il est relativement simple de les mettre dans des tenseurs avec le padding habituel. Le chois de coller les séquences à gauche est complètement arbitraire."
   ]
  },
  {
   "cell_type": "code",
   "execution_count": null,
   "metadata": {
    "colab": {
     "base_uri": "https://localhost:8080/",
     "height": 52
    },
    "colab_type": "code",
    "id": "p1SBrKZG3Qgq",
    "outputId": "f31dd5a3-f231-455f-9b29-b252f0719f06"
   },
   "outputs": [],
   "source": [
    "X = torch.zeros((len(int_words), max_len)).long()\n",
    "Y = torch.zeros((len(int_phonemes), max_len)).long()\n",
    "\n",
    "for i, (word, phones) in enumerate(zip(int_words, int_phonemes)):\n",
    "    word_length = min(max_len, len(word))\n",
    "    X[i,0:word_length] = torch.LongTensor(word[:word_length])\n",
    "    phones_length = min(max_len, len(phones))\n",
    "    Y[i,0:phones_length] = torch.LongTensor(phones[:phones_length])\n",
    "\n",
    "print(X[42].tolist())\n",
    "print(Y[42].tolist())"
   ]
  },
  {
   "cell_type": "markdown",
   "metadata": {
    "colab_type": "text",
    "id": "268oI1bTIEE3"
   },
   "source": [
    "Le corpus est divisé en un ensemble d'entraînement et de validation, et nous utilisons les facilités proposées par pytorch pour la génération des batches."
   ]
  },
  {
   "cell_type": "code",
   "execution_count": null,
   "metadata": {
    "colab": {},
    "colab_type": "code",
    "id": "A7wKQ6MH4pXE"
   },
   "outputs": [],
   "source": [
    "X_train = X[:5000]\n",
    "Y_train = Y[:5000]\n",
    "X_valid = X[5000:]\n",
    "Y_valid = Y[5000:]\n",
    "\n",
    "from torch.utils.data import TensorDataset, DataLoader\n",
    "train_set = TensorDataset(X_train, Y_train)\n",
    "valid_set = TensorDataset(X_valid, Y_valid)\n",
    "\n",
    "train_loader = DataLoader(train_set, batch_size=batch_size, shuffle=True)\n",
    "valid_loader = DataLoader(valid_set, batch_size=batch_size)"
   ]
  },
  {
   "cell_type": "markdown",
   "metadata": {
    "colab_type": "text",
    "id": "DpB7VWfnIEFC"
   },
   "source": [
    "Voici notre premier modèle. C'est un encodeur-decodeur classique qui utilise une couche d'embedding pour projeter les caractères du mot vers un espace d'embedding, puis une couche recurrente bidirectionnelle pour créer une représentation de l'intégralité du mot. La représentation issue de cette couche sera de taille `(num_layers * num_directions, batch_size, hidden_size)`, donc il faut que la seconde couche recurrente qui va générer les phonèmes ait une couche cachée de taille `2 * hidden_size`. Cette dernière est construite comme un modèle de langage : elle commence par le symbole `<start>`, le projette dans un espace d'embedding, le passe dans la couche recurrent, puis la sortie de cette dernière dans une couche de décision qui génère un vecteur de scores de la taille du vocabulaire des phonèmes.\n",
    "\n",
    "L'inférence est divisée en deux, la partie encodage qui renvoie l'état caché à l'issue de la lecture du mot, et la partie décodage qui renvoie la décision à chaque position pour la séquence de phonème ainsi que l'état caché à la fin (pour pouvoir faire un décodage phonème par phonème comme on l'a fait dans le modèle de langage)."
   ]
  },
  {
   "cell_type": "code",
   "execution_count": null,
   "metadata": {
    "colab": {
     "base_uri": "https://localhost:8080/",
     "height": 193
    },
    "colab_type": "code",
    "id": "iuUeJScPIEFE",
    "outputId": "25e3c4e9-4866-4b67-9946-eee1ec4e83ee"
   },
   "outputs": [],
   "source": [
    "class Seq2SeqModel(nn.Module):\n",
    "    def __init__(self):\n",
    "        super().__init__()\n",
    "        self.letter_embed = nn.Embedding(len(letter_vocab), embed_size, padding_idx=letter_vocab['<eos>'])\n",
    "        self.phoneme_embed = nn.Embedding(len(phoneme_vocab), embed_size)\n",
    "        self.letter_rnn = nn.GRU(embed_size, hidden_size, num_layers=1, dropout=0.3, bias=False, bidirectional=True, batch_first=True)\n",
    "        self.phoneme_rnn = nn.GRU(embed_size, 2 * hidden_size, num_layers=1, dropout=0.3, batch_first=True)\n",
    "        # size of hidden state: (num_layers * num_directions, batch_size, hidden_size)\n",
    "        self.decision = nn.Linear(hidden_size * 2 * 1, len(phoneme_vocab))\n",
    "    \n",
    "    def encode(self, word):\n",
    "        embed = self.letter_embed(word)\n",
    "        output, h_n = self.letter_rnn(embed)\n",
    "        return h_n.transpose(0, 1).contiguous().view(1, word.size(0), -1)\n",
    "    \n",
    "    def decode(self, phones, h_0):\n",
    "        embed = self.phoneme_embed(phones)\n",
    "        output, h_n = self.phoneme_rnn(embed, h_0)\n",
    "        return self.decision(output), h_n\n",
    "    \n",
    "    def forward(self, word, phones):\n",
    "        output, h_n = self.decode(phones, self.encode(word))\n",
    "        return output\n",
    "\n",
    "seq2seq_model = Seq2SeqModel()\n",
    "seq2seq_model"
   ]
  },
  {
   "cell_type": "markdown",
   "metadata": {
    "colab_type": "text",
    "id": "2Q7aGkIjIEFI"
   },
   "source": [
    "On peut vérifier que le modèle renvoie bien un tenseur de taille `(batch_size, sequence_length, num_phonemes)`. Pour celà nous passons $Y$ mais ce dernier représente les phonèmes à générer, pas les phonèmes précédents."
   ]
  },
  {
   "cell_type": "code",
   "execution_count": null,
   "metadata": {
    "colab": {
     "base_uri": "https://localhost:8080/",
     "height": 34
    },
    "colab_type": "code",
    "id": "He_7XbbxIEFK",
    "outputId": "ffd19bbc-cdaa-4c4b-c7d2-85dc0d17f80a"
   },
   "outputs": [],
   "source": [
    "seq2seq_model(Variable(X[:3]), Variable(Y[:3])).size()"
   ]
  },
  {
   "cell_type": "markdown",
   "metadata": {
    "colab_type": "text",
    "id": "2JorXxgkIEFP"
   },
   "source": [
    "L'évaluation sur les données de validation peut renvoyer la perplexité (ou un taux d'erreur). Par contre, le `loader` renvoie des paires $(x, y)$ contenant des batches de mots et phonétisations correspondantes. Donc il est nécessaire de créer une nouvelle variable qui contient les phonèmes décalés vers la gauche (phonème précédent) précédés du symbole `<start>`. Pour conserver la taille de séquence, on utilise le sous-tenseur `y[:,:-1]` qui représente tous les éléments de y sauf le dernier (sur la dimension 1), pour le batch en intégralité (dimension 0). "
   ]
  },
  {
   "cell_type": "code",
   "execution_count": null,
   "metadata": {
    "colab": {
     "base_uri": "https://localhost:8080/",
     "height": 104
    },
    "colab_type": "code",
    "id": "5DFYXJeGIEFS",
    "outputId": "34f39d14-8e8b-4df5-e8b9-acd79e862afa"
   },
   "outputs": [],
   "source": [
    "import math\n",
    "\n",
    "def perf(model, loader):\n",
    "    criterion = nn.CrossEntropyLoss()\n",
    "    model.eval()\n",
    "    total_loss = num = 0\n",
    "    for x, y in loader:\n",
    "        x2 = torch.cat([phoneme_vocab['<start>'] * torch.ones(y.size(0), 1).long(), y[:,:-1]], 1)\n",
    "        y_scores = model(Variable(x, volatile=True), Variable(x2, volatile=True))\n",
    "        loss = criterion(y_scores.view(y.size(0) * y.size(1), -1), Variable(y.view(y.size(0) * y.size(1)), volatile=True))\n",
    "        total_loss += loss.data\n",
    "        num += len(y)\n",
    "    return total_loss / num, math.exp(total_loss / num)\n",
    "\n",
    "perf(seq2seq_model, valid_loader)"
   ]
  },
  {
   "cell_type": "markdown",
   "metadata": {
    "colab_type": "text",
    "id": "DKogqNZHIEFb"
   },
   "source": [
    "Il est alors nécessaire de modifier la fonction d'apprentissage du modèle de langage de la même manière."
   ]
  },
  {
   "cell_type": "code",
   "execution_count": null,
   "metadata": {
    "colab": {
     "base_uri": "https://localhost:8080/",
     "height": 260
    },
    "colab_type": "code",
    "id": "0-sVFoHAIEFc",
    "outputId": "5fd950b0-5a1a-4b14-fbf4-3edd490c3e1a"
   },
   "outputs": [],
   "source": [
    "def fit(model, epochs):\n",
    "    criterion = nn.CrossEntropyLoss()\n",
    "    optimizer = optim.Adam(model.parameters())\n",
    "    for epoch in range(epochs):\n",
    "        model.train()\n",
    "        total_loss = num = 0\n",
    "        for x, y in train_loader:\n",
    "            x2 = torch.cat([phoneme_vocab['<start>'] * torch.ones(y.size(0), 1).long(), y[:,:-1]], 1)\n",
    "            optimizer.zero_grad()\n",
    "            y_scores = model(Variable(x), Variable(x2))\n",
    "            loss = criterion(y_scores.view(y.size(0) * y.size(1), -1), Variable(y.view(y.size(0) * y.size(1))))\n",
    "            loss.backward()\n",
    "            optimizer.step()\n",
    "            total_loss += loss.data\n",
    "            num += len(y)\n",
    "        print(epoch, total_loss / num, *perf(model, valid_loader))\n",
    "\n",
    "fit(seq2seq_model, 10)"
   ]
  },
  {
   "cell_type": "markdown",
   "metadata": {
    "colab_type": "text",
    "id": "1KJmzNnCIEFg"
   },
   "source": [
    "Nous pouvons faire une fonction de génération pour ce modèle. La différence avec le modèle de langage est que nous commençon avec un état caché généré par l'encodeur, et que la fonction `decode()` permet de générer la séquence phonème par phonème.\n",
    "\n",
    "Une fois le modèle entraîné, on s'apperçoit que le génèrateur n'est pas si bon. En général, il commence bien les phonétisations mais n'arrive pas à les terminer. Il ajoute souvent des sons qui n'apparaissent pas. Ce phénomène est dû à deux problèmes :\n",
    "- l'état caché qui sert à encoder le mot entier est limité et partagé avec celui utilisé pour le décodage (on pourrait concaténer les embeddings des phonèmes passés en entrée avec une copie de cet état caché à chaque étape, pour ne pas perdre la mémoire). Entraîner le modèle plus longtemps avec plus de données et un plus grand état caché pourrait améliorer la situtation.\n",
    "- il y a une différence entre les conditions d'apprentissage et de prédiction car en apprentissage on utilise le symbole précédent de référence (méthode \"teacher forcing\") alors qu'en test, on utilise le symbole prédit, potentiellement faux. Des méthodes ont été proposées pour passer de la distribution forcée à la distribution réelle au court de l'apprentissage, mais c'est compliqué à mettre en oeuvre.\n",
    "\n",
    "Heureusement, il y a les mécanismes d'attention."
   ]
  },
  {
   "cell_type": "code",
   "execution_count": null,
   "metadata": {
    "colab": {
     "base_uri": "https://localhost:8080/",
     "height": 106
    },
    "colab_type": "code",
    "id": "HhYucRe0IEFh",
    "outputId": "6c08ba96-6495-4cb6-a3f5-260b03f8fd23",
    "scrolled": true
   },
   "outputs": [],
   "source": [
    "def generate_seq2seq(model, word):\n",
    "    int_word = [letter_vocab[letter] for letter in word]\n",
    "    x = Variable(torch.LongTensor(int_word).view(1, -1))\n",
    "    hidden = model.encode(x)\n",
    "    \n",
    "    x2 = Variable(torch.zeros((1, 1)).long(), volatile=True)\n",
    "    x2[0, 0] = phoneme_vocab['<start>']\n",
    "    for i in range(200):\n",
    "        y_scores, hidden = model.decode(x2, hidden)\n",
    "        y_pred = torch.max(y_scores, 2)[1]\n",
    "        selected = int(y_pred.data[0, 0].numpy())\n",
    "        if selected == phoneme_vocab['<eos>']:\n",
    "            break\n",
    "        print(rev_phoneme_vocab[selected], end=' ')\n",
    "        x2[0, 0] = selected\n",
    "    print()\n",
    "\n",
    "print(\"rev_phoneme_vocab\",rev_phoneme_vocab)\n",
    "generate_seq2seq(seq2seq_model, 'TALL')"
   ]
  },
  {
   "cell_type": "markdown",
   "metadata": {
    "colab_type": "text",
    "id": "ZsaBZdtzIEFl"
   },
   "source": [
    "Les mechanismes d'attention reprennent l'idée provenant de la cognition humaine que nous pouvons porter notre attention sur un sous-ensemble des entrées plutôt que devoir en appréhender l'integralité en permanence. Pour un problème `seq2seq`, ceci va se traduire en l'utilisation sélective des états cachés des caractères du mot en entrée en fonction du phonème que l'on est en train de générer, plutôt que de prendre le dernier état caché de la séquence.\n",
    "\n",
    "L'encodeur va cette fois renvoyer les sorties du RNN (son état caché à chaque indice) plutôt que le dernier état caché. Le décodeur les sorties du RNN sur les phonèmes, puis transforme ces sorties avec une couche linéaire appelée `attn`. On réalise la multiplication de matrice entre cette sortie transformée et chacun des état cachés sur l'entrée (les caractères du mot) et l'on prend le softmax du résultat (ce type d'attention est appelé attention multiplicative). Ceci donne une distribution sur les entrée que l'on appelle poids d'attention. On peut alors calculer la somme pondérée des états cachés en entrée par ces poids d'attention pour obtenir une représentation de l'entrée contextuelle pour le décodage du phonème courant. C'est la concaténation de cette représentation contextuelle et de la sortie du RNN sur les phonèmes qui est utilisée pour prendre la décision finale.\n",
    "\n",
    "Les choses se compliquent un peu car nous faisons des traitements par batch, et donc les séquences de caractères contiennent du padding. Même si l'on applique la technique vue précédemment pour que l'état caché correspondant aux symboles de padding soit nul, le mechanisme d'attention risque d'utiliser les sorties du RNN à cet endroit pour apprendre des régularités sur la distribution a priori ou la longueur des entrées. Il faut donc s'assurer que le softmax donnera un poids de zéro aux états cachés issus du padding. On utilise un masque calculé sur les entrées par l'encodeur qui est vrai pour chaque symbole de padding, faux sinon. La fonction `masked_fill_()` permet alors de fixer les poids d'attention à $-\\infty$ avant de faire le softmax. Comme le numérateur de ce dernier prend l'exponencielle de ses entrées, on a bien un poids à zéro. Ceci permet aussi de couper la propagation du gradient pour ces composantes. \n",
    "\n",
    "Pour ce qui est de la taille des différentes couches, le RNN sur les caractères est bidirectionnel donc sa sortie est 2 fois la taille de la couche cachée. La couche de transformation s'occupe de projeter l'état caché du RNN sur les phonèmes qui est unidirectionnel (donc elle passe de `hidden_size` à `2 * hidden_size`). La multiplication de matrice traite des matrices de la taille `(batch_size, sequence_length, 2 * hidden_size)` et `(batch_size, 2 * hidden_size, sequence_length)` après transposition. Il en resulte donc une matrice de poids de taille `(batch_size, sequence_length, sequence_length)`. Comme nous avons la même taille de séquences pour les mots et les phonétisations, ce n'est pas facile à interpréter, mais celà correspond en fait à `(batch_size, phoneme_size, word_size)`, donc c'est bien sur la dimensions correspondant aux mots que l'on veut faire le softmax. Finalement, le contexte créé est la somme pondérée des états cachés sur les entrées, de taille `2 * hidden_size`, et l'état caché du RNN sur les phonèmes est de taille `hidden_size`, donc la couche de décision a une entrée de `3 * hidden_size`.\n",
    "\n",
    "Pour rappel sur les RNN :\n",
    "- taille de l'état caché : `(num_layers * num_directions, batch_size, hidden_size)`\n",
    "- taille de la sortie : `(batch_size, sequence_length, num_directions * hidden_size)`\n"
   ]
  },
  {
   "cell_type": "code",
   "execution_count": null,
   "metadata": {
    "colab": {
     "base_uri": "https://localhost:8080/",
     "height": 298
    },
    "colab_type": "code",
    "id": "55iP0xBjIEFq",
    "outputId": "c57f0886-be35-4b3b-9dde-1704c08d44ea",
    "scrolled": true
   },
   "outputs": [],
   "source": [
    "class AttnModel(nn.Module):\n",
    "    def __init__(self):\n",
    "        super().__init__()\n",
    "        self.letter_embed = nn.Embedding(len(letter_vocab), embed_size, padding_idx=letter_vocab['<eos>'])\n",
    "        self.phoneme_embed = nn.Embedding(len(phoneme_vocab), embed_size)\n",
    "        self.letter_rnn = nn.GRU(embed_size, hidden_size, num_layers=1, dropout=0.3, bias=False, bidirectional=True, batch_first=True)\n",
    "        self.phoneme_rnn = nn.GRU(embed_size, hidden_size, num_layers=1, dropout=0.3, batch_first=True)\n",
    "        self.attn = nn.Linear(hidden_size, hidden_size * 2)\n",
    "        self.decision = nn.Linear(hidden_size * 3, len(phoneme_vocab))\n",
    "    \n",
    "    def encode(self, word):\n",
    "        mask = (word == 0)\n",
    "        embed = self.letter_embed(word)\n",
    "        output, h_n = self.letter_rnn(embed)\n",
    "        return output, mask\n",
    "    \n",
    "    def decode(self, phones, states, mask, h_0=None):\n",
    "        embed = self.phoneme_embed(phones)\n",
    "        output, h_n = self.phoneme_rnn(embed, h_0)\n",
    "        \n",
    "        a1 = self.attn(output)\n",
    "        a2 = a1.bmm(states.transpose(1, 2))\n",
    "        a2.data.masked_fill_(mask.unsqueeze(1).data, -float('inf'))\n",
    "        attn_weights = F.softmax(a2, 2)\n",
    "        context = attn_weights.bmm(states)\n",
    "        \n",
    "        scores = self.decision(torch.cat([context, output], 2))\n",
    "        return scores, h_n, attn_weights\n",
    "    \n",
    "    def forward(self, word, phones):\n",
    "        states, mask = self.encode(word)\n",
    "        output, h_n, attn_weights = self.decode(phones, states, mask)\n",
    "        return output\n",
    "\n",
    "attn_model = AttnModel()\n",
    "print(attn_model)\n",
    "print(attn_model(Variable(X[:3]), Variable(Y[:3])).size())"
   ]
  },
  {
   "cell_type": "markdown",
   "metadata": {
    "colab_type": "text",
    "id": "J8oXJFaIIEFw"
   },
   "source": [
    "On peut entraîner ce modèle et l'on doit normalement obtenir des loss plus faibles sur l'ensemble de validation que pour l'encodeur-décodeur sans attention."
   ]
  },
  {
   "cell_type": "code",
   "execution_count": null,
   "metadata": {
    "colab": {
     "base_uri": "https://localhost:8080/",
     "height": 260
    },
    "colab_type": "code",
    "id": "Cu0GAYm3IEFx",
    "outputId": "fba04b21-f793-4b50-de8f-aca24ff479db"
   },
   "outputs": [],
   "source": [
    "fit(attn_model, 10)"
   ]
  },
  {
   "cell_type": "markdown",
   "metadata": {
    "colab_type": "text",
    "id": "IowOOdCOIEF3"
   },
   "source": [
    "Exercice\n",
    "---------\n",
    "\n",
    "Faire une fonction de génération sur le modèle de `generate_seq2seq()` pour le modèle avec attention. Il n'y a qu'à changer l'appel aux fonction `encode` et `decode` pour passer les bons paramètres, et produire un état caché de départ à zéro pour le décodeur comme dans le modèle de langage.\n",
    "\n",
    "Plutôt que de prendre le phonème le plus probable en décodage, nous pourrions le tirer aléatoirement dans la distribution de scores. Modifier la fonction en ce sens, et collectez des statistiques sur les résultats de 100 tirages pour le mot \"BONJOUR\". Quelle est la phonéistation la plus courrament générée ?"
   ]
  },
  {
   "cell_type": "code",
   "execution_count": null,
   "metadata": {
    "colab": {},
    "colab_type": "code",
    "id": "lPYG9N1VIEF3",
    "scrolled": false,
    "tags": [
     "solution"
    ]
   },
   "outputs": [],
   "source": []
  },
  {
   "cell_type": "markdown",
   "metadata": {
    "colab_type": "text",
    "id": "2Fne_aVIIEF-"
   },
   "source": [
    "On peut aussi demander au modèle de nous renvoyer la matrice d'attention pour pouvoir analyser les états cachés utilisés par le modèle pour faire ses prédictions. Il est intéressant de voir que le modèle apprend à ignorer les muettes. L'attention multiplicatie calcule une similarité entre les états cachés en entrée et en sortie (transformés) et a donc tendance à être forte lorsque les symboles sont systématiquement la traduction l'un de l'autre car le modèle peut apprendre une représentation similaire pour un caractère et un phonème."
   ]
  },
  {
   "cell_type": "code",
   "execution_count": null,
   "metadata": {
    "colab": {
     "base_uri": "https://localhost:8080/",
     "height": 306
    },
    "colab_type": "code",
    "id": "c9uiD1tAIEGM",
    "outputId": "4b228bf2-d97f-454d-d46d-908aecfa2b8d"
   },
   "outputs": [],
   "source": [
    "def show_attn(attn_model, word):\n",
    "    int_word = [letter_vocab[letter] for letter in word]\n",
    "    x = Variable(torch.LongTensor(int_word).view(1, -1))\n",
    "    states, mask = attn_model.encode(x)\n",
    "    \n",
    "    x2 = Variable(torch.zeros((1, 1)).long(), volatile=True)\n",
    "    x2[0, 0] = phoneme_vocab['<start>']\n",
    "    hidden = Variable(torch.zeros(1, 1, hidden_size))\n",
    "    result = []\n",
    "    attn_matrix = []\n",
    "    for i in range(200):\n",
    "        y_scores, hidden, attn = attn_model.decode(x2, states, mask, hidden)\n",
    "        attn_matrix.append(attn.squeeze().data.tolist())\n",
    "        y_pred = torch.max(y_scores, 2)[1]\n",
    "        selected = int(y_pred.data[0, 0].numpy())\n",
    "        result.append(rev_phoneme_vocab[selected])\n",
    "        if selected == phoneme_vocab['<eos>']:\n",
    "            break\n",
    "        x2[0, 0] = selected\n",
    "    \n",
    "    plt.matshow(attn_matrix)\n",
    "    plt.xticks(range(len(word)), word)\n",
    "    plt.yticks(range(len(result)), result)\n",
    "    plt.show()\n",
    "\n",
    "show_attn(attn_model, 'THOROUGH')"
   ]
  },
  {
   "cell_type": "markdown",
   "metadata": {
    "colab_type": "text",
    "id": "KNZKxOnMIEGQ"
   },
   "source": [
    "Pour aller plus loin\n",
    "--------------------\n",
    "\n",
    "- Apprendre un système qui regénère les mots à partir de la séquence de phonèmes. Lexique3 (http://www.lexique.org/) contient par exemple des phonétisations pour le français qui est beaucoup plus ambigu que l'anglais.\n",
    "- Ce modèle est la base d'un système de traduction comme openNMT (http://opennmt.net/). On peut entraîner un petit système de traduction sur les mots et obtenir des bons résultats. Il est recommandé d'appliquer la méthode du \"byte pair encoding\" pour créer des symboles pour les facteurs de mots fréquents et limiter ainsi le nombre de symboles différents à prédire.\n",
    "- On peut implémenter plusieurs têtes d'attention avec des parmètres différents qui agissent en parallèle et peuvent se focaliser sur des états cachés localisés à différents endroits des entrées.\n",
    "- Le modèle `seq2seq` est bon pour traiter des problèmes de transduction pour lesquels il y a un alignement entre les entrées et les sorties. Un tel modèle est-il capable d'apprendre des concepts plus abstraits comme calculer le résutlat d'une expression mathématique à partir des caractères qui la constituent (par exemple $2\\times(3+4) \\to 14$) ?   "
   ]
  },
  {
   "cell_type": "code",
   "execution_count": null,
   "metadata": {
    "colab": {},
    "colab_type": "code",
    "id": "43vTkQQ6IEGU"
   },
   "outputs": [],
   "source": []
  }
 ],
 "metadata": {
  "accelerator": "GPU",
  "colab": {
   "collapsed_sections": [],
   "name": "dl4nlp-pytorch-6-seq2seq.ipynb",
   "provenance": [],
   "version": "0.3.2"
  },
  "kernelspec": {
   "display_name": "Python 3",
   "language": "python",
   "name": "python3"
  },
  "language_info": {
   "codemirror_mode": {
    "name": "ipython",
    "version": 3
   },
   "file_extension": ".py",
   "mimetype": "text/x-python",
   "name": "python",
   "nbconvert_exporter": "python",
   "pygments_lexer": "ipython3",
   "version": "3.7.3"
  }
 },
 "nbformat": 4,
 "nbformat_minor": 1
}
