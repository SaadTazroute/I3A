{
 "cells": [
  {
   "cell_type": "markdown",
   "metadata": {
    "colab_type": "text",
    "id": "HaQ0bqCjL7Rw"
   },
   "source": [
    "La modélisation du langage consiste à apprendre la distribution de probabilité du mot suivant étant donné un historique. Ici, nous allons créer un modèle de langage sur des caractères pour apprendre à générer des titres de films de science fiction.\n",
    "\n",
    "Le jeu de données provient d'IMDB qui permet d'accèder à de nombreuses infos sur les films, et en plus donne ces données en téléchargement libre (http://www.imdb.com/interfaces/).\n",
    "\n",
    "Le fichier movies-sf.txt contient des noms de films suivis de leur année de sortie entre parenthèses extraits à partir de la base de données IMDB à l'aide de la commande awk en commentaire."
   ]
  },
  {
   "cell_type": "code",
   "execution_count": null,
   "metadata": {
    "colab": {
     "base_uri": "https://localhost:8080/",
     "height": 34
    },
    "colab_type": "code",
    "id": "P6fYtflrL-2Q",
    "outputId": "ec7bdf41-949d-4c45-8b6c-07827fd1e85d"
   },
   "outputs": [],
   "source": [
    "! pip install torch"
   ]
  },
  {
   "cell_type": "code",
   "execution_count": null,
   "metadata": {
    "colab": {},
    "colab_type": "code",
    "id": "9Gn3KbQ0L7R0"
   },
   "outputs": [],
   "source": [
    "%matplotlib inline"
   ]
  },
  {
   "cell_type": "code",
   "execution_count": null,
   "metadata": {
    "colab": {
     "base_uri": "https://localhost:8080/",
     "height": 191
    },
    "colab_type": "code",
    "id": "WcyhOo9qL7R-",
    "outputId": "b04dd065-741f-442d-e1f9-c511cb5683c7"
   },
   "outputs": [],
   "source": [
    "%%bash\n",
    "#wget https://datasets.imdbws.com/title.basics.tsv.gz\n",
    "#zcat title.basics.tsv.gz | awk -F\"\\t\" '$2==\"movie\" && $5==0 && /Sci-Fi/ && $6!=\"\\\\N\"{print $3\" (\"$6\")\"}' | iconv -f utf8 -t ascii//TRANSLIT | sort -u | shuf > movies-sf.txt\n",
    "[ -f movies-sf.txt ] || wget -q http://pageperso.lif.univ-mrs.fr/~benoit.favre/files/movies-sf.txt\n",
    "head movies-sf.txt"
   ]
  },
  {
   "cell_type": "markdown",
   "metadata": {
    "colab_type": "text",
    "id": "VF2WFG8jL7SE"
   },
   "source": [
    "Nous allons charger les titres caractère par caractère et encoder ces derniers sous forme d'entiers. Le vocabulaire est produit avec un `defaultdict` qui donne un nouvel identifiant à chaque nouveau caractère rencontré. Nous ajoutons deux caractères spéciaux : \n",
    "- le symbole `<eos>` pour le padding\n",
    "- le symbole `<start>` qui indique le début de la séquence\n",
    "\n",
    "Le problème va être posé comme prédire le caractère suivant étant donné le caractère courant et un état caché, et nous avons donc besoin d'un symbole `<start>` pour prédire le premier caractère. La fin d'un texte sera prédite par la première occurrence d'un symbole `<eos>`. \n",
    "\n",
    "Nous pouvons tout de suite créer un vocabulaire inversé pour vérifier le contenu des données chargées."
   ]
  },
  {
   "cell_type": "code",
   "execution_count": null,
   "metadata": {
    "colab": {
     "base_uri": "https://localhost:8080/",
     "height": 106
    },
    "colab_type": "code",
    "id": "OXaatYjSL7SH",
    "outputId": "0426c1ac-03ac-47b8-a2d8-3ced0982d1fa"
   },
   "outputs": [],
   "source": [
    "import collections\n",
    "vocab = collections.defaultdict(lambda: len(vocab))\n",
    "vocab['<eos>'] = 0\n",
    "vocab['<start>'] = 1\n",
    "\n",
    "int_texts = []\n",
    "with open('movies-sf.txt', 'r') as fp:\n",
    "    for line in fp:\n",
    "        int_texts.append([vocab['<start>']] + [vocab[char] for char in line.strip()])\n",
    "\n",
    "rev_vocab = {y: x for x, y in vocab.items()}\n",
    "\n",
    "print(rev_vocab)\n",
    "print(len(int_texts))\n",
    "\n",
    "print(int_texts[42])\n",
    "print(''.join([rev_vocab[x] for x in int_texts[42]]))"
   ]
  },
  {
   "cell_type": "markdown",
   "metadata": {
    "colab_type": "text",
    "id": "hrVeVD59L7SO"
   },
   "source": [
    "Afin de bien choisir la longueur maximale sur laquelle le modèle va être entrainé, affichons l'histograme des longueurs de séquences."
   ]
  },
  {
   "cell_type": "code",
   "execution_count": null,
   "metadata": {
    "colab": {
     "base_uri": "https://localhost:8080/",
     "height": 265
    },
    "colab_type": "code",
    "id": "viewtd04L7SQ",
    "outputId": "c4ba0776-c71e-46e6-9df3-9a17ca59ae94"
   },
   "outputs": [],
   "source": [
    "from matplotlib import pyplot as plt\n",
    "\n",
    "plt.hist([len(text) for text in int_texts])\n",
    "plt.show()"
   ]
  },
  {
   "cell_type": "markdown",
   "metadata": {
    "colab_type": "text",
    "id": "eXjKQvzXL7SV"
   },
   "source": [
    "Il semble qu'une longeur maximale de 40 permettra de traiter une bonne partie des titres."
   ]
  },
  {
   "cell_type": "code",
   "execution_count": null,
   "metadata": {
    "colab": {},
    "colab_type": "code",
    "id": "7-CFO4DEL7SX"
   },
   "outputs": [],
   "source": [
    "import torch\n",
    "import torch.nn as nn\n",
    "import torch.nn.functional as F\n",
    "import torch.optim as optim\n",
    "from torch.autograd import Variable\n",
    "\n",
    "max_len = 40\n",
    "batch_size = 8\n",
    "embed_size = 16\n",
    "hidden_size = 64"
   ]
  },
  {
   "cell_type": "markdown",
   "metadata": {
    "colab_type": "text",
    "id": "xqQNx5PyL7Sc"
   },
   "source": [
    "Le problème est similaire à un problème de tagging sauf que l'étiquette à prédire est le caractère suivant, donc nous devons agencer les tenseurs de manière à ce que $y_{t} = x_{t+1}$. Il faut calculer la longueur après coupure des séquences les plus longues, puis créer un tenseur à partir du texte pour $x$ et un tenseur à partir du texte décalé de 1 vers la gauche pour $y$.\n",
    "\n",
    "N'oublions pas de vérifier que les données ont la bonne forme."
   ]
  },
  {
   "cell_type": "code",
   "execution_count": null,
   "metadata": {
    "colab": {
     "base_uri": "https://localhost:8080/",
     "height": 89
    },
    "colab_type": "code",
    "id": "ctbYfSVjL7Sh",
    "outputId": "ed029f7d-e838-44e8-8533-cc71974f26de"
   },
   "outputs": [],
   "source": [
    "X = torch.zeros(len(int_texts), max_len).long()\n",
    "Y = torch.zeros(len(int_texts), max_len).long()\n",
    "\n",
    "for i, text in enumerate(int_texts):\n",
    "    length = min(max_len, len(text) - 1) + 1\n",
    "    X[i,:length - 1] = torch.LongTensor(text[:length - 1])\n",
    "    Y[i,:length - 1] = torch.LongTensor(text[1:length])\n",
    "\n",
    "print(X[42].tolist())\n",
    "print(Y[42].tolist())\n",
    "print([rev_vocab[y] for y in Y[42].tolist()])"
   ]
  },
  {
   "cell_type": "markdown",
   "metadata": {
    "colab_type": "text",
    "id": "spzoxcZ7L7Sp"
   },
   "source": [
    "Nous découpons les données en un ensemble d'entraînement et un ensemble de validation, puis les outils pytorch pour créer des batches mélangés sont utilisés comme d'habitude."
   ]
  },
  {
   "cell_type": "code",
   "execution_count": null,
   "metadata": {
    "colab": {},
    "colab_type": "code",
    "id": "ehNEE2r4L7Sr"
   },
   "outputs": [],
   "source": [
    "X_train = X[:6500]\n",
    "Y_train = Y[:6500]\n",
    "X_valid = X[6500:]\n",
    "Y_valid = Y[6500:]\n",
    "\n",
    "from torch.utils.data import TensorDataset, DataLoader\n",
    "train_set = TensorDataset(X_train, Y_train)\n",
    "valid_set = TensorDataset(X_valid, Y_valid)\n",
    "\n",
    "train_loader = DataLoader(train_set, batch_size=batch_size, shuffle=True)\n",
    "valid_loader = DataLoader(valid_set, batch_size=batch_size)"
   ]
  },
  {
   "cell_type": "markdown",
   "metadata": {
    "colab_type": "text",
    "id": "TXdsUMvoL7Sy"
   },
   "source": [
    "Le modèle ressemble beaucoup à un taggeur. La première différence est qu'il ne peut pas être bidirectionnel, puisque la causalité est importante (on va générer des textes caractère par caratère en partant de `<start>`). La seconde différence est que la fonction `forward` va prendre un nouveau paramètre optionnel, l'état caché au temps précédent, et renvoyer non seulmenent les scores générés par le modèle, mais le nouvel état caché après avoir vu la séquence représentée dans `x`. Ceci sera nécessire pour la génération caractère par caractère. "
   ]
  },
  {
   "cell_type": "code",
   "execution_count": null,
   "metadata": {
    "colab": {
     "base_uri": "https://localhost:8080/",
     "height": 159
    },
    "colab_type": "code",
    "id": "pY84K9NkL7Sz",
    "outputId": "6b04046d-a7be-4c4c-d78c-bc11ddf105e8"
   },
   "outputs": [],
   "source": [
    "class LM(nn.Module):\n",
    "    def __init__(self):\n",
    "        super().__init__()\n",
    "        self.embed = nn.Embedding(len(vocab), embed_size, padding_idx=vocab['<eos>'])\n",
    "        self.rnn = nn.GRU(embed_size, hidden_size,  bias=False, num_layers=1, dropout=0.3, batch_first=True)\n",
    "        self.decision = nn.Linear(hidden_size, len(vocab))\n",
    "    \n",
    "    def forward(self, x, h_0=None):\n",
    "        embed = self.embed(x)\n",
    "        output, h_n = self.rnn(embed, h_0)\n",
    "        return self.decision(output), h_n\n",
    "\n",
    "model = LM()\n",
    "model"
   ]
  },
  {
   "cell_type": "markdown",
   "metadata": {
    "colab_type": "text",
    "id": "K-7lqWY0L7S6"
   },
   "source": [
    "On peut tester le modèle sur un batch. Il n'est pas obligatoire de passer un état caché initial (le module GRU s'en occupe si l'état caché passé est à `None`), mais on doit récupérer le nouvel état caché même si nous n'allons pas l'utiliser.\n",
    "\n",
    "Remarquons que les sorties sont de taille `(batch_size, sequence_length, num_labels)` et l'état caché `(num_layers, batch_size, hidden_size)`."
   ]
  },
  {
   "cell_type": "code",
   "execution_count": null,
   "metadata": {
    "colab": {
     "base_uri": "https://localhost:8080/",
     "height": 34
    },
    "colab_type": "code",
    "id": "EtQheQcRL7S8",
    "outputId": "a8b4a52d-2582-49d6-8725-ddc655a751cd"
   },
   "outputs": [],
   "source": [
    "output, hidden = model(Variable(X[:2]))\n",
    "print(output.size(), hidden.size())"
   ]
  },
  {
   "cell_type": "markdown",
   "metadata": {
    "colab_type": "text",
    "id": "DpkP_lhQL7TA"
   },
   "source": [
    "Il n'y a très peu de différences avec l'évaluation des performances pour un taggeur. Il faut penser que le modèle renvoie maintenant deux résultats (les scores et l'état caché) et donc mettre l'état caché dans une variable qui ne sert à rien.\n",
    "\n",
    "À la place du taux de corrects, nous allons calculer la perplexité du modèle sur les données.\n",
    "\n",
    "$\n",
    "PP(x) = P(x)^{-\\frac{1}{N}} = \\left[\\prod_i P(x_i)\\right]^{-\\frac{1}{N}}\n",
    "$\n",
    "\n",
    "où $x$ est une séquence de mots, $P(x)=\\prod_i P(x_i)$ est la probabilité donnée par le modèle à cette séquence, et $N$ est sa longueur. On peut réécrire ce calcul en domaine log :\n",
    "\n",
    "$\n",
    "PP(x) = exp\\left(-\\frac{1}{N}\\sum_i \\log P(x_i)\\right)\n",
    "$\n",
    "\n",
    "Il se trouve que la fonction de loss renvoie $-\\frac{1}{N}\\log P(x_i)$, donc il suffit de calculer l'exponentielle du loss moyen pour obtenir la perplexité. Cette perplexité n'est pas masquée pour éliminer le padding, donc elle est influencée par ce dernier (on ne pourrait pas profiter de la fonction de loss si l'on souhaitait ignorer le padding)."
   ]
  },
  {
   "cell_type": "code",
   "execution_count": null,
   "metadata": {
    "colab": {
     "base_uri": "https://localhost:8080/",
     "height": 104
    },
    "colab_type": "code",
    "id": "KHqnyOpcL7TD",
    "outputId": "826d8ddc-5b8c-46cc-905c-6ce3c0d5a33c"
   },
   "outputs": [],
   "source": [
    "import math\n",
    "\n",
    "def perf(model, loader):\n",
    "    criterion = nn.CrossEntropyLoss()\n",
    "    model.eval()\n",
    "    total_loss = num = 0\n",
    "    for x, y in loader:\n",
    "        y_scores, _ = model(Variable(x, volatile=True))\n",
    "        loss = criterion(y_scores.view(y.size(0) * y.size(1), -1), Variable(y.view(y.size(0) * y.size(1)), volatile=True))\n",
    "        total_loss += loss.data\n",
    "        num += len(y)\n",
    "    return total_loss / num, math.exp(total_loss / num)\n",
    "\n",
    "perf(model, valid_loader)"
   ]
  },
  {
   "cell_type": "markdown",
   "metadata": {
    "colab_type": "text",
    "id": "tpf4nPSoL7TH"
   },
   "source": [
    "L'apprentissage est le même que pour le taggeur sauf qu'il faut prendre en compte l'état caché."
   ]
  },
  {
   "cell_type": "code",
   "execution_count": null,
   "metadata": {
    "colab": {
     "base_uri": "https://localhost:8080/",
     "height": 260
    },
    "colab_type": "code",
    "id": "VUGmOAxXL7TK",
    "outputId": "30c830df-4cb6-4ab6-f3c4-2b16ed325368"
   },
   "outputs": [],
   "source": [
    "def fit(model, epochs):\n",
    "    criterion = nn.CrossEntropyLoss()\n",
    "    optimizer = optim.Adam(model.parameters())\n",
    "    for epoch in range(epochs):\n",
    "        model.train()\n",
    "        total_loss = num = 0\n",
    "        for x, y in train_loader:\n",
    "            optimizer.zero_grad()\n",
    "            y_scores, _ = model(Variable(x))\n",
    "            loss = criterion(y_scores.view(y.size(0) * y.size(1), -1), Variable(y.view(y.size(0) * y.size(1))))\n",
    "            loss.backward()\n",
    "            optimizer.step()\n",
    "            total_loss += loss.data\n",
    "            num += len(y)\n",
    "        print(epoch, total_loss / num, *perf(model, valid_loader))\n",
    "\n",
    "fit(model, 10)"
   ]
  },
  {
   "cell_type": "markdown",
   "metadata": {
    "colab_type": "text",
    "collapsed": true,
    "id": "CKFmuzZAL7TR"
   },
   "source": [
    "Écrivons maintenant une fonction de génération. Cette dernère créé un tenseur $x$ contenant le symbole `<start>`, et un état caché à 0. Puis, elle repète l'application du modèle sur $x$ et l'état caché, pour générer un nouvel état caché et un vecteur de $y_{\\mathrm{scores}}$ sur les caractères. On peut alors sélectionner la composante de plus haut score, l'afficher et mettre à jour $x$ pour qu'il contienne le symbole généré. Il suffit ensuite de boucler jusqu'à la génération de `<eos>`.\n",
    "\n",
    "Le modèle génère toujours la même séquence de caractères, la séquence la plus probable étant donné le corpus d'apprentissage."
   ]
  },
  {
   "cell_type": "code",
   "execution_count": null,
   "metadata": {
    "colab": {
     "base_uri": "https://localhost:8080/",
     "height": 104
    },
    "colab_type": "code",
    "id": "E83A7KupL7TT",
    "outputId": "2cdbd0c0-7921-4314-aed6-a9a74fecc4df"
   },
   "outputs": [],
   "source": [
    "#import torch.nn.functional as F\n",
    "def generate_most_probable(model):\n",
    "    x = Variable(torch.zeros((1, 1)).long(), volatile=True)\n",
    "    x[0, 0] = vocab['<start>']\n",
    "    # size for hidden: (batch, num_layers * num_directions, hidden_size)\n",
    "    hidden = Variable(torch.zeros(1, 1, hidden_size), volatile=True)\n",
    "    for i in range(200):\n",
    "        y_scores, hidden = model(x, hidden)\n",
    "        y_pred = torch.max(y_scores, 2)[1]\n",
    "        selected = int(y_pred.data[0, 0].numpy())\n",
    "        if selected == vocab['<eos>']:\n",
    "            break\n",
    "        print(rev_vocab[selected], end='')\n",
    "        x[0, 0] = selected\n",
    "    print()\n",
    "\n",
    "generate_most_probable(model)"
   ]
  },
  {
   "cell_type": "markdown",
   "metadata": {
    "colab_type": "text",
    "id": "HcofTUhsL7TX"
   },
   "source": [
    "Exercice\n",
    "---------\n",
    "\n",
    "Plutôt que de sélectionner le caractère ayant la plus grande probabilité, on peut tirer aléatoirement un caractère dans la distribution de probabilité après softmax. Utilisez `F.softmax` et `torch.multinomial` pour tirer aléatoirement un élément $s \\sim softmax(y_{\\textrm{scores}})$ dans la distribution des scores, et l'utiliser comme élément sélectionné à la place de celui issu du $max$.\n",
    "\n",
    "On peut diviser les scores par une température $\\theta$ avant de faire le softmax pour tasser la distriution. Une valeur de $\\theta<1$ poussera le modèle à prendre moins de risque et générer des caractères plus probables, alors que $\\theta>1$ lui fera prendre plus de risques et générer des séquences moins probables. En général, $\\theta=0.7$ donne des résultas satisfaisants.\n",
    "\n",
    "Générez 100 séquences avec cette méthode.\n",
    "\n",
    "Pour aller plus loin\n",
    "-----------------------\n",
    "\n",
    "- Implementez Beam Search pour decoder les sequences en sortie. Ceci pour les cas avec et sans temperature"
   ]
  },
  {
   "cell_type": "code",
   "execution_count": null,
   "metadata": {},
   "outputs": [],
   "source": [
    "import torch.nn.functional as F\n",
    "\n",
    "\n",
    "def beam(model,k=10):\n",
    "    x = Variable(torch.zeros((1, 1)).long(), volatile=True)\n",
    "    x[0, 0] = vocab['<start>']\n",
    "    # size for hidden: (batch, num_layers * num_directions, hidden_size)\n",
    "    hidden = Variable(torch.zeros(1, 1, hidden_size), volatile=True)\n",
    "    \n",
    "    resp_hid, resp_seq, resp_prob, resp_stop = peek_next(x, hidden, k, [], 0.0)\n",
    "    \n",
    "    # Je dois continuer à chercher jusqu'à que mon beam soit plein de\n",
    "    # sequences completes (c-a-d avec un <eos> à la fin)\n",
    "    while( not all(resp_stop) ):\n",
    "      \n",
    "      # Parmi tous les chemins possibes, j'explore uniquement les K le plus probales \n",
    "      id_best_probas = sorted(range(len(resp_prob)), key=lambda k: resp_prob[k], reverse=True)\n",
    "      peek_seq  = []\n",
    "      peek_prob = []\n",
    "      peek_stop = []\n",
    "      peek_hid  = []\n",
    "      \n",
    "      for i in id_best_probas[0:k]:\n",
    "        \n",
    "        # Si j'arrive a <eos> je ne continue pas à explorer cette sequence\n",
    "        if(resp_stop[i]):\n",
    "          peek_seq  += [resp_seq[i]]\n",
    "          peek_prob += [resp_prob[i]]\n",
    "          peek_stop += [resp_stop[i]]\n",
    "          peek_hid  += [resp_hid[i]]\n",
    "        \n",
    "        # Autrement je regarde les top K de l'étape suivante\n",
    "        else:\n",
    "          x[0, 0] = resp_seq[i][-1]\n",
    "          p = resp_prob[i]\n",
    "          h = resp_hid[i]\n",
    "          new_hidden, new_seq, new_prob, new_stop = peek_next(x, h, k, resp_seq[i], p)\n",
    "          peek_seq  += new_seq\n",
    "          peek_prob += new_prob\n",
    "          peek_stop += new_stop\n",
    "          peek_hid  += new_hidden\n",
    "      \n",
    "    \n",
    "      # mettre a jour mes listes avec les sequences que je viens de calculer\n",
    "      resp_seq  = peek_seq\n",
    "      resp_prob = peek_prob\n",
    "      resp_stop = peek_stop\n",
    "      resp_hid  = peek_hid   \n",
    "      \n",
    "    # Trier et imprimer les top K\n",
    "    id_best_probas = sorted(range(len(resp_prob)), key=lambda k: resp_prob[k], reverse=True)\n",
    "    for i in id_best_probas[0:k]: \n",
    "      for j in resp_seq[i][0:-1]:\n",
    "        print(rev_vocab[j], end='')\n",
    "      print('')\n",
    "\n",
    "\n",
    "# Peek est pour recuperer les K suites les plus probables d'une sequence\n",
    "def peek_next(x, hidden, k, previous, logproba):\n",
    "  \n",
    "  y_scores, hidden = model(x, hidden)\n",
    "  # faut appliquer softmax et log pour avoir les log-likelihoods\n",
    "  # le logarithme n'est pas necessaire, mais a ce moment là il faut multiplier\n",
    "  # les probabilités et non pas faire la somme.\n",
    "  y_logproba = torch.log(F.softmax(y_scores, dim=-1))\n",
    "  y_sort = torch.sort(y_logproba[0,0], descending=True)\n",
    "\n",
    "  resp_seq  = []\n",
    "  resp_prob = []\n",
    "  resp_stop = []\n",
    "  for i in range(k):\n",
    "    probas = y_sort[0][i].data\n",
    "    charid = y_sort[1][i]\n",
    "    \n",
    "    nextlogproba = logproba + probas\n",
    "    selected = int(charid.data.numpy())\n",
    "    seq = previous[:] + [selected] \n",
    "    resp_seq.append(seq)\n",
    "    resp_prob.append(nextlogproba)\n",
    "    \n",
    "    # stocker dans une liste si la sequence est complète ou pas\n",
    "    if selected == vocab['<eos>']:\n",
    "      resp_stop.append(True)\n",
    "    else:\n",
    "      resp_stop.append(False)\n",
    "  \n",
    "  return [hidden for _ in range(k)], resp_seq, resp_prob, resp_stop\n",
    "\n",
    "   \n",
    "beam(model)"
   ]
  },
  {
   "cell_type": "code",
   "execution_count": null,
   "metadata": {},
   "outputs": [],
   "source": []
  }
 ],
 "metadata": {
  "colab": {
   "collapsed_sections": [],
   "name": "Copy of benoit-language-models.ipynb",
   "provenance": [],
   "version": "0.3.2"
  },
  "kernelspec": {
   "display_name": "Python 3",
   "language": "python",
   "name": "python3"
  },
  "language_info": {
   "codemirror_mode": {
    "name": "ipython",
    "version": 3
   },
   "file_extension": ".py",
   "mimetype": "text/x-python",
   "name": "python",
   "nbconvert_exporter": "python",
   "pygments_lexer": "ipython3",
   "version": "3.7.3"
  }
 },
 "nbformat": 4,
 "nbformat_minor": 1
}
