{
 "cells": [
  {
   "cell_type": "markdown",
   "metadata": {
    "colab_type": "text",
    "collapsed": true,
    "id": "21Rlgn76ak3p"
   },
   "source": [
    "Pytorch tensors\n",
    "=============\n",
    "\n",
    "`pytorch` est une librairie de fonctions sur les tenseurs avec la plupart des fonctionnalités de numpy mais une api un peu différente. La documentation de référence est dispo en ligne : https://pytorch.org/docs/.\n",
    "\n",
    "Cette documentation n'est pas très avenante mais il est souvent utile de s'y référer lorsque l'on veut obtenir des résultats un peu exotiques. Ce notebook présente quelques fonctionnalités pratiques.\n",
    "\n",
    "Commençons par créer une matrice d'entiers aléatoires de taille (3, 6), et afficher sa transposée : "
   ]
  },
  {
   "cell_type": "code",
   "execution_count": 1,
   "metadata": {
    "colab": {},
    "colab_type": "code",
    "id": "3M6gz2vcak3s"
   },
   "outputs": [
    {
     "name": "stdout",
     "output_type": "stream",
     "text": [
      "tensor([[13,  2, 14, 17,  7, 16],\n",
      "        [ 8,  1, 15, 17, 14,  4],\n",
      "        [17,  5, 10, 11,  9, 18]])\n",
      "tensor([[13,  8, 17],\n",
      "        [ 2,  1,  5],\n",
      "        [14, 15, 10],\n",
      "        [17, 17, 11],\n",
      "        [ 7, 14,  9],\n",
      "        [16,  4, 18]])\n"
     ]
    }
   ],
   "source": [
    "import torch\n",
    "import torch.nn as nn\n",
    "\n",
    "x = (torch.rand(3, 6) * 20).long()\n",
    "print(x)\n",
    "print(x.t())"
   ]
  },
  {
   "cell_type": "markdown",
   "metadata": {
    "colab_type": "text",
    "id": "CWfiyChXak33"
   },
   "source": [
    "Cette matrice peut être redimensionnée en un tenseur du même nombre d'étélments mais avec d'autres dimensions en utlisant `view()`. Si on remplace une dimension par -1, celle ci est calculée automatiquement. La fonction `transpose()` permet de transposer deux dimensions en particulier; la fonction `size()`, ou `shape` dans les versions récentes de pytorch, donne les dimensions du tenseur."
   ]
  },
  {
   "cell_type": "code",
   "execution_count": 2,
   "metadata": {
    "colab": {},
    "colab_type": "code",
    "id": "GXqchRCeak36"
   },
   "outputs": [
    {
     "name": "stdout",
     "output_type": "stream",
     "text": [
      "tensor([[[13,  2, 14],\n",
      "         [17,  7, 16]],\n",
      "\n",
      "        [[ 8,  1, 15],\n",
      "         [17, 14,  4]],\n",
      "\n",
      "        [[17,  5, 10],\n",
      "         [11,  9, 18]]])\n",
      "tensor([[13,  2],\n",
      "        [14, 17],\n",
      "        [ 7, 16],\n",
      "        [ 8,  1],\n",
      "        [15, 17],\n",
      "        [14,  4],\n",
      "        [17,  5],\n",
      "        [10, 11],\n",
      "        [ 9, 18]])\n",
      "torch.Size([2, 3, 3])\n"
     ]
    }
   ],
   "source": [
    "y = x.view(3, 2, 3)\n",
    "print(y)\n",
    "print(y.view(9, -1))\n",
    "print(y.transpose(0, 1).shape)"
   ]
  },
  {
   "cell_type": "markdown",
   "metadata": {
    "colab_type": "text",
    "id": "uBaAD_n5ak3_"
   },
   "source": [
    "La fonction `size(d)` peut aussi donner la taille d'un axe en particulier, et la fonction `numel` renvoie le nombre d'éléments du tenseur."
   ]
  },
  {
   "cell_type": "code",
   "execution_count": 3,
   "metadata": {
    "colab": {},
    "colab_type": "code",
    "id": "sbbI_j24ak4A"
   },
   "outputs": [
    {
     "name": "stdout",
     "output_type": "stream",
     "text": [
      "2\n",
      "18\n"
     ]
    }
   ],
   "source": [
    "print(y.shape[1])\n",
    "print(y.numel())"
   ]
  },
  {
   "cell_type": "markdown",
   "metadata": {
    "colab_type": "text",
    "id": "8zrdGklzak4I"
   },
   "source": [
    "Il est possible de convertir un tenseur vers une représentation numpy et inversement."
   ]
  },
  {
   "cell_type": "code",
   "execution_count": 4,
   "metadata": {
    "colab": {},
    "colab_type": "code",
    "id": "LvJc_SqOak4K"
   },
   "outputs": [
    {
     "data": {
      "text/plain": [
       "tensor([[[13,  2, 14],\n",
       "         [17,  7, 16]],\n",
       "\n",
       "        [[ 8,  1, 15],\n",
       "         [17, 14,  4]],\n",
       "\n",
       "        [[17,  5, 10],\n",
       "         [11,  9, 18]]])"
      ]
     },
     "execution_count": 4,
     "metadata": {},
     "output_type": "execute_result"
    }
   ],
   "source": [
    "numpy_y = y.numpy()\n",
    "torch.from_numpy(numpy_y)"
   ]
  },
  {
   "cell_type": "markdown",
   "metadata": {
    "colab_type": "text",
    "id": "89d29_gDak4P"
   },
   "source": [
    "On peut ajouter des dimensions de taille 1 avec `unsqueeze()` et les supprimer avec `squeeze()`"
   ]
  },
  {
   "cell_type": "code",
   "execution_count": 5,
   "metadata": {
    "colab": {},
    "colab_type": "code",
    "id": "Fqt2U-IIak4Q"
   },
   "outputs": [
    {
     "name": "stdout",
     "output_type": "stream",
     "text": [
      "torch.Size([3, 2, 1, 3])\n",
      "torch.Size([3, 2, 3])\n"
     ]
    }
   ],
   "source": [
    "y3 = y.unsqueeze(2)\n",
    "print(y3.size())\n",
    "print(y3.squeeze().size())"
   ]
  },
  {
   "cell_type": "markdown",
   "metadata": {
    "colab_type": "text",
    "id": "FO6fg-_Zak4X"
   },
   "source": [
    "Les fonctions `cat` et `split` permettent de concatèner tenseurs ou subdiviser un tenseur selon une dimension. La documentation donne les paramètres : https://pytorch.org/docs/stable/torch.html#torch.split "
   ]
  },
  {
   "cell_type": "code",
   "execution_count": 6,
   "metadata": {
    "colab": {},
    "colab_type": "code",
    "id": "SMw70Is8ak4a"
   },
   "outputs": [
    {
     "name": "stdout",
     "output_type": "stream",
     "text": [
      "tensor([[0.8500, 0.1563, 0.8163],\n",
      "        [0.9280, 0.7575, 0.8666]]) tensor([[0., 0., 0.],\n",
      "        [0., 0., 0.]])\n",
      "tensor([[0.8500, 0.1563, 0.8163, 0.0000, 0.0000, 0.0000],\n",
      "        [0.9280, 0.7575, 0.8666, 0.0000, 0.0000, 0.0000]])\n",
      "tensor([[0.8500, 0.1563, 0.8163, 0.0000, 0.0000, 0.0000]]) tensor([[0.9280, 0.7575, 0.8666, 0.0000, 0.0000, 0.0000]])\n"
     ]
    }
   ],
   "source": [
    "a = torch.rand(2, 3)\n",
    "b = torch.zeros(2, 3)\n",
    "print(a, b)\n",
    "c = torch.cat([a, b], 1)\n",
    "print(c)\n",
    "d, e = torch.split(c, 1, 0)\n",
    "print(d, e)"
   ]
  },
  {
   "cell_type": "markdown",
   "metadata": {
    "colab_type": "text",
    "id": "cNuuHhjSak4g"
   },
   "source": [
    "Comme `numpy`, pytorch permet de broadcaster des tenseurs de dimensions différentes (voir https://pytorch.org/docs/stable/notes/broadcasting.html)."
   ]
  },
  {
   "cell_type": "code",
   "execution_count": 7,
   "metadata": {
    "colab": {},
    "colab_type": "code",
    "id": "hgui_8Rhak4g"
   },
   "outputs": [
    {
     "name": "stdout",
     "output_type": "stream",
     "text": [
      "tensor([[0.3197],\n",
      "        [0.5943],\n",
      "        [0.0036]])\n",
      "tensor([[0.1273, 0.6515],\n",
      "        [0.9275, 0.6294],\n",
      "        [0.5487, 0.9294]])\n",
      "tensor([[0.4470, 0.9712],\n",
      "        [1.5218, 1.2237],\n",
      "        [0.5523, 0.9330]])\n"
     ]
    }
   ],
   "source": [
    "# broadcasting\n",
    "x = torch.rand(3, 1)\n",
    "y = torch.rand(3, 2)\n",
    "print(x)\n",
    "print(y)\n",
    "print(x + y)"
   ]
  },
  {
   "cell_type": "markdown",
   "metadata": {
    "colab_type": "text",
    "id": "h1mzZAuTak4o"
   },
   "source": [
    "On peut faire des multiplications de matrices avec la fonction `matmul`. Lorsque l'on a des tenseurs d'ordre 3 contenant des batches de matrices, on peut faire la multiplication de matrice batch par batch avec la fonction `bmm`. "
   ]
  },
  {
   "cell_type": "code",
   "execution_count": 8,
   "metadata": {
    "colab": {},
    "colab_type": "code",
    "id": "GNU8NvXqak4p"
   },
   "outputs": [
    {
     "name": "stdout",
     "output_type": "stream",
     "text": [
      "tensor([[0.0532, 0.5248, 0.6761],\n",
      "        [0.0555, 0.8164, 1.1968],\n",
      "        [0.0482, 0.6527, 0.9365]])\n",
      "tensor([[[1.1692, 1.2118, 0.1688],\n",
      "         [0.4436, 0.3515, 0.0747],\n",
      "         [0.0892, 0.0812, 0.0140]],\n",
      "\n",
      "        [[0.6081, 0.2735, 0.6336],\n",
      "         [0.8064, 0.6328, 0.6444],\n",
      "         [0.8184, 0.3926, 0.8350]]])\n"
     ]
    }
   ],
   "source": [
    "x = torch.rand(3, 2)\n",
    "y = torch.rand(2, 3)\n",
    "print(x.matmul(y))\n",
    "\n",
    "x = torch.rand(2, 3, 2)\n",
    "y = torch.rand(2, 2, 3)\n",
    "print(x.bmm(y))"
   ]
  },
  {
   "cell_type": "markdown",
   "metadata": {
    "colab_type": "text",
    "id": "qnxRmfD_ak4u"
   },
   "source": [
    "L'utililisation du GPU est simple mais elle n'est pas automatique. Il y a plusieurs méthodes pour transferer un tenseur vers le GPU. On peut soit utiliser les types cuda (`torch.cuda.FloatTensor`), créer un tenseur sur CPU puis le migrer vers le gpu (`y = x.cuda()`) ou alors utiliser `device = torch.device('cuda')` puis migrer le tenseur avec `y = x.to(device)`. Le retour vers cpu se fait grâce à la fonction `x.cpu()`. Lorsqu'on applique une opération sur des tenseurs, ces derniers doivent être sur le même dispositif (cpu ou gpu) et le résultat est généré sur le même dispositif.\n",
    "\n",
    "Le passage CPU / GPU est coûteux, donc il faut éviter de le faire trop souvent. On peut par exemple copier toutes les données sur GPU en début d'apprentissage, ou alors le faire à chaque batch dans la boucle d'apprentissage.\n",
    "\n",
    "En plus d'envoyer les données, il faut appeler `model.cuda()` ou `model.to(device)` pour placer également les paramètres du modèle sur GPU.\n",
    "\n",
    "Pour les systèmes multi-GPU, il est possible de choisir le GPU dans une clause `with` ou d'utiliser plusieurs `torch.device` avec comme paramètre `cuda:0`, `cuda:1`..."
   ]
  },
  {
   "cell_type": "code",
   "execution_count": 9,
   "metadata": {
    "colab": {},
    "colab_type": "code",
    "id": "Ll-FwZzyak4w"
   },
   "outputs": [
    {
     "name": "stdout",
     "output_type": "stream",
     "text": [
      "tensor([[-0.6225, -0.8150],\n",
      "        [-0.1379, -0.9843],\n",
      "        [-0.5546, -0.9633]])\n",
      "[[-0.62250274 -0.815043  ]\n",
      " [-0.13787398 -0.98430896]\n",
      " [-0.55464745 -0.9633362 ]]\n"
     ]
    }
   ],
   "source": [
    "\n",
    "device = torch.device('cuda' if torch.cuda.is_available() else 'cpu')\n",
    "\n",
    "class Model(nn.Module):\n",
    "    def __init__(self):\n",
    "        super().__init__()\n",
    "        self.l1 = nn.Linear(10, 2)\n",
    "    def forward(self, x):\n",
    "        return self.l1(x)\n",
    "\n",
    "model = Model()\n",
    "model.to(device)\n",
    "\n",
    "result = model(torch.rand(3, 10))\n",
    "print(result.data)\n",
    "\n",
    "numpy_result = result.data.cpu().numpy()\n",
    "\n",
    "print(numpy_result)\n",
    "\n",
    "if torch.cuda.is_available():\n",
    "    with torch.cuda.device(1):\n",
    "        x = torch.rand(3, 3).cuda()\n",
    "        print(x.get_device())\n"
   ]
  },
  {
   "cell_type": "markdown",
   "metadata": {
    "colab_type": "text",
    "id": "2PP_S2puak4z"
   },
   "source": [
    "pytorch permet de sauvegarder les modèles de deux manières. La première ne sauvegarde que les paramètres du modèle et est donc plus portable (néanmoins ces derniers ne peuvent être chargés que par pytorch). La seconde sauvegarde l'objet python contenant le modèle (un peu comme `pickle`) et le recharge directement. C'est plus pratique mais ne fonctionne que si on est dans le même répertoire avec le même code."
   ]
  },
  {
   "cell_type": "code",
   "execution_count": 10,
   "metadata": {
    "colab": {},
    "colab_type": "code",
    "id": "-jbbgxdNak44"
   },
   "outputs": [],
   "source": [
    "# approche recommandée\n",
    "torch.save({'state_dict': model.state_dict()}, \"model_weights.pt\")\n",
    "\n",
    "model = Model()\n",
    "checkpoint = torch.load(\"model_weights.pt\")\n",
    "model.load_state_dict(checkpoint['state_dict'])\n",
    "\n",
    "# approche non recommandée\n",
    "torch.save(model, \"full_model.pt\")\n",
    "model = torch.load(\"full_model.pt\")"
   ]
  },
  {
   "cell_type": "markdown",
   "metadata": {
    "colab_type": "text",
    "id": "4zzdcb5Kak47"
   },
   "source": [
    "On peut aussi convertir les paramètres du modèle en objet numpy pour utilisation par exemple dans un autre langage. Il faut toutefois réimplémenter les mêmes opérations que dans `pytorch`. "
   ]
  },
  {
   "cell_type": "code",
   "execution_count": 11,
   "metadata": {
    "colab": {},
    "colab_type": "code",
    "id": "Jd-4wNdIak49"
   },
   "outputs": [
    {
     "name": "stdout",
     "output_type": "stream",
     "text": [
      "l1.weight (2, 10)\n",
      "[[-0.23444949  0.15453656 -0.2779888   0.1453526   0.01721119  0.1332549\n",
      "  -0.17579079  0.23618802 -0.16972671  0.26256993]\n",
      " [-0.05555913 -0.28719866  0.14800663 -0.24426146  0.23201643 -0.12804502\n",
      "  -0.29238114 -0.23149183 -0.2761161  -0.15984961]]\n",
      "l1.bias (2,)\n",
      "[-0.22496673 -0.28234628]\n",
      "total number of parameters: 22\n"
     ]
    }
   ],
   "source": [
    "numpy_params = {name: value.cpu().numpy() for name, value in model.state_dict().items()}\n",
    "for name, param in numpy_params.items():\n",
    "    print(name, param.shape)\n",
    "    print(param)\n",
    "\n",
    "print('total number of parameters:', sum([p.numel() for p in model.parameters()]))"
   ]
  },
  {
   "cell_type": "markdown",
   "metadata": {
    "colab_type": "text",
    "id": "RO48wq7iak5B"
   },
   "source": [
    "Exercice 1\n",
    "------------\n",
    "\n",
    "Avec l'aide de la documentation pytorch, calculez l'expression suivante :\n",
    "\n",
    "$$\n",
    "a = 1_{(3\\times2)} \\\\\n",
    "b = sin(1 + \\sqrt{3 I_2} + 5 || a ||)\n",
    "$$\n",
    "\n",
    "où $a$ est une matrice de taille (3, 2) contenant des 1, $I_2$ est la matrice identité de taille (2, 2) et $||\\cdot||$ est la norme 2 (norme euclidienne).\n"
   ]
  },
  {
   "cell_type": "code",
   "execution_count": null,
   "metadata": {
    "colab": {},
    "colab_type": "code",
    "id": "4eje_RLvak5C",
    "tags": [
     "solution"
    ]
   },
   "outputs": [],
   "source": []
  },
  {
   "cell_type": "markdown",
   "metadata": {},
   "source": [
    "Exercice 2\n",
    "----------\n",
    "\n",
    "1. Combien de paramètres a le modèle MLP du notebook précédent ?\n",
    "2. Assurez-vous de faire tourner le notebook précédent avec une acceleration GPU."
   ]
  },
  {
   "cell_type": "code",
   "execution_count": null,
   "metadata": {},
   "outputs": [],
   "source": []
  },
  {
   "cell_type": "markdown",
   "metadata": {},
   "source": [
    "Exercice 3\n",
    "---------\n",
    "\n",
    "Considerons des pseudo-textes de longueur 5, associés chacun à une classe parmis 7. Le vocabulaire est de taille 13, donc les mots sont représentés par des entiers entre 0 et 12. Exemple d'un tel texte :\n",
    "$x=[6, 2, 11, 3, 6]$, $y=4$.\n",
    "\n",
    "On souhaite créer un classifieur pour ce type de données. Il prendra en entrée les séquences d'entiers des textes, puis les convertira en vecteurs de taille 3 grâce à une couche d'embedding partagée entre toutes les positions. Enfin, ces embeddings seront concaténés et passés à une couche de décision pour produire la classe associée. Note : utilisez la couche Embedding fournie par pytorch. \n",
    "\n",
    "$e_i = Embed(x_i)$\n",
    "\n",
    "$\\hat{y} = softmax(W[e_0, e_1, e_2, e_3, e_4] + b)$ \n",
    "\n",
    "1. Générer un tenseur aléatoire X contenant 1000 textes définis selon ces critères, et un tenseur aléatoire Y contenant des étiquettes associées.\n",
    "2. Écrire une classe dérivant de `nn.Module` pour implémenter le réseau de neurones proposé.\n",
    "3. Découper les instances en deux et entraînez le modèle sur la première moitié en minimisant l'entropie croisée.\n",
    "4. Quel est le taux d'erreur obtenu ?"
   ]
  },
  {
   "cell_type": "code",
   "execution_count": null,
   "metadata": {},
   "outputs": [],
   "source": []
  }
 ],
 "metadata": {
  "colab": {
   "name": "02_pytorch-tensors.ipynb",
   "provenance": []
  },
  "kernelspec": {
   "display_name": "pstaln-env",
   "language": "python",
   "name": "pstaln-env"
  },
  "language_info": {
   "codemirror_mode": {
    "name": "ipython",
    "version": 3
   },
   "file_extension": ".py",
   "mimetype": "text/x-python",
   "name": "python",
   "nbconvert_exporter": "python",
   "pygments_lexer": "ipython3",
   "version": "3.8.10"
  }
 },
 "nbformat": 4,
 "nbformat_minor": 1
}
