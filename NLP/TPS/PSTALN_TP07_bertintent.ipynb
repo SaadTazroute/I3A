<!DOCTYPE html><html>
<head>
    <title>Aix-Marseille Université - Authentification</title>
    <meta charset="UTF-8"/><meta http-equiv="X-UA-Compatible" content="IE=edge"/><meta name="viewport" content="width=device-width, initial-scale=1"/><link rel="stylesheet" href="/cas/webjars/font-awesome/4.7.0/css/font-awesome.min.css"/><link type="text/css" rel="stylesheet" href="/cas/webjars/bootstrap/3.3.7-1/css/bootstrap.min.css"/><link type="text/css" rel="stylesheet" href="/cas/webjars/lato/0.3.0/css/lato.min.css"/><link rel="stylesheet" href="/cas/css/amu.css"/><link rel="icon" href="/cas/favicon.ico" type="image/x-icon"/><script type="text/javascript" src="/cas/webjars/zxcvbn/4.3.0/zxcvbn.js"></script>
    <script type="text/javascript" src="/cas/webjars/jquery/3.3.1/dist/jquery.min.js"></script>
    <script type="text/javascript" src="/cas/webjars/jquery-ui/1.12.1/jquery-ui.min.js"></script>
    <script type="text/javascript" src="/cas/webjars/jquery-cookie/1.4.1-1/jquery.cookie.js"></script>
    <script src="/cas/webjars/bootstrap/3.3.7-1/js/bootstrap.min.js"></script>

    <script>
        /*<![CDATA[*/

        var trackGeoLocation = false;

        var googleAnalyticsTrackingId = null;

        if (googleAnalyticsTrackingId != null && googleAnalyticsTrackingId != '') {
            (function(i,s,o,g,r,a,m){i['GoogleAnalyticsObject']=r;i[r]=i[r]||function(){
                        (i[r].q=i[r].q||[]).push(arguments)},i[r].l=1*new Date();a=s.createElement(o),
                    m=s.getElementsByTagName(o)[0];a.async=1;a.src=g;m.parentNode.insertBefore(a,m)
            })(window, document, 'script', 'https://www.google-analytics.com/analytics.js', 'ga');

            ga('create', googleAnalyticsTrackingId, 'auto');
            ga('send', 'pageview');
        }

        /*]]>*/
    </script>
</head>

<body id="cas" class="login">
<div id="container" class="container">
    <div id="content">
        <div class="row">
            <div class="col-sm-8 col-sm-offset-2 col-md-8 col-md-offset-2 col-lg-8 col-lg-offset-2">
                <div class="box" id="login">
    <div class="login-header">
        <h2>Aix-Marseille Université - Service d'authentification</h2>
    </div>

    <form method="post" id="fm1" action="login">

        <h2>Enter your Username and Password</h2>

        <section class="row">
            <label id="login_username" for="username"><u>I</u>dentifiant:</label>

            <div>
                <input class="required"
                       id="username"
                       size="25"
                       tabindex="1"
                       type="text"
                       accesskey="u"
                       autocomplete="off"
                       autofocus name="username" value=""/></div>
        </section>

        <section class="row">
            <label for="password"><u>M</u>ot de passe:</label>
            <div>
                <input class="required"
                       type="password"
                       id="password"
                       size="25"
                       tabindex="2"
                       accesskey="p"
                       autocomplete="off" name="password" value=""/><span id="capslock-on" style="display:none;">
                    <p>
                        <i class="fa fa-exclamation-circle"></i>
                        <span>CAPSLOCK key is turned on!</span>
                    </p>
                </span>
            </div>
        </section>

        <section class="row btn-row">
            <input type="hidden" name="execution" value="5cc53e04-ddff-4017-b9fc-20d83a728c60_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"/><input type="hidden" name="_eventId" value="submit"/><input type="hidden" name="geolocation"/><input class="btn btn-submit btn-block"
                   name="submit"
                   accesskey="l"
                   value="LOGIN"
                   tabindex="6"
                   type="submit"/></section>
    </form>

    <script type="text/javascript">
        var i = "One moment please..."
        $("#fm1").submit(function () {
            $(":submit").attr("disabled", true);
            $(":submit").attr("value", i);
            return true;
        });
    </script>
    <div id="sidebar">
    <div class="sidebar-content">
        <img src="images/warning8_orange.png" alt="warning_ico"><p>For security reasons, please <a href="logout">log out</a> and exit your web browser when you are done accessing services that require authentication!</p>
        <img src="images/help_green.png" alt="help_ico"><p><b>Problème de connexion : </b>  <a href="http://dosi.univ-amu.fr/public_content/contacts">Aide</a></p>
    </div>
</div>

<div class="row">
		<div class="col-md-10 col-md-offset-1 col-lg-10 col-lg-offset-1">
			<img class="logo_amu" src="images/logo_amu.png" alt="Logo_amu"></div>
	</div>
</div>
</div>
        </div>
    </div>
</div>
</body>
</html>
