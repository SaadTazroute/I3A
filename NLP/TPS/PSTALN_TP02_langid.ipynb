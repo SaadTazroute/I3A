{
 "cells": [
  {
   "cell_type": "markdown",
   "metadata": {},
   "source": [
    "Classification de textes : identification de la langue\n",
    "============================\n",
    "\n",
    "La plupart de ces notebooks peuvent tourner sans acceleration GPU. Vous pouvez utiliser Google Colab ou installer jupyter-notebook sur votre ordinateur. Pytorch est déjà installé sur Colab, par contre il faut suivre https://pytorch.org/get-started/locally/ en local.\n"
   ]
  },
  {
   "cell_type": "code",
   "execution_count": 1,
   "metadata": {},
   "outputs": [],
   "source": [
    "## example de deploiement local (pas besoin de refaire si vous avez déjà fait lors du TP1)\n",
    "# virtualenv -ppython3.8 pstaln-env\n",
    "# source pstaln-env/bin/activate\n",
    "# pip3 install torch==1.10.0+cpu -f https://download.pytorch.org/whl/cpu/torch_stable.html\n",
    "# pip3 install matplotlib ipykernel\n",
    "# python3 -m ipykernel install --user --name=pstaln-env\n",
    "# jupyter-notebook\n",
    "## puis sélectionner le noyeau pstaln-evn"
   ]
  },
  {
   "cell_type": "markdown",
   "metadata": {
    "colab_type": "text",
    "id": "14Pcq77vacyx"
   },
   "source": [
    "Notre objectif aujourd'hui est d'effectuer une classification de textes assez simple : étant donné un bout de texte, on voudrait prédire dans quelle langue ce texte a été écrit. Par exemple :\n",
    "\n",
    "$model(\\text{\"Vamos a la playa\"}) = \\text{ES}\\\\\n",
    "model(\\text{\"Je vois la vie en rose\"}) = \\text{FR}\\\\\n",
    "model(\\text{\"Ich hab den Farbfilm vergessen\"}) = \\text{DE}$\n",
    "\n",
    "Les codes ES, FR et DE sont les [codes ISO-639-2](https://www.loc.gov/standards/iso639-2/php/code_list.php) des langues espagnol, français et allemand. Nous travaillerons dans ce TP sur des langues européennes."
   ]
  },
  {
   "cell_type": "markdown",
   "metadata": {},
   "source": [
    "### Datasets\n",
    "\n",
    "Nous allons utiliser un dataset contenant des petits bouts de texte annotés avec le code de la langue. D'abord, téléchargeons le dataset qui a été préparé pour ce TP. Ce dataset provient d'un sujet de projet donné aux étudiant.e.s de L3 en informatique ([détails ici](https://wikitalep.lis-lab.fr/doku.php?id=projets-l3:langid))."
   ]
  },
  {
   "cell_type": "code",
   "execution_count": 2,
   "metadata": {},
   "outputs": [
    {
     "name": "stdout",
     "output_type": "stream",
     "text": [
      "european-dev.txt\n",
      "european-test-ref.txt\n",
      "european-test.txt\n",
      "european-train.txt\n"
     ]
    }
   ],
   "source": [
    "%%bash\n",
    "if [ ! -d dataset-european/ ]; then\n",
    "  wget -q -O dataset-european.tar.gz https://pageperso.lis-lab.fr/carlos.ramisch/download_files/pstaln/dataset-european.tar.gz\n",
    "  tar xfz dataset-european.tar.gz \n",
    "  rm dataset-european.tar.gz\n",
    "fi\n",
    "ls dataset-european"
   ]
  },
  {
   "cell_type": "markdown",
   "metadata": {},
   "source": [
    "Aussi, comme d'habitude, on importe les sous-modules de pytorch et d'autres modules python utiles dans ce TP."
   ]
  },
  {
   "cell_type": "code",
   "execution_count": 3,
   "metadata": {
    "colab": {},
    "colab_type": "code",
    "id": "5OIW9J6pacy3"
   },
   "outputs": [],
   "source": [
    "%matplotlib inline\n",
    "import torch\n",
    "import torch.nn as nn\n",
    "import torch.nn.functional as F\n",
    "import torch.optim as optim\n",
    "from collections import defaultdict, Counter\n",
    "import matplotlib.pyplot as plt\n",
    "import random"
   ]
  },
  {
   "cell_type": "markdown",
   "metadata": {},
   "source": [
    "Dans chacun des fichiers texte du dataset (UTF-8, CR-LF), se trouve une liste de petits documents (une ou deux phrases la plupart du temps) suivis d'une tabulation, suivis du code de la langue à reconnaître (sauf dans le fichier `test`, où la langue n'est pas donnée, en mode `blind` d'une campagne d'évaluation). Nous pouvons ouvrir le fichier `train` pour faire quelques statistiques sur les données d'apprentissage."
   ]
  },
  {
   "cell_type": "code",
   "execution_count": 4,
   "metadata": {},
   "outputs": [
    {
     "data": {
      "image/png": "[encoded data removed]",
      "text/plain": [
       "<Figure size 432x288 with 1 Axes>"
      ]
     },
     "metadata": {
      "needs_background": "light"
     },
     "output_type": "display_data"
    },
    {
     "name": "stdout",
     "output_type": "stream",
     "text": [
      "Total nb. languages: 21\n",
      "Total nb. documents: 85301\n"
     ]
    }
   ],
   "source": [
    "def opendataset(filename):\n",
    "    \"\"\"\n",
    "    returns a list of X input texts paired wiht a list of Y output language labels\n",
    "    \"\"\"\n",
    "    X = []; Y = []\n",
    "    with open(filename) as datasetfile:\n",
    "        for line in datasetfile :\n",
    "            (x,y) = line.strip().split(\"\\t\")\n",
    "            X.append(x); Y.append(y)\n",
    "    return (X,Y)\n",
    "\n",
    "(trainXtexts, trainYlabels) = opendataset(\"dataset-european/european-train.txt\")\n",
    "#showhistograms(trainX, trainY)\n",
    "hist=Counter(trainYlabels)\n",
    "plt.title(\"Documents per language in train\")\n",
    "plt.bar(hist.keys(),hist.values()); \n",
    "plt.show()\n",
    "print(\"Total nb. languages: {}\".format(len(hist)))\n",
    "print(\"Total nb. documents: {}\".format(len(trainXtexts)))"
   ]
  },
  {
   "cell_type": "markdown",
   "metadata": {},
   "source": [
    "Cette base contient une grande quantité de documents par langue. Pour rendre les calculs plus rapides sur ce notebook, nous garderons un peu moins de 10% des textes. Si vous faites des expériences en local, vous pouvez conserver la totalité de la base."
   ]
  },
  {
   "cell_type": "code",
   "execution_count": 5,
   "metadata": {},
   "outputs": [
    {
     "data": {
      "image/png": "[encoded data removed]",
      "text/plain": [
       "<Figure size 432x288 with 1 Axes>"
      ]
     },
     "metadata": {
      "needs_background": "light"
     },
     "output_type": "display_data"
    },
    {
     "name": "stdout",
     "output_type": "stream",
     "text": [
      "Total nb. languages: 21\n",
      "Total nb. documents: 8000\n"
     ]
    }
   ],
   "source": [
    "random.seed(5)\n",
    "trainXtexts,trainYlabels = map(list,zip(*(random.sample(list(zip(trainXtexts,trainYlabels)),k=8000))))\n",
    "hist=Counter(trainYlabels)\n",
    "plt.title(\"Documents per language in train\")\n",
    "plt.bar(hist.keys(),hist.values()); \n",
    "plt.show()\n",
    "print(\"Total nb. languages: {}\".format(len(hist)))\n",
    "print(\"Total nb. documents: {}\".format(len(trainXtexts)))"
   ]
  },
  {
   "cell_type": "markdown",
   "metadata": {},
   "source": [
    "### Définition des features\n",
    "\n",
    "La tâche d'identification de la langue est une tâche très simple, pour laquelle il est possible d'apprendre des modèles assez performants avec assez peu de features et de données d'entraînement. C'est pour cela que cette tâche est idéale pour commencer à effectuer des expériences avec pytorch sur le texte.\n",
    "\n",
    "La première chose à faire consiste à définir les features. Pour cela, nous allons nous concentrer sur les n-grammes de caractères, c'est-à-dire, les séquences de _n_ caractères dans un texte. Nous allons commencer avec $n=2$, donc des _bigammes_ de caractères.\n",
    "\n",
    "Voici un exemple d'une fonction qui estrait les n-grammes de caractères à partir d'une liste de textes. Le paramètre `n` détermine la longueur des n-grammes ; le paramètre `pad` permet d'activer un désactiver le padding, c'est-à-dire, l'insertion d'un caractère spécial pour marquer le début (`<`) et la fin (`>`) d'un texte ; le paramètre `lower` permet d'activer ou désactiver la transformation de tout le texte en minuscules avant toute extraction. On commence à voir une serie de pré-traitements nécessaires pour traiter le texte, tels que le padding et le traitement des majuscules/minuscules."
   ]
  },
  {
   "cell_type": "code",
   "execution_count": 6,
   "metadata": {},
   "outputs": [
    {
     "name": "stdout",
     "output_type": "stream",
     "text": [
      "['<a', 'ab', 'bc', 'cd', 'd_', '_a', 'ab', 'bc', 'cd', 'd>']\n",
      "Counter({'ab': 2, 'bc': 2, 'cd': 2, '<a': 1, 'd_': 1, '_a': 1, 'd>': 1})\n"
     ]
    }
   ],
   "source": [
    "def get_ngrams(texts, n=2, pad=True, lower=True):\n",
    "    \"\"\"\n",
    "    Given a list of texts, returns a list of its n-grams in order of occurrence.    \n",
    "    \"\"\"\n",
    "    ngrams = []\n",
    "    for text in texts :\n",
    "        if pad : # Padding -> add special beginning and end markers\n",
    "            text = \"<\" + text + \">\"\n",
    "        if lower : # Lowercase all text before extracting n-grams\n",
    "            text = text.lower()\n",
    "        for i in range(len(text) - n + 1):\n",
    "            ngrams.append(text.replace(\" \",\"_\")[i:i + n]) # Space replaced by underscore\n",
    "    return ngrams\n",
    "\n",
    "# testez en variant les valeurs de n, pad, lower\n",
    "ngrams_toy = get_ngrams([\"abcd ABCD\"],n=2,pad=True,lower=True)\n",
    "print(ngrams_toy) \n",
    "print(Counter(ngrams_toy))"
   ]
  },
  {
   "cell_type": "markdown",
   "metadata": {},
   "source": [
    "Il nous faut maintenant une liste des bigrammes de caractères les plus fréquents par langue. Pour cela, nous allons regrouper les textes dans un dictionnaire dont les clés sont les codes de langue et les valeurs sont des listes de textes."
   ]
  },
  {
   "cell_type": "code",
   "execution_count": 7,
   "metadata": {},
   "outputs": [
    {
     "data": {
      "text/plain": [
       "'Je donne la parole à M. le président en exercice du Conseil.'"
      ]
     },
     "execution_count": 7,
     "metadata": {},
     "output_type": "execute_result"
    }
   ],
   "source": [
    "textsperlang = defaultdict(list)\n",
    "for (x,y) in zip(trainXtexts,trainYlabels) :\n",
    "    textsperlang[y].append(x)\n",
    "textsperlang[\"fr\"][10]"
   ]
  },
  {
   "cell_type": "markdown",
   "metadata": {},
   "source": [
    "Le dictionnaire `textsperlang` contient désormais tous les textes d'entraînement regroupés par langue. Nous allons maintenant créer un ensemble de features (ou vocabulaire), constitué de l'union des N bigrammes les plus fréquents par langue. Pour aller plus vite, nous allons utiliser uniquement les 300 premiers textes de chaque langue pour extraire ces features, cela devrait suffire pour avoir un échantillon représentatif."
   ]
  },
  {
   "cell_type": "code",
   "execution_count": 8,
   "metadata": {},
   "outputs": [
    {
     "name": "stdout",
     "output_type": "stream",
     "text": [
      "Feature vocabulary: ['ke', 'ri', 'ι_', '_г', 'nu', 'kö', 'jā', 'от', 'ου', 'ис']...\n",
      "Number of features: 551\n"
     ]
    }
   ],
   "source": [
    "N=100 # retain N most frequent n-grams per language\n",
    "n=2   # size of n-gram is 2\n",
    "# You can play with these parameters later to see how they influence the predictions\n",
    "    \n",
    "vocab = set([])\n",
    "for lang in textsperlang.keys() :\n",
    "    freq_ngrams = Counter(get_ngrams(textsperlang[lang][:300],n=n)).most_common(N)    \n",
    "    vocab = vocab | set(map(lambda x:x[0],freq_ngrams))\n",
    "    #print(lang, freq_ngrams[:5]) # Uncomment if you want to see most common n-grams per lang\n",
    "\n",
    "vocab = list(vocab)\n",
    "print(\"Feature vocabulary: {}...\".format(vocab[:10]))\n",
    "print(\"Number of features: {}\".format(len(vocab)))"
   ]
  },
  {
   "cell_type": "markdown",
   "metadata": {},
   "source": [
    "### Représentation one-hot\n",
    "\n",
    "Nous allons maintenant passer à l'étape de création du classifieur MLP avec pytorch. Pour cela, il faudra représenter chaque texte sous la forme d'un vecteur qui est à la fois utile pour notre tâche et traitable dans un modèle de ce type. \n",
    "\n",
    "La première approche consiste à représenter chaque ngramme de caractères sous la forme d'un vecteur _one-hot_, c'est-à-dire, un vecteur de 552 positions constitué uniquement de zéros, sauf à une position _i_ correspondant au n-gramme de caractères représenté. \n",
    "\n",
    "$$x \\in \\mathbb{R}^{552}, x{[i]} = \\begin{cases}1&\\text{si c'est le i-ème n-gramme}\\\\0&\\text{sinon}\\end{cases}$$\n",
    "\n",
    "Cela veut dire que chaque n-gramme sera associé à un indice $i$ du vecteur $x$. Cependant, notez que le nombre de features peut vite exploser. Par exemple, un texte contenant 1000 n-grammes sera représenté par une suite de $552\\times 1000 = 552000$ features.\n",
    "\n",
    "De plus, comme chaque texte contient un nombre variable de caractères et donc de n-grammes, il faudra trouver une astuce pour que toutes les entrées du réseau aient la même longueur. Il est possible de faire cela avec du padding (que nous verrons plus tard) mais pour le moment, nous allons adopter une stratégie plus simple, qui consiste à faire un \"sac de n-grammes\" (la version la plus connue de ce type d'approche s'appelle \"sac de mots\" ou \"bag of words\" en anglais).\n",
    "\n",
    "Ainsi, notre représentation du document $D$ ignorera l'ordre dans lequel les n-grammes apparaissent, mais représentera uniquement l'apparition du n-gramme dans le document :\n",
    "\n",
    "$$d \\in \\mathbb{R}^{552}, d{[i]} = \\begin{cases}1&\\text{si $D$ contient le n-gramme}~i\\\\0&\\text{sinon}\\end{cases}$$"
   ]
  },
  {
   "cell_type": "code",
   "execution_count": 9,
   "metadata": {},
   "outputs": [
    {
     "name": "stdout",
     "output_type": "stream",
     "text": [
      "tensor([0., 0., 0., 0., 0., 0., 0., 0., 0., 0., 0., 0., 0., 0., 0., 0., 0., 0.,\n",
      "        0., 0., 0., 0., 0., 0., 0., 0., 0., 0., 0., 0., 0., 0., 0., 0., 0., 0.,\n",
      "        0., 0., 0., 0., 0., 1., 0., 0., 0., 0., 0., 1., 0., 0., 0., 0., 0., 0.,\n",
      "        0., 0., 0., 0., 0., 0., 0., 0., 0., 0., 0., 0., 0., 1., 0., 1., 0., 0.,\n",
      "        0., 0., 0., 0., 0., 0., 0., 0., 0., 1., 0., 0., 0., 0., 0., 0., 0., 0.,\n",
      "        0., 0., 0., 1., 0., 0., 0., 0., 0., 0., 0., 0., 0., 0., 0., 0., 0., 0.,\n",
      "        1., 0., 0., 0., 0., 0., 0., 0., 0., 0., 0., 0., 0., 0., 0., 0., 0., 0.,\n",
      "        0., 1., 0., 0., 0., 0., 0., 0., 0., 0., 0., 0., 0., 0., 0., 0., 0., 0.,\n",
      "        0., 0., 0., 0., 0., 0., 0., 0., 0., 0., 0., 0., 0., 0., 0., 0., 0., 0.,\n",
      "        0., 0., 0., 0., 0., 0., 0., 0., 0., 0., 0., 0., 0., 0., 0., 0., 0., 0.,\n",
      "        0., 0., 0., 0., 0., 0., 0., 0., 0., 0., 0., 0., 0., 0., 0., 0., 0., 0.,\n",
      "        0., 0., 0., 0., 0., 0., 0., 0., 0., 0., 0., 1., 0., 0., 0., 1., 0., 0.,\n",
      "        0., 0., 0., 0., 0., 0., 0., 0., 0., 0., 0., 0., 0., 0., 0., 0., 0., 0.,\n",
      "        0., 0., 0., 0., 0., 0., 0., 0., 0., 0., 0., 0., 0., 0., 0., 0., 0., 0.,\n",
      "        0., 0., 0., 0., 0., 0., 0., 0., 0., 0., 0., 0., 0., 0., 0., 0., 0., 0.,\n",
      "        1., 0., 0., 0., 0., 0., 0., 0., 0., 0., 0., 0., 0., 0., 0., 0., 0., 0.,\n",
      "        0., 0., 0., 0., 0., 0., 0., 0., 0., 0., 0., 0., 0., 0., 0., 0., 0., 0.,\n",
      "        0., 0., 0., 0., 0., 0., 0., 0., 0., 0., 0., 0., 0., 0., 0., 0., 0., 0.,\n",
      "        0., 0., 0., 0., 0., 0., 0., 0., 0., 0., 0., 0., 0., 0., 0., 0., 0., 0.,\n",
      "        0., 0., 0., 0., 0., 0., 0., 0., 0., 0., 0., 0., 0., 0., 0., 0., 0., 0.,\n",
      "        0., 0., 0., 0., 0., 0., 0., 0., 0., 0., 0., 0., 0., 0., 0., 0., 0., 0.,\n",
      "        0., 0., 0., 0., 0., 0., 0., 0., 0., 0., 0., 0., 0., 0., 0., 0., 0., 0.,\n",
      "        0., 0., 0., 0., 0., 0., 1., 0., 0., 0., 0., 0., 0., 0., 0., 0., 0., 0.,\n",
      "        0., 0., 0., 0., 0., 0., 0., 0., 0., 0., 0., 0., 0., 0., 0., 0., 0., 0.,\n",
      "        0., 0., 0., 0., 0., 0., 0., 0., 0., 0., 0., 0., 0., 0., 0., 0., 0., 0.,\n",
      "        0., 0., 0., 0., 0., 0., 0., 0., 0., 0., 0., 0., 0., 0., 0., 1., 0., 0.,\n",
      "        0., 0., 0., 0., 0., 0., 0., 0., 0., 0., 0., 0., 0., 0., 0., 0., 0., 0.,\n",
      "        0., 0., 0., 0., 0., 0., 0., 0., 0., 0., 0., 0., 0., 0., 0., 0., 0., 0.,\n",
      "        0., 0., 0., 0., 0., 0., 0., 0., 0., 0., 0., 0., 0., 0., 0., 0., 0., 0.,\n",
      "        0., 0., 0., 0., 0., 0., 0., 0., 0., 0., 0., 0., 0., 0., 0., 0., 0., 0.,\n",
      "        1., 0., 0., 0., 0., 0., 0., 0., 0., 0., 0.])\n"
     ]
    }
   ],
   "source": [
    "def get_onehot(features,vocab):\n",
    "    \"\"\"\n",
    "    Create a one-hot torch tensor of dimension `len(vocab)` with ones at positions present in `features`\n",
    "    `vocab` is the list of all possible features, position in list encodes feature index\n",
    "    \"\"\"\n",
    "    onehot =  torch.zeros(len(vocab))\n",
    "    for (i,feat) in enumerate(vocab) :\n",
    "        if feat in features :\n",
    "            onehot[i] = 1.0\n",
    "    return onehot\n",
    "\n",
    "print(get_onehot(set(get_ngrams([\"le monde est grand\"])),vocab))"
   ]
  },
  {
   "cell_type": "markdown",
   "metadata": {},
   "source": [
    "Afin d'accélérer les calculs plus tard, nous allons sauvegarder, pour chaque document, son histogramme de n-grammes de caractères. Ensuite, nous passons la liste de n-grammes présents dans le document pour l'encodage one-hot. Cette étape peut prendre un peu de temps..."
   ]
  },
  {
   "cell_type": "code",
   "execution_count": 10,
   "metadata": {},
   "outputs": [
    {
     "name": "stdout",
     "output_type": "stream",
     "text": [
      "['<t', 'tr', 're', 'et', 'tj'] -> sl\n",
      "tensor([1., 1., 0., 0., 0., 0., 0., 0., 0., 0.])\n",
      "torch.Size([8000, 551])\n",
      "torch.FloatTensor\n"
     ]
    }
   ],
   "source": [
    "trainXngrams = [get_ngrams([x]) for x in trainXtexts]\n",
    "print(list(trainXngrams[0])[:5],\"->\",trainYlabels[0])\n",
    "\n",
    "trainX = torch.stack([get_onehot(set(x),vocab) for x in trainXngrams])\n",
    "print(trainX[0,:10])\n",
    "print(trainX.shape)\n",
    "print(trainX.type())"
   ]
  },
  {
   "cell_type": "markdown",
   "metadata": {},
   "source": [
    "Pour notre classifieur multi-classes, il faudra également encoder chaque langue sous la forme d'un indice entier. Nous allons donc créer un dictionnaire qui renvoie un entier pour chaque code de langue, et ensuite appliquer la transformation pour obtenir `Y` :"
   ]
  },
  {
   "cell_type": "code",
   "execution_count": 11,
   "metadata": {},
   "outputs": [
    {
     "name": "stdout",
     "output_type": "stream",
     "text": [
      "tensor([0, 1, 2, 3, 4, 5, 1, 6, 7, 8])\n",
      "torch.Size([8000])\n",
      "torch.LongTensor\n"
     ]
    }
   ],
   "source": [
    "langs = list(textsperlang.keys())\n",
    "lang2id = {lang:i for (i,lang) in enumerate(langs)}\n",
    "id2lang = {i:lang for (i,lang) in enumerate(langs)}\n",
    "\n",
    "trainY = torch.tensor([lang2id[y] for y in trainYlabels])\n",
    "print(trainY[:10])\n",
    "print(trainY.shape)\n",
    "print(trainY.type())"
   ]
  },
  {
   "cell_type": "markdown",
   "metadata": {},
   "source": [
    "### Classifieur\n",
    "\n",
    "Nos données sont désormais prêtes. Nous allons apprendre un classifieur très simple, composé d'une transformation linéaire de nos vecteurs $x$ dimension 552, vers un vecteur de dimension 21 représentant les langues, puis d'un softmax sur ces derniers (inclus dans la loss). Voyons déjà ce que ce modèle sera capable de faire."
   ]
  },
  {
   "cell_type": "code",
   "execution_count": 12,
   "metadata": {},
   "outputs": [],
   "source": [
    "from torch.utils.data import TensorDataset, DataLoader\n",
    "train_set = TensorDataset(trainX, trainY)\n",
    "train_loader = DataLoader(train_set, batch_size=8, shuffle=True)\n",
    "\n",
    "class SimpleModel(nn.Module):\n",
    "    def __init__(self,dimX,dimY):\n",
    "        super().__init__()\n",
    "        self.layer1 = nn.Linear(dimX, dimY)\n",
    "    def forward(self, x):\n",
    "        return self.layer1(x)\n",
    "    \n",
    "langIDv1 = SimpleModel(len(vocab),len(langs))"
   ]
  },
  {
   "cell_type": "markdown",
   "metadata": {},
   "source": [
    "Pour la fonction d'apprentissage, nous utiliserons la même que celle du TP précédant. Voyons ce que ça donne..."
   ]
  },
  {
   "cell_type": "code",
   "execution_count": 13,
   "metadata": {},
   "outputs": [
    {
     "name": "stdout",
     "output_type": "stream",
     "text": [
      "0 0.057755003814352675\n",
      "2 0.0034132687800665735\n",
      "4 0.0012113664920607335\n",
      "6 0.0005010913811964883\n",
      "8 0.0002298640650243442\n",
      "10 0.00011539934953624708\n",
      "12 6.350934430631128e-05\n",
      "14 3.78047396104062e-05\n",
      "16 2.352396462466022e-05\n",
      "18 1.4902860520004336e-05\n"
     ]
    }
   ],
   "source": [
    "def fit(model, epochs, train_loader):\n",
    "    criterion = nn.CrossEntropyLoss()\n",
    "    optimizer = optim.Adam(model.parameters())\n",
    "    for epoch in range(epochs):\n",
    "        total_loss = 0; num = 0\n",
    "        for x, y in train_loader:\n",
    "            optimizer.zero_grad()\n",
    "            y_scores = model(x)  \n",
    "            loss = criterion(y_scores, y)\n",
    "            loss.backward()\n",
    "            optimizer.step()\n",
    "            total_loss += loss.item()\n",
    "            num += len(y)\n",
    "        if epoch % (epochs // 10) == 0:\n",
    "            print(epoch, total_loss / num)\n",
    "            \n",
    "fit(langIDv1,20,train_loader)"
   ]
  },
  {
   "cell_type": "markdown",
   "metadata": {},
   "source": [
    "Que vaut ce classifieur ? Pour l'évaluer, on peut prédire la langue des textes de l'ensemble de développement (ou validation), et calculer le taux de succès (_accuracy_ ou exactitude). Pour cela, nous allons créer une fonction `predict` qui prédit la langue d'une liste de textes. Notez la ligne `model.eval()` -- elle permet de mettre le modèle en mode évaluation, par exemple, pour ne pas appliquer de dropout si il y en a. Le modèle est remis en mode train à la fin."
   ]
  },
  {
   "cell_type": "code",
   "execution_count": 14,
   "metadata": {},
   "outputs": [
    {
     "name": "stdout",
     "output_type": "stream",
     "text": [
      "['es', 'fr', 'de']\n",
      "1.0\n"
     ]
    }
   ],
   "source": [
    "def predict(model, texts, vocab, id2lang):\n",
    "    model.eval()\n",
    "    ngrams = [get_ngrams([x]) for x in texts]    \n",
    "    X = torch.stack([get_onehot(set(x), vocab) for x in ngrams])\n",
    "    Yhat = torch.max(model(X),1)[1]\n",
    "    model.train()\n",
    "    return [id2lang[y.item()] for y in Yhat]\n",
    "\n",
    "def accuracy(predict,ref):\n",
    "    return sum([1 if y == yhat else 0 for (yhat,y) in zip(predict,ref)])/len(ref)\n",
    "\n",
    "pred = predict(langIDv1,[\"Vamos a la playa\",\"je vois la vie en rose\",\"Ich hab den Farbfilm vergessen\"],vocab,id2lang)\n",
    "print(pred)\n",
    "print(accuracy(pred,[\"es\",\"fr\",\"de\"]))"
   ]
  },
  {
   "cell_type": "markdown",
   "metadata": {},
   "source": [
    "C'est un premier résultat prometteur. Voyons le résultat sur la totalité du dev."
   ]
  },
  {
   "cell_type": "code",
   "execution_count": 15,
   "metadata": {},
   "outputs": [
    {
     "name": "stdout",
     "output_type": "stream",
     "text": [
      "accuracy 0.9810\n"
     ]
    }
   ],
   "source": [
    "(devXtexts, devYlabels) = opendataset(\"dataset-european/european-dev.txt\")\n",
    "\n",
    "pred=predict(langIDv1,devXtexts,vocab,id2lang)\n",
    "print(\"accuracy {:.4f}\".format(accuracy(pred,devYlabels)))"
   ]
  },
  {
   "cell_type": "markdown",
   "metadata": {},
   "source": [
    "Wow, impressionnant ! Un modèle très simple est capable d'identifier la langue des textes avec une exactitude d'environ 98%. On pourrait rendre la tâche artificiellement plus dûre. Pour cela, nous pouvons garder uniquement les 15 premiers caractères de notre texte, car il est beaucoup plus difficile de prédire la langue d'un texte court."
   ]
  },
  {
   "cell_type": "code",
   "execution_count": 16,
   "metadata": {},
   "outputs": [
    {
     "name": "stdout",
     "output_type": "stream",
     "text": [
      "accuracy 0.8254\n"
     ]
    }
   ],
   "source": [
    "devXtextshard = [x[:15] for x in devXtexts]\n",
    "pred = predict(langIDv1, devXtextshard, vocab, id2lang)\n",
    "print(\"accuracy {:.4f}\".format(accuracy(pred,devYlabels)))"
   ]
  },
  {
   "cell_type": "markdown",
   "metadata": {},
   "source": [
    "### Classifieur MLP avec embeddings\n",
    "\n",
    "Une alternative plus souple aux représentations one-hot est la représentation de chaque n-gramme de caractères comme un vecteur dense de plus petite dimension (par exemple, 50 au lieu de 552). Ce vecteur, noté $e(D[i])$ pour le n-gramme correspondant à la position $i$ du document $D$, est initialisé aléatoirement et ses poids sont ajustés lors de l'entraînement. Pour représenter un document, nous allons procéder de manière similaire, en calcular un vecteur moyen des bigrammes contenus dans le document $D$ :\n",
    "\n",
    "$$d \\in \\mathbb{R}^{50}, d = \\frac{1}{|D|}\\sum_{i=1}^{|D|} e(D[i])$$\n",
    "\n",
    "Notez que dans cette représentation, une information supplémentaire est implicitement représentée : la fréquence d'occurrence de chaque n-gramme dans le document. Plus un n-gramme est fréquent dans le document, plus son poids augment dans la moyenne.\n",
    "\n",
    "Pour implémenter cette stratégie, nous pouvons utiliser la couche `nn.Embedding` de pytorch. Elle prend en entrée deux paramètres : la taille du vocabulaire et la dimension des embeddings. Lors de la prédiction, elle renvoie les embeddings correspondant à une liste d'indices donnés en entrée."
   ]
  },
  {
   "cell_type": "code",
   "execution_count": 17,
   "metadata": {},
   "outputs": [],
   "source": [
    "embed_dim = 50\n",
    "\n",
    "class LinearModelEmbed(nn.Module):\n",
    "    def __init__(self,dimX,dimY):\n",
    "        super().__init__()\n",
    "        self.embed = nn.Embedding(dimX,embed_dim)        \n",
    "        self.layer1 = nn.Linear(embed_dim, dimY)\n",
    "    def forward(self, x):\n",
    "        embedded = self.embed(x)              # convert each n-gram index into 50-d vector\n",
    "        combined = torch.mean(embedded,dim=0) # average embeddings for the whole document\n",
    "        return self.layer1(combined)\n",
    "    \n",
    "langIDv2 = LinearModelEmbed(len(vocab)+1,len(langs)) # len(vocab)+1 pour prendre en compte le padding"
   ]
  },
  {
   "cell_type": "markdown",
   "metadata": {},
   "source": [
    "Il sera aussi nécessaire de transformer nos entrées : au lieu d'avoir un tenseur avec des représentations one-hot, chaque document doit maintenant être représenté par une liste d'indices correspondant aux bigrammes qu'il contient. Pour cela, nous allons utiliser un `LongTensor`. En raison de l'entraînement par batches, il faudra couper les textes pour qu'ils ne dépassent pas une longueur maximale. De même, nous utiliserons le symbole spécial `0` pour représenter le padding, c'est-à-dire, pour remplir la séquence si elle contient moins de `seq_max_len` mots."
   ]
  },
  {
   "cell_type": "code",
   "execution_count": 18,
   "metadata": {},
   "outputs": [
    {
     "name": "stdout",
     "output_type": "stream",
     "text": [
      "tensor([353, 395,  28,  43, 273, 389,  53,  24, 232,  88,  78, 417,  86, 108,\n",
      "        292,  48, 273, 201, 143, 333, 480, 489,  30, 450,   2, 176, 108, 523,\n",
      "        341, 544,  24, 542, 168, 317, 368,  14, 368, 278, 183, 351, 165,  99,\n",
      "         59, 198, 317, 109, 207, 536, 337, 202, 460, 247,  24, 143, 154, 247,\n",
      "         20, 309, 432,  30, 450, 210,  53,  20, 165,  99, 538,  30, 450, 395,\n",
      "        232, 376, 232,  70,  84, 202, 368,  24,  28, 535,  78, 203, 411,  48,\n",
      "        381, 508,  48, 304, 524, 504, 378, 247,  20, 423, 460, 246,  43, 264,\n",
      "        428,  78,  82, 278,  48, 523,  24,  94, 376, 419, 388,  43, 315,   1,\n",
      "        183,  25, 368, 403, 202, 523, 341, 470, 271,  28, 178, 536, 368, 305,\n",
      "        450, 395])\n",
      "torch.Size([8000, 128])\n"
     ]
    }
   ],
   "source": [
    "seq_max_len = 128\n",
    "bigram2id = {bigram:i+1 for (i,bigram) in enumerate(vocab)}    \n",
    "\n",
    "def get_indices(features, bigram2id):\n",
    "    \"\"\"\n",
    "    Create a Long tensor of dimension `seq_max_len` with indices of features in vocab\n",
    "    \"\"\"\n",
    "    indices = torch.zeros(seq_max_len) \n",
    "    indices_pos = 0\n",
    "    for k in features :\n",
    "        if k in bigram2id.keys() :\n",
    "            indices[indices_pos] = bigram2id[k]\n",
    "            indices_pos += 1\n",
    "            if indices_pos == seq_max_len : \n",
    "                break # cut sentence here\n",
    "    if len(indices) < seq_max_len :\n",
    "        indices = indices + [0 * (seq_max_len-len(indices))]\n",
    "    return indices.long()\n",
    "\n",
    "trainX = torch.stack([get_indices(x,bigram2id) for x in trainXngrams])\n",
    "print(trainX[0])\n",
    "print(trainX.shape)"
   ]
  },
  {
   "cell_type": "markdown",
   "metadata": {},
   "source": [
    "Entraînons maintenant ce modèle, mais cette fois-ci nous nous intéressons à la loss et à l'exactitude sur le jeu de validation tout au long de l'entraînement, pour avoir une idée de la courbe d'apprentissage sur le jeu de développement. Ainsi, nous créons une nouvelle fonction d'entraînement qui, toutes les 1/10 époques, calcule et affiche la loss et l'exactitude sur le jeu de développement."
   ]
  },
  {
   "cell_type": "code",
   "execution_count": 19,
   "metadata": {},
   "outputs": [
    {
     "name": "stdout",
     "output_type": "stream",
     "text": [
      "epoch 0, train-loss 9.753850403538932e-06, val-loss 0.007925681402360761 val-accuracy 0.9841\n",
      "epoch 2, train-loss 6.468906471771008e-06, val-loss 0.008608369242698347 val-accuracy 0.9810\n",
      "epoch 4, train-loss 4.3512719995298936e-06, val-loss 0.009024225197127015 val-accuracy 0.9778\n",
      "epoch 6, train-loss 2.875709556538486e-06, val-loss 0.009267665824098947 val-accuracy 0.9778\n",
      "epoch 8, train-loss 1.8662878828860086e-06, val-loss 0.009667157958991725 val-accuracy 0.9778\n",
      "epoch 10, train-loss 1.2612531721206688e-06, val-loss 0.01000777374142722 val-accuracy 0.9778\n",
      "epoch 12, train-loss 8.055187451819767e-07, val-loss 0.009761317374908741 val-accuracy 0.9841\n",
      "epoch 14, train-loss 5.137598807244404e-07, val-loss 0.010559997679343276 val-accuracy 0.9778\n",
      "epoch 16, train-loss 3.4854141125506556e-07, val-loss 0.010506865877157337 val-accuracy 0.9810\n",
      "epoch 18, train-loss 2.277376015503707e-07, val-loss 0.010517740220465215 val-accuracy 0.9810\n"
     ]
    }
   ],
   "source": [
    "def accuracy_and_loss(model, loader):\n",
    "    criterion = nn.CrossEntropyLoss()\n",
    "    model.eval()\n",
    "    total_loss = correct = num = 0\n",
    "    for x, y in loader:\n",
    "        with torch.no_grad(): # no gradient needed\n",
    "            y_scores = model(x)\n",
    "            loss = criterion(y_scores, y)\n",
    "            y_pred = torch.max(y_scores, 1)[1]\n",
    "            correct += torch.sum(y_pred.data == y)\n",
    "            total_loss += loss.item()\n",
    "            num += len(y)\n",
    "    model.train()\n",
    "    return total_loss / num, correct.item() / num\n",
    "\n",
    "def fit_curve(model, epochs, train_loader, dev_loader):\n",
    "    criterion = nn.CrossEntropyLoss()\n",
    "    optimizer = optim.Adam(model.parameters())\n",
    "    for epoch in range(epochs):\n",
    "        total_loss = 0; num = 0\n",
    "        for x, y in train_loader:\n",
    "            optimizer.zero_grad()\n",
    "            y_scores = model(x)  \n",
    "            loss = criterion(y_scores, y)\n",
    "            loss.backward()\n",
    "            optimizer.step()\n",
    "            total_loss += loss.item()\n",
    "            num += len(y)\n",
    "        if epoch % (epochs // 10) == 0:\n",
    "            acc = accuracy_and_loss(model, dev_loader)\n",
    "            template = \"epoch {}, train-loss {}, val-loss {} val-accuracy {:.4f}\"\n",
    "            print(template.format(epoch, total_loss / num, *acc))\n",
    "\n",
    "devY = torch.tensor([lang2id[y] for y in devYlabels])\n",
    "devXngrams = [get_ngrams([x]) for x in devXtexts]\n",
    "devX = torch.stack([get_onehot(x,bigram2id) for x in devXngrams])\n",
    "dev_set = TensorDataset(devX, devY)\n",
    "dev_loader = DataLoader(dev_set, batch_size=8)\n",
    "\n",
    "fit_curve(langIDv1,20,train_loader, dev_loader)"
   ]
  },
  {
   "cell_type": "markdown",
   "metadata": {},
   "source": [
    "On voit bien que le classifieur converge très vite et obtient une performance similaire à celle du classifieur avec des représentations one-hot. En fait, on peut considérer la matrice $W$ du classifieur avec représentations one-hot comme une couche d'embeddings de dimension 21, car chaque vecteur one-hot multiplié par cette matrice donne un vecteur de dimension 21 le représentant de manière dense."
   ]
  },
  {
   "cell_type": "markdown",
   "metadata": {
    "colab_type": "text",
    "id": "dqYUPLtcac0z"
   },
   "source": [
    "Exercice 1\n",
    "---------\n",
    "\n",
    "Une représentation alternative consiste à utiliser des vecteurs TF ou TF.IDF à la place des embeddings initialisés aléatoirement. Les vecteurs TF ressemblent aux vecteurs one-hot mais, à la place des 1, ils contiennent la fréquence du n-gramme, c'est-à-dire son nombre d'occurrences dans le document divisé par la longueur du document. Le terme IDF peut être multiplié à TF. Le terme IDF correspond à l'inverse du nombre de documents contenant le bigramme, souvent multiplié par un log. Formellement :\n",
    "  - TF (term frequency): $x[i] = \\frac{nb_D(i)}{|D|}$ où $nb_D(i)$ est le nombre d'occurrences du n-gramme $i$ dans le document $D$ et $|D|$ la longueur du document\n",
    "  - TF.IDF (term frequency - inverse document frequency): $x[i] = \\frac{nb_D(i)}{|D|}\\times \\log \\frac{1}{doc_{}(i)}$ où TF est comme ci-dessus, et $doc_{}(i)$ est le nombre de documents dans la base contenant au moins une occurrence du n-gramme $i$\n",
    "\n",
    "Construisez un classifieur qui prend en entrée des représentations TF ou TF.IDF - est-ce que ça marche aussi bien, mieux, moins bien ?\n"
   ]
  },
  {
   "cell_type": "code",
   "execution_count": null,
   "metadata": {},
   "outputs": [],
   "source": []
  },
  {
   "cell_type": "markdown",
   "metadata": {},
   "source": [
    "Exercice 2\n",
    "-------\n",
    "\n",
    "Est-il possible de faire un modèle presque aussi performant en diminuant :\n",
    "  - le nombre de features/paramètres ?\n",
    "  - la taille des données d'entraînement ?\n",
    "  - le nombre d'époques ?\n",
    "  \n",
    "Essayez de créer le modèle le plus compact possible tout en ne perdant pas trop en exactitude.\n"
   ]
  },
  {
   "cell_type": "code",
   "execution_count": null,
   "metadata": {
    "colab": {},
    "colab_type": "code",
    "id": "FDXEl6Qzac00",
    "tags": [
     "solution"
    ]
   },
   "outputs": [],
   "source": []
  },
  {
   "cell_type": "markdown",
   "metadata": {},
   "source": [
    "Pour aller plus loin\n",
    "------------\n",
    "\n",
    "* Une façon efficace d'extraire des features sans devoir limiter le jeu de n-grammes est d'utiliser la convolution sur les caractères. Faites un classifieur qui prent en entrée une liste de caractères représentés sous la forme d'embeddings de petite dimension et qui applique des convolutions sur ces caractères pour extraire des bigrammes pertinents.\n",
    "\n",
    "* Des modèles d'apprentissage très simples tels que les classifieurs du type KNN ou K-means marchent bien pour cette tâche. En utilisant une représentation du type TF ou TF-IDF, essayez d'effectuer la même tâche avec un classifieur non neuronal (p.ex. dans scikit-learn). Est-ce que vous arrivez à obtenir des performances proches de celle des classifieurs linéaires de ce TP ?\n",
    "\n",
    "* La tâche d'identification de la langue est facile avec un nombre limité de langues assez différentes pour lesquelles il y a pas mal de matériel d'entraînement. Essayez de résoudre ce problème avec les variantes proposées sur ce site, pour les langues proches ou les dialectes : [https://wikitalep.lis-lab.fr/doku.php?id=projets-l3:langid]"
   ]
  },
  {
   "cell_type": "code",
   "execution_count": null,
   "metadata": {},
   "outputs": [],
   "source": []
  }
 ],
 "metadata": {
  "colab": {
   "name": "01_pytorch-mlp.ipynb",
   "provenance": []
  },
  "kernelspec": {
   "display_name": "pstaln-env",
   "language": "python",
   "name": "pstaln-env"
  },
  "language_info": {
   "codemirror_mode": {
    "name": "ipython",
    "version": 3
   },
   "file_extension": ".py",
   "mimetype": "text/x-python",
   "name": "python",
   "nbconvert_exporter": "python",
   "pygments_lexer": "ipython3",
   "version": "3.8.10"
  }
 },
 "nbformat": 4,
 "nbformat_minor": 1
}
