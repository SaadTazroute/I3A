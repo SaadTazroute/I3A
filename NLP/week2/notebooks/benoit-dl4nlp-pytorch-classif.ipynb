{
 "cells": [
  {
   "cell_type": "code",
   "execution_count": null,
   "metadata": {},
   "outputs": [],
   "source": [
    "%%bash\n",
    "wget -qN http://www.lexique.org/listes/liste_mots.txt\n",
    "wget -qN https://raw.githubusercontent.com/dwyl/english-words/master/words_alpha.txt\n",
    "\n",
    "(cut -f1 liste_mots.txt | grep \"[a-z]\" | grep -v \"[_ ]\" | awk '{print \"1\",$0}' | shuf | head -10000;\n",
    "cat words_alpha.txt | grep \"[a-z]\" | grep -v \"[_ ]\" | awk '{print \"0\",$0}' | shuf | head -10000) \\\n",
    "    | iconv -f utf8 -t ascii//TRANSLIT | shuf > words.txt\n",
    "head words.txt"
   ]
  },
  {
   "cell_type": "code",
   "execution_count": null,
   "metadata": {
    "scrolled": true
   },
   "outputs": [],
   "source": [
    "words = []\n",
    "labels = []\n",
    "with open('words.txt') as fp:\n",
    "    for line in fp:\n",
    "        label, word = line.strip().split()\n",
    "        words.append(word)\n",
    "        labels.append(int(label))\n",
    "\n",
    "print(words[:10])\n",
    "print(labels[:10])"
   ]
  },
  {
   "cell_type": "code",
   "execution_count": null,
   "metadata": {},
   "outputs": [],
   "source": [
    "import collections\n",
    "vocab = collections.defaultdict(lambda: len(vocab))\n",
    "\n",
    "features = []\n",
    "for word in words:\n",
    "    text_features = list(word)\n",
    "    features.append([vocab[ngram] for ngram in text_features])\n",
    "\n",
    "print(features[:10])\n",
    "print(len(vocab))"
   ]
  },
  {
   "cell_type": "code",
   "execution_count": null,
   "metadata": {
    "scrolled": true
   },
   "outputs": [],
   "source": [
    "import torch\n",
    "import torch.nn as nn\n",
    "import torch.nn.functional as F\n",
    "import torch.optim as optim\n",
    "from torch.autograd import Variable\n",
    "\n",
    "X = torch.zeros(len(words), len(vocab))\n",
    "\n",
    "for i, x in enumerate(features):\n",
    "    for feature in x:\n",
    "        X[i, feature] += 1\n",
    "\n",
    "import random\n",
    "random.shuffle(labels)\n",
    "Y = torch.LongTensor(labels)\n",
    "print(words[33], X[33])"
   ]
  },
  {
   "cell_type": "code",
   "execution_count": null,
   "metadata": {},
   "outputs": [],
   "source": [
    "from torch.utils.data import TensorDataset, DataLoader\n",
    "train_set = TensorDataset(X, Y)\n",
    "train_loader = DataLoader(train_set, batch_size=4, shuffle=True)"
   ]
  },
  {
   "cell_type": "code",
   "execution_count": null,
   "metadata": {},
   "outputs": [],
   "source": [
    "class LinearModel(nn.Module):\n",
    "    def __init__(self):\n",
    "        super().__init__()\n",
    "        self.l1 = nn.Linear(len(vocab), 2)\n",
    "    def forward(self, x):\n",
    "        return self.l1(x)\n",
    "\n",
    "model = LinearModel()\n",
    "model"
   ]
  },
  {
   "cell_type": "code",
   "execution_count": null,
   "metadata": {},
   "outputs": [],
   "source": [
    "def fit(model, epochs):\n",
    "    criterion = nn.CrossEntropyLoss()\n",
    "    optimizer = optim.Adam(model.parameters())\n",
    "    for epoch in range(epochs):\n",
    "        total_loss = 0\n",
    "        num = 0\n",
    "        for x, y in train_loader:\n",
    "            optimizer.zero_grad()\n",
    "            y_scores = model(Variable(x))\n",
    "            loss = criterion(y_scores, Variable(y))\n",
    "            loss.backward()\n",
    "            optimizer.step()\n",
    "            total_loss += loss.data[0]\n",
    "            num += len(y)\n",
    "        print(epoch, total_loss / num)\n",
    "fit(model, 10)"
   ]
  },
  {
   "cell_type": "code",
   "execution_count": null,
   "metadata": {},
   "outputs": [],
   "source": [
    "def predict(word):\n",
    "    word = '^%s$' % word\n",
    "    x = torch.zeros(1, len(vocab))\n",
    "    for feature in list(word):\n",
    "        if feature in vocab:\n",
    "            x[0, vocab[feature]] += 1\n",
    "    y_scores = model(Variable(x))\n",
    "    y_pred = torch.max(y_scores, 1)[1]\n",
    "    return y_pred.data[0]\n",
    "\n",
    "print(predict('coming'))\n",
    "print(predict('venu'))"
   ]
  }
 ],
 "metadata": {
  "kernelspec": {
   "display_name": "Python 3",
   "language": "python",
   "name": "python3"
  },
  "language_info": {
   "codemirror_mode": {
    "name": "ipython",
    "version": 3
   },
   "file_extension": ".py",
   "mimetype": "text/x-python",
   "name": "python",
   "nbconvert_exporter": "python",
   "pygments_lexer": "ipython3",
   "version": "3.7.3"
  }
 },
 "nbformat": 4,
 "nbformat_minor": 2
}
