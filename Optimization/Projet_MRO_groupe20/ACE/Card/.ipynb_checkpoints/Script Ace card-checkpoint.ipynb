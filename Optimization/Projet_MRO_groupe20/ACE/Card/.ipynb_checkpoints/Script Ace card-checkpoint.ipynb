{
 "cells": [
  {
   "cell_type": "code",
   "execution_count": 1,
   "id": "69c161cf",
   "metadata": {},
   "outputs": [],
   "source": [
    "import os"
   ]
  },
  {
   "cell_type": "code",
   "execution_count": 19,
   "id": "3d22071e",
   "metadata": {
    "scrolled": true
   },
   "outputs": [],
   "source": [
    "%%capture cap --no-stderr\n",
    "\n",
    "! python3 essai_cop_mod2.py -data=reformulate_celar_50_7_10_5_0.800000_1.json -variant=card -solver=[ace,v]\n",
    "filename='reformulate_celar_50_7_10_5_0.800000_1'\n",
    "with open(filename+\"_output.txt\", 'w') as f:\n",
    "    f.write(str(cap))  "
   ]
  },
  {
   "cell_type": "code",
   "execution_count": 15,
   "id": "6ff40703",
   "metadata": {},
   "outputs": [],
   "source": [
    "%%capture cap --no-stderr\n",
    "\n",
    "! python3 essai_cop_mod2.py -data=reformulate_celar_500_30_20_5_0.870000_29.json -variant=card -solver=[ace,v]\n",
    "filename='reformulate_celar_500_30_20_5_0.870000_29'\n",
    "with open(filename+\"_output.txt\", 'w') as f:\n",
    "    f.write(str(cap))  "
   ]
  },
  {
   "cell_type": "code",
   "execution_count": 16,
   "id": "a41fb064",
   "metadata": {},
   "outputs": [],
   "source": [
    "%%capture cap --no-stderr\n",
    "\n",
    "! python3 essai_cop_mod2.py -data=reformulate_celar_500_30_20_5_0.870000_45.json -variant=card -solver=[ace,v]\n",
    "filename='reformulate_celar_500_30_20_5_0.870000_45'\n",
    "with open(filename+\"_output.txt\", 'w') as f:\n",
    "    f.write(str(cap))  "
   ]
  },
  {
   "cell_type": "code",
   "execution_count": 17,
   "id": "3ab16c27",
   "metadata": {},
   "outputs": [],
   "source": [
    "%%capture cap --no-stderr\n",
    "\n",
    "! python3 essai_cop_mod2.py -data=reformulate_celar_500_30_20_5_0.870000_48.json -variant=card -solver=[ace,v]\n",
    "filename='reformulate_celar_500_30_20_5_0.870000_48.json'\n",
    "with open(filename+\"_output.txt\", 'w') as f:\n",
    "    f.write(str(cap))  "
   ]
  },
  {
   "cell_type": "code",
   "execution_count": 18,
   "id": "572d6e9f",
   "metadata": {},
   "outputs": [],
   "source": [
    "%%capture cap --no-stderr\n",
    "8\n",
    "! python3 essai_cop_mod2.py -data=reformulate_celar_50_7_10_5_0.800000_0.json -variant=card -solver=[ace,v]\n",
    "filename='reformulate_celar_50_7_10_5_0.800000_0'\n",
    "with open(filename+\"_output.txt\", 'w') as f:\n",
    "    f.write(str(cap))  "
   ]
  },
  {
   "cell_type": "code",
   "execution_count": 20,
   "id": "092f11ed",
   "metadata": {},
   "outputs": [],
   "source": [
    "%%capture cap --no-stderr\n",
    "8\n",
    "! python3 essai_cop_mod2.py -data=reformulate_celar_50_7_10_5_0.800000_6.json -variant=card -solver=[ace,v]\n",
    "filename='reformulate_celar_50_7_10_5_0.800000_6'\n",
    "with open(filename+\"_output.txt\", 'w') as f:\n",
    "    f.write(str(cap))  "
   ]
  },
  {
   "cell_type": "code",
   "execution_count": 21,
   "id": "8bba3a34",
   "metadata": {},
   "outputs": [],
   "source": [
    "%%capture cap --no-stderr\n",
    "8\n",
    "! python3 essai_cop_mod2.py -data=reformulate_celar_50_7_10_5_0.800000_7.json -variant=card -solver=[ace,v]\n",
    "filename='reformulate_celar_50_7_10_5_0.800000_7'\n",
    "with open(filename+\"_output.txt\", 'w') as f:\n",
    "    f.write(str(cap))  "
   ]
  },
  {
   "cell_type": "code",
   "execution_count": 22,
   "id": "68355297",
   "metadata": {},
   "outputs": [],
   "source": [
    "%%capture cap --no-stderr\n",
    "8\n",
    "! python3 essai_cop_mod2.py -data=reformulate_celar_50_7_10_5_0.800000_8.json -variant=card -solver=[ace,v]\n",
    "filename='reformulate_celar_50_7_10_5_0.800000_8'\n",
    "with open(filename+\"_output.txt\", 'w') as f:\n",
    "    f.write(str(cap))  "
   ]
  },
  {
   "cell_type": "code",
   "execution_count": null,
   "id": "2f04f6b1",
   "metadata": {},
   "outputs": [],
   "source": [
    "%%capture cap --no-stderr\n",
    "! python3 essai_cop_mod2.py -data=reformulate_celar_250_25_15_5_0.820000_7.json -variant=card -solver=[ace,v]\n",
    "filename='reformulate_celar_250_25_15_5_0.820000_7'\n",
    "with open(filename+\"_output.txt\", 'w') as f:\n",
    "    f.write(str(cap))  "
   ]
  },
  {
   "cell_type": "code",
   "execution_count": null,
   "id": "1b3c9d49",
   "metadata": {},
   "outputs": [],
   "source": [
    "%%capture cap --no-stderr\n",
    "! python3 essai_cop_mod2.py -data=reformulate_celar_250_25_15_5_0.820000_5.json -variant=card -solver=[ace,v]\n",
    "filename='reformulate_celar_250_25_15_5_0.820000_5'\n",
    "with open(filename+\"_output.txt\", 'w') as f:\n",
    "    f.write(str(cap))  "
   ]
  },
  {
   "cell_type": "code",
   "execution_count": null,
   "id": "19595e05",
   "metadata": {},
   "outputs": [],
   "source": [
    "%%capture cap --no-stderr\n",
    "! python3 essai_cop_mod2.py -data=reformulate_celar_250_25_15_5_0.820000_22.json -variant=card -solver=[ace,v]\n",
    "filename='reformulate_celar_250_25_15_5_0.820000_22.json'\n",
    "with open(filename+\"_output.txt\", 'w') as f:\n",
    "    f.write(str(cap))  "
   ]
  },
  {
   "cell_type": "code",
   "execution_count": null,
   "id": "6b3b18a3",
   "metadata": {},
   "outputs": [],
   "source": [
    "%%capture cap --no-stderr\n",
    "! python3 essai_cop_mod2.py -data=reformulate_celar_250_25_15_5_0.820000_20.json -variant=card -solver=[ace,v]\n",
    "filename='reformulate_celar_250_25_15_5_0.820000_20'\n",
    "with open(filename+\"_output.txt\", 'w') as f:\n",
    "    f.write(str(cap))  "
   ]
  },
  {
   "cell_type": "code",
   "execution_count": null,
   "id": "6cb2084c",
   "metadata": {},
   "outputs": [],
   "source": [
    "%%capture cap --no-stderr\n",
    "! python3 essai_cop_mod2.py -data=reformulate_celar_150_13_15_5_0.800000_8.json -variant=card -solver=[ace,v]\n",
    "filename='reformulate_celar_150_13_15_5_0.800000_8'\n",
    "with open(filename+\"_output.txt\", 'w') as f:\n",
    "    f.write(str(cap))  "
   ]
  },
  {
   "cell_type": "code",
   "execution_count": null,
   "id": "fc027ed8",
   "metadata": {},
   "outputs": [],
   "source": [
    "%%capture cap --no-stderr\n",
    "! python3 essai_cop_mod2.py -data=reformulate_celar_150_13_15_5_0.800000_29.json -variant=card -solver=[ace,v]\n",
    "filename='reformulate_celar_150_13_15_5_0.800000_29'\n",
    "with open(filename+\"_output.txt\", 'w') as f:\n",
    "    f.write(str(cap))  "
   ]
  },
  {
   "cell_type": "code",
   "execution_count": null,
   "id": "044b5654",
   "metadata": {},
   "outputs": [],
   "source": [
    "%%capture cap --no-stderr\n",
    "! python3 essai_cop_mod2.py -data=reformulate_celar_150_13_15_5_0.800000_28.json -variant=card -solver=[ace,v]\n",
    "filename='reformulate_celar_150_13_15_5_0.800000_28'\n",
    "with open(filename+\"_output.txt\", 'w') as f:\n",
    "    f.write(str(cap))  "
   ]
  },
  {
   "cell_type": "code",
   "execution_count": null,
   "id": "1e9d110c",
   "metadata": {},
   "outputs": [],
   "source": [
    "%%capture cap --no-stderr\n",
    "! python3 essai_cop_mod2.py -data=reformulate_celar_150_13_15_5_0.800000_26.json -variant=card -solver=[ace,v]\n",
    "filename='reformulate_celar_150_13_15_5_0.800000_26'\n",
    "with open(filename+\"_output.txt\", 'w') as f:\n",
    "    f.write(str(cap))  "
   ]
  },
  {
   "cell_type": "code",
   "execution_count": null,
   "id": "6a988d92",
   "metadata": {},
   "outputs": [],
   "source": [
    "%%capture cap --no-stderr\n",
    "! python3 essai_cop_mod2.py -data=reformulate_celar_150_13_15_5_0.800000_2.json -variant=card -solver=[ace,v]\n",
    "filename='reformulate_celar_150_13_15_5_0.800000_2'\n",
    "with open(filename+\"_output.txt\", 'w') as f:\n",
    "    f.write(str(cap))  "
   ]
  },
  {
   "cell_type": "code",
   "execution_count": null,
   "id": "144c14cd",
   "metadata": {},
   "outputs": [],
   "source": [
    "%%capture cap --no-stderr\n",
    "! python3 essai_cop_mod2.py -data=reformulate_celar_250_25_15_5_0.820000_9.json -variant=card -solver=[ace,v]\n",
    "filename='reformulate_celar_250_25_15_5_0.820000_9'\n",
    "with open(filename+\"_output.txt\", 'w') as f:\n",
    "    f.write(str(cap))  "
   ]
  },
  {
   "cell_type": "code",
   "execution_count": null,
   "id": "71011acb",
   "metadata": {},
   "outputs": [],
   "source": [
    "%%capture cap --no-stderr\n",
    "! python3 essai_cop_mod2.py -data=reformulate_celar_500_30_20_5_0.870000_24.json -variant=card -solver=[ace,v]\n",
    "filename='reformulate_celar_500_30_20_5_0.870000_24'\n",
    "with open(filename+\"_output.txt\", 'w') as f:\n",
    "    f.write(str(cap))  "
   ]
  },
  {
   "cell_type": "code",
   "execution_count": 27,
   "id": "736d2e8f",
   "metadata": {},
   "outputs": [
    {
     "name": "stdout",
     "output_type": "stream",
     "text": [
      "reformulate_celar_150_13_15_5_0.800000_2.json\n",
      "reformulate_celar_150_13_15_5_0.800000_26.json\n",
      "reformulate_celar_150_13_15_5_0.800000_28.json\n",
      "reformulate_celar_150_13_15_5_0.800000_29.json\n",
      "reformulate_celar_150_13_15_5_0.800000_8.json\n",
      "reformulate_celar_250_25_15_5_0.820000_20.json\n",
      "reformulate_celar_250_25_15_5_0.820000_22.json\n",
      "reformulate_celar_250_25_15_5_0.820000_5.json\n",
      "reformulate_celar_250_25_15_5_0.820000_7.json\n",
      "reformulate_celar_250_25_15_5_0.820000_9.json\n",
      "reformulate_celar_500_30_20_5_0.870000_24.json\n",
      "reformulate_celar_500_30_20_5_0.870000_29.json\n",
      "reformulate_celar_500_30_20_5_0.870000_45.json\n",
      "reformulate_celar_500_30_20_5_0.870000_48.json\n",
      "reformulate_celar_50_7_10_5_0.800000_0.json\n",
      "reformulate_celar_50_7_10_5_0.800000_1.json\n",
      "reformulate_celar_50_7_10_5_0.800000_6.json\n",
      "reformulate_celar_50_7_10_5_0.800000_7.json\n",
      "reformulate_celar_50_7_10_5_0.800000_8.json\n",
      "19\n"
     ]
    }
   ],
   "source": [
    "l=[]\n",
    "directory = r\"C:\\Users\\HASEE\\Desktop\\Projet MRO\\données-reformulées-cop\\ACE\\Card\"\n",
    "for filename in os.listdir(directory):\n",
    "    if filename.endswith('.json'):\n",
    "        l.append(filename)\n",
    "        print(filename)\n",
    "print(len(l))"
   ]
  },
  {
   "cell_type": "code",
   "execution_count": 28,
   "id": "9f9a4686",
   "metadata": {},
   "outputs": [],
   "source": [
    "directory = r\"C:\\Users\\HASEE\\Desktop\\Projet MRO\\données-reformulées-cop\\ACE\\Card\"\n",
    "for filename in os.listdir(directory):\n",
    "    if filename.startswith('solver'):\n",
    "        os.remove(filename)"
   ]
  }
 ],
 "metadata": {
  "kernelspec": {
   "display_name": "Python 3 (ipykernel)",
   "language": "python",
   "name": "python3"
  },
  "language_info": {
   "codemirror_mode": {
    "name": "ipython",
    "version": 3
   },
   "file_extension": ".py",
   "mimetype": "text/x-python",
   "name": "python",
   "nbconvert_exporter": "python",
   "pygments_lexer": "ipython3",
   "version": "3.9.7"
  }
 },
 "nbformat": 4,
 "nbformat_minor": 5
}
