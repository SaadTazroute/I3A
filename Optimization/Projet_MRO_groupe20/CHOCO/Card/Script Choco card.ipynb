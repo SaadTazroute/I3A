{
 "cells": [
  {
   "cell_type": "code",
   "execution_count": 1,
   "id": "d5b75b49",
   "metadata": {},
   "outputs": [],
   "source": [
    "import os"
   ]
  },
  {
   "cell_type": "code",
   "execution_count": null,
   "id": "b159cf63",
   "metadata": {},
   "outputs": [],
   "source": [
    "%%capture cap --no-stderr\n",
    "%%time\n",
    "! python3 essai_cop_mod2.py -data=reformulate_celar_50_7_10_5_0.800000_1.json -variant=card\n",
    "! java -jar choco-parsers-4.10.7-jar-with-dependencies.jar essai_cop_mod2-card-reformulate_celar_150_13_15_5_0.xml\n",
    "filename='reformulate_celar_150_13_15_5_0.800000_1'\n",
    "with open(filename+\"_output.txt\", 'w') as f:\n",
    "    f.write(str(cap))  "
   ]
  },
  {
   "cell_type": "code",
   "execution_count": null,
   "id": "98df816a",
   "metadata": {},
   "outputs": [],
   "source": []
  },
  {
   "cell_type": "code",
   "execution_count": null,
   "id": "7bcb0f9e",
   "metadata": {
    "scrolled": true
   },
   "outputs": [],
   "source": [
    "%%capture cap --no-stderr\n",
    "%%time\n",
    "! python3 essai_cop_mod2.py -data=reformulate_celar_50_7_10_5_0.800000_1.json -variant=card\n",
    "! java -jar choco-parsers-4.10.7-jar-with-dependencies.jar essai_cop_mod2-card-reformulate_celar_50_7_10_5_0.xml\n",
    "filename='reformulate_celar_50_7_10_5_0.800000_1'\n",
    " "
   ]
  },
  {
   "cell_type": "code",
   "execution_count": null,
   "id": "01d87291",
   "metadata": {},
   "outputs": [],
   "source": [
    "with open(filename+\"_output.txt\", 'w') as f:\n",
    "    f.write(str(cap)) "
   ]
  },
  {
   "cell_type": "code",
   "execution_count": null,
   "id": "f90910d5",
   "metadata": {},
   "outputs": [],
   "source": [
    "%%capture cap --no-stderr\n",
    "%%time\n",
    "! python3 essai_cop_mod2.py -data=reformulate_celar_500_30_20_5_0.870000_29.json -variant=card\n",
    "! java -jar choco-parsers-4.10.7-jar-with-dependencies.jar essai_cop_mod2-card-reformulate_celar_500_30_20_5_0.xml\n",
    "filename='reformulate_celar_500_30_20_5_0.870000_29'\n"
   ]
  },
  {
   "cell_type": "code",
   "execution_count": null,
   "id": "c5a7dbae",
   "metadata": {},
   "outputs": [],
   "source": [
    "with open(filename+\"_output.txt\", 'w') as f:\n",
    "    f.write(str(cap)) "
   ]
  },
  {
   "cell_type": "code",
   "execution_count": null,
   "id": "9b423191",
   "metadata": {},
   "outputs": [],
   "source": [
    "%%capture cap --no-stderr\n",
    "%%time\n",
    "! python3 essai_cop_mod2.py -data=reformulate_celar_500_30_20_5_0.870000_45.json -variant=card\n",
    "! java -jar choco-parsers-4.10.7-jar-with-dependencies.jar essai_cop_mod2-card-reformulate_celar_500_30_20_5_0.xml\n",
    "filename='reformulate_celar_500_30_20_5_0.870000_45'\n",
    "  "
   ]
  },
  {
   "cell_type": "code",
   "execution_count": null,
   "id": "6c2652fc",
   "metadata": {},
   "outputs": [],
   "source": [
    "with open(filename+\"_output.txt\", 'w') as f:\n",
    "    f.write(str(cap)) "
   ]
  },
  {
   "cell_type": "code",
   "execution_count": null,
   "id": "dd7959cd",
   "metadata": {},
   "outputs": [],
   "source": [
    "%%capture cap --no-stderr\n",
    "%%time\n",
    "! python3 essai_cop_mod2.py -data=reformulate_celar_500_30_20_5_0.870000_48.json -variant=card\n",
    "! java -jar choco-parsers-4.10.7-jar-with-dependencies.jar essai_cop_mod2-card-reformulate_celar_500_30_20_5_0.xml\n",
    "filename='reformulate_celar_500_30_20_5_0.870000_48'\n"
   ]
  },
  {
   "cell_type": "code",
   "execution_count": null,
   "id": "dc205131",
   "metadata": {},
   "outputs": [],
   "source": [
    "with open(filename+\"_output.txt\", 'w') as f:\n",
    "    f.write(str(cap)) "
   ]
  },
  {
   "cell_type": "code",
   "execution_count": null,
   "id": "b585df6e",
   "metadata": {},
   "outputs": [],
   "source": [
    "%%capture cap --no-stderr\n",
    "%%time\n",
    "! python3 essai_cop_mod2.py -data=reformulate_celar_50_7_10_5_0.800000_0.json -variant=card\n",
    "! java -jar choco-parsers-4.10.7-jar-with-dependencies.jar essai_cop_mod2-card-reformulate_celar_50_7_10_5_0.xml\n",
    "filename='reformulate_celar_50_7_10_5_0.800000_0'\n"
   ]
  },
  {
   "cell_type": "code",
   "execution_count": null,
   "id": "ffba6c77",
   "metadata": {},
   "outputs": [],
   "source": [
    "with open(filename+\"_output.txt\", 'w') as f:\n",
    "    f.write(str(cap)) "
   ]
  },
  {
   "cell_type": "code",
   "execution_count": null,
   "id": "92e7b07e",
   "metadata": {},
   "outputs": [],
   "source": [
    "%%capture cap --no-stderr\n",
    "%%time\n",
    "! python3 essai_cop_mod2.py -data=reformulate_celar_50_7_10_5_0.800000_6.json -variant=card\n",
    "! java -jar choco-parsers-4.10.7-jar-with-dependencies.jar essai_cop_mod2-card-reformulate_celar_50_7_10_5_0.xml\n",
    "filename='reformulate_celar_50_7_10_5_0.800000_6'\n"
   ]
  },
  {
   "cell_type": "code",
   "execution_count": null,
   "id": "b03fd965",
   "metadata": {},
   "outputs": [],
   "source": [
    "with open(filename+\"_output.txt\", 'w') as f:\n",
    "    f.write(str(cap)) "
   ]
  },
  {
   "cell_type": "code",
   "execution_count": null,
   "id": "59c85862",
   "metadata": {},
   "outputs": [],
   "source": [
    "%%capture cap --no-stderr\n",
    "%%time\n",
    "! python3 essai_cop_mod2.py -data=reformulate_celar_50_7_10_5_0.800000_7.json -variant=card\n",
    "! java -jar choco-parsers-4.10.7-jar-with-dependencies.jar essai_cop_mod2-card-reformulate_celar_50_7_10_5_0.xml\n",
    "filename='reformulate_celar_50_7_10_5_0.800000_7'\n",
    " "
   ]
  },
  {
   "cell_type": "code",
   "execution_count": null,
   "id": "ea1d953b",
   "metadata": {},
   "outputs": [],
   "source": [
    "with open(filename+\"_output.txt\", 'w') as f:\n",
    "    f.write(str(cap)) "
   ]
  },
  {
   "cell_type": "code",
   "execution_count": 3,
   "id": "0c4dc340",
   "metadata": {},
   "outputs": [],
   "source": [
    "%%capture cap --no-stderr\n",
    "%%time\n",
    "! python3 essai_cop_mod2.py -data=reformulate_celar_50_7_10_5_0.800000_8.json -variant=card\n",
    "! java -jar choco-parsers-4.10.7-jar-with-dependencies.jar essai_cop_mod2-card-reformulate_celar_50_7_10_5_0.xml\n",
    "filename='reformulate_celar_50_7_10_5_0.800000_8'\n"
   ]
  },
  {
   "cell_type": "code",
   "execution_count": 4,
   "id": "85948b6a",
   "metadata": {},
   "outputs": [],
   "source": [
    "with open(filename+\"_output.txt\", 'w') as f:\n",
    "    f.write(str(cap)) "
   ]
  },
  {
   "cell_type": "code",
   "execution_count": null,
   "id": "b5fa9845",
   "metadata": {},
   "outputs": [],
   "source": [
    "%%capture cap --no-stderr\n",
    "%%time\n",
    "! python3 essai_cop_mod2.py -data=reformulate_celar_250_25_15_5_0.820000_7.json -variant=card \n",
    "! java -jar choco-parsers-4.10.7-jar-with-dependencies.jar essai_cop_mod2-card-reformulate_celar_250_25_15_5_0.xml\n",
    "filename='reformulate_celar_250_25_15_5_0.820000_7'\n"
   ]
  },
  {
   "cell_type": "code",
   "execution_count": null,
   "id": "a8f1ac52",
   "metadata": {},
   "outputs": [],
   "source": [
    "with open(filename+\"_output.txt\", 'w') as f:\n",
    "    f.write(str(cap)) "
   ]
  },
  {
   "cell_type": "code",
   "execution_count": null,
   "id": "7e0edd23",
   "metadata": {},
   "outputs": [],
   "source": [
    "%%capture cap --no-stderr\n",
    "%%time\n",
    "! python3 essai_cop_mod2.py -data=reformulate_celar_250_25_15_5_0.820000_5.json -variant=card\n",
    "! java -jar choco-parsers-4.10.7-jar-with-dependencies.jar essai_cop_mod2-card-reformulate_celar_250_25_15_5_0.xml\n",
    "filename='reformulate_celar_250_25_15_5_0.820000_5'\n"
   ]
  },
  {
   "cell_type": "code",
   "execution_count": null,
   "id": "5adf50cf",
   "metadata": {},
   "outputs": [],
   "source": [
    "with open(filename+\"_output.txt\", 'w') as f:\n",
    "    f.write(str(cap)) "
   ]
  },
  {
   "cell_type": "code",
   "execution_count": null,
   "id": "08755954",
   "metadata": {},
   "outputs": [],
   "source": [
    "%%capture cap --no-stderr\n",
    "%%time\n",
    "! python3 essai_cop_mod2.py -data=reformulate_celar_250_25_15_5_0.820000_22.json -variant=card\n",
    "! java -jar choco-parsers-4.10.7-jar-with-dependencies.jar essai_cop_mod2-card-reformulate_celar_250_25_15_5_0.xml\n",
    "filename='reformulate_celar_250_25_15_5_0.820000_22'\n"
   ]
  },
  {
   "cell_type": "code",
   "execution_count": null,
   "id": "631545ba",
   "metadata": {},
   "outputs": [],
   "source": [
    "with open(filename+\"_output.txt\", 'w') as f:\n",
    "    f.write(str(cap)) "
   ]
  },
  {
   "cell_type": "code",
   "execution_count": null,
   "id": "67f61598",
   "metadata": {},
   "outputs": [],
   "source": [
    "%%capture cap --no-stderr\n",
    "%%time\n",
    "! python3 essai_cop_mod2.py -data=reformulate_celar_250_25_15_5_0.820000_20.json -variant=card\n",
    "! java -jar choco-parsers-4.10.7-jar-with-dependencies.jar essai_cop_mod2-card-reformulate_celar_250_25_15_5_0.xml\n",
    "filename='reformulate_celar_250_25_15_5_0.820000_20'\n",
    "  "
   ]
  },
  {
   "cell_type": "code",
   "execution_count": null,
   "id": "36113d5f",
   "metadata": {},
   "outputs": [],
   "source": [
    "with open(filename+\"_output.txt\", 'w') as f:\n",
    "    f.write(str(cap)) "
   ]
  },
  {
   "cell_type": "code",
   "execution_count": null,
   "id": "b5ebbb07",
   "metadata": {},
   "outputs": [],
   "source": [
    "%%capture cap --no-stderr\n",
    "%%time\n",
    "! python3 essai_cop_mod2.py -data=reformulate_celar_150_13_15_5_0.800000_8.json -variant=card\n",
    "! java -jar choco-parsers-4.10.7-jar-with-dependencies.jar essai_cop_mod2-card-reformulate_celar_150_13_15_5_0.xml\n",
    "filename='reformulate_celar_150_13_15_5_0.800000_8'\n",
    " "
   ]
  },
  {
   "cell_type": "code",
   "execution_count": null,
   "id": "89f1f533",
   "metadata": {},
   "outputs": [],
   "source": [
    "with open(filename+\"_output.txt\", 'w') as f:\n",
    "    f.write(str(cap)) "
   ]
  },
  {
   "cell_type": "code",
   "execution_count": null,
   "id": "a6000b9b",
   "metadata": {},
   "outputs": [],
   "source": [
    "%%capture cap --no-stderr\n",
    "%%time\n",
    "! python3 essai_cop_mod2.py -data=reformulate_celar_150_13_15_5_0.800000_29.json -variant=\n",
    "! java -jar choco-parsers-4.10.7-jar-with-dependencies.jar essai_cop_mod2-card-reformulate_celar_150_13_15_5_0.xml\n",
    "filename='reformulate_celar_150_13_15_5_0.800000_29'\n"
   ]
  },
  {
   "cell_type": "code",
   "execution_count": null,
   "id": "27a62096",
   "metadata": {},
   "outputs": [],
   "source": [
    "with open(filename+\"_output.txt\", 'w') as f:\n",
    "    f.write(str(cap)) "
   ]
  },
  {
   "cell_type": "code",
   "execution_count": null,
   "id": "38fd6ff2",
   "metadata": {},
   "outputs": [],
   "source": [
    "%%capture cap --no-stderr\n",
    "%%time\n",
    "! python3 essai_cop_mod2.py -data=reformulate_celar_150_13_15_5_0.800000_28.json -variant=card\n",
    "! java -jar choco-parsers-4.10.7-jar-with-dependencies.jar essai_cop_mod2-card-reformulate_celar_150_13_15_5_0.xml\n",
    "filename='reformulate_celar_150_13_15_5_0.800000_28'\n"
   ]
  },
  {
   "cell_type": "code",
   "execution_count": null,
   "id": "5e917266",
   "metadata": {},
   "outputs": [],
   "source": [
    "with open(filename+\"_output.txt\", 'w') as f:\n",
    "    f.write(str(cap)) "
   ]
  },
  {
   "cell_type": "code",
   "execution_count": null,
   "id": "d4f0357b",
   "metadata": {},
   "outputs": [],
   "source": [
    "%%capture cap --no-stderr\n",
    "%%time\n",
    "! python3 essai_cop_mod2.py -data=reformulate_celar_150_13_15_5_0.800000_26.json -variant=card\n",
    "! java -jar choco-parsers-4.10.7-jar-with-dependencies.jar essai_cop_mod2-card-reformulate_celar_150_13_15_5_0.xml\n",
    "filename='reformulate_celar_150_13_15_5_0.800000_26'\n"
   ]
  },
  {
   "cell_type": "code",
   "execution_count": null,
   "id": "31a56f43",
   "metadata": {},
   "outputs": [],
   "source": [
    "with open(filename+\"_output.txt\", 'w') as f:\n",
    "    f.write(str(cap)) "
   ]
  },
  {
   "cell_type": "code",
   "execution_count": null,
   "id": "cfecc0c0",
   "metadata": {},
   "outputs": [],
   "source": [
    "%%capture cap --no-stderr\n",
    "%%time\n",
    "! python3 essai_cop_mod2.py -data=reformulate_celar_500_30_20_5_0.870000_24.json -variant=card\n",
    "! java -jar choco-parsers-4.10.7-jar-with-dependencies.jar essai_cop_mod2-card-reformulate_celar_500_30_20_5_0.xml\n",
    "filename='reformulate_celar_500_30_20_5_0.870000_24'\n"
   ]
  },
  {
   "cell_type": "code",
   "execution_count": null,
   "id": "f60cb6c2",
   "metadata": {},
   "outputs": [],
   "source": [
    "with open(filename+\"_output.txt\", 'w') as f:\n",
    "    f.write(str(cap)) "
   ]
  },
  {
   "cell_type": "code",
   "execution_count": null,
   "id": "774f231f",
   "metadata": {},
   "outputs": [],
   "source": [
    "%%capture cap --no-stderr\n",
    "%%time\n",
    "! python3 essai_cop_mod2.py -data=reformulate_celar_150_13_15_5_0.800000_2.json -variant=card\n",
    "! java -jar choco-parsers-4.10.7-jar-with-dependencies.jar essai_cop_mod2-card-reformulate_celar_150_13_15_5_0.xml\n",
    "filename='reformulate_celar_150_13_15_5_0.800000_2'\n"
   ]
  },
  {
   "cell_type": "code",
   "execution_count": null,
   "id": "7be05be3",
   "metadata": {},
   "outputs": [],
   "source": [
    "with open(filename+\"_output.txt\", 'w') as f:\n",
    "    f.write(str(cap)) "
   ]
  },
  {
   "cell_type": "code",
   "execution_count": null,
   "id": "b546d0f3",
   "metadata": {},
   "outputs": [],
   "source": [
    "%%capture cap --no-stderr\n",
    "%%time\n",
    "! python3 essai_cop_mod2.py -data=reformulate_celar_250_25_15_5_0.820000_9.json -variant=card\n",
    "! java -jar choco-parsers-4.10.7-jar-with-dependencies.jar essai_cop_mod2-card-reformulate_celar_250_25_15_5_0.xml\n",
    "filename='reformulate_celar_250_25_15_5_0.820000_9'\n"
   ]
  },
  {
   "cell_type": "code",
   "execution_count": null,
   "id": "fdc66290",
   "metadata": {},
   "outputs": [],
   "source": [
    "with open(filename+\"_output.txt\", 'w') as f:\n",
    "    f.write(str(cap)) "
   ]
  },
  {
   "cell_type": "code",
   "execution_count": null,
   "id": "0cdd505e",
   "metadata": {},
   "outputs": [],
   "source": [
    "%%capture cap --no-stderr\n",
    "%%time\n",
    "! python3 essai_cop_mod2.py -data=reformulate_celar_150_13_15_5_0.800000_2.json -variant=card \n",
    "! java -jar choco-parsers-4.10.7-jar-with-dependencies.jar essai_cop_mod2-card-reformulate_celar_150_13_15_5_0.xml\n",
    "filename='reformulate_celar_150_13_15_5_0.800000_2'\n"
   ]
  },
  {
   "cell_type": "code",
   "execution_count": null,
   "id": "38b92a9f",
   "metadata": {},
   "outputs": [],
   "source": [
    "with open(filename+\"_output.txt\", 'w') as f:\n",
    "    f.write(str(cap)) "
   ]
  },
  {
   "cell_type": "code",
   "execution_count": null,
   "id": "8d662231",
   "metadata": {},
   "outputs": [],
   "source": [
    "l=[]\n",
    "directory = r\"C:\\Users\\HASEE\\Desktop\\Projet MRO\\données-reformulées-cop\\Choco\\card\"\n",
    "for filename in os.listdir(directory):\n",
    "    if filename.endswith('.json'):\n",
    "        l.append(filename)\n",
    "        print(filename)\n",
    "print(len(l))"
   ]
  },
  {
   "cell_type": "code",
   "execution_count": null,
   "id": "8ed5148b",
   "metadata": {},
   "outputs": [],
   "source": [
    "directory = r\"C:\\Users\\HASEE\\Desktop\\Projet MRO\\données-reformulées-cop\\Choco\\Card\"\n",
    "for filename in os.listdir(directory):\n",
    "    if filename.startswith('solver'):\n",
    "        os.remove(filename)"
   ]
  },
  {
   "cell_type": "code",
   "execution_count": 2,
   "id": "5edcecfe",
   "metadata": {},
   "outputs": [],
   "source": [
    "directory = r\"C:\\Users\\HASEE\\Desktop\\Projet MRO\\données-reformulées-cop\\Choco\\Card\"\n",
    "for filename in os.listdir(directory):\n",
    "    if filename.endswith('.txt'):\n",
    "        os.remove(filename)"
   ]
  }
 ],
 "metadata": {
  "kernelspec": {
   "display_name": "Python 3 (ipykernel)",
   "language": "python",
   "name": "python3"
  },
  "language_info": {
   "codemirror_mode": {
    "name": "ipython",
    "version": 3
   },
   "file_extension": ".py",
   "mimetype": "text/x-python",
   "name": "python",
   "nbconvert_exporter": "python",
   "pygments_lexer": "ipython3",
   "version": "3.9.7"
  }
 },
 "nbformat": 4,
 "nbformat_minor": 5
}
