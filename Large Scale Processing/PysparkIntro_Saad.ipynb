{
  "nbformat": 4,
  "nbformat_minor": 0,
  "metadata": {
    "colab": {
      "name": "PysparkIntro.ipynb",
      "provenance": [],
      "collapsed_sections": []
    },
    "kernelspec": {
      "name": "python3",
      "display_name": "Python 3"
    },
    "language_info": {
      "name": "python"
    }
  },
  "cells": [
    {
      "cell_type": "markdown",
      "metadata": {
        "id": "e1LMcbadXz4P"
      },
      "source": [
        "# <font color='Blue'>Introduction à PySpark</font>\n",
        "\n",
        "Ce notebook a pour objectif de vous familiariser avec les fonctions et commandes de base de Spark en utilisant l'API Python (PySpark)"
      ]
    },
    {
      "cell_type": "markdown",
      "metadata": {
        "id": "m5qQI1YEYZUX"
      },
      "source": [
        "## Installation \n",
        "\n",
        "Vous devez installer les dépendences dans l'environnement de votre Google Colab. Vous aurez besoin de :\n",
        "\n",
        " * openjdk-8-jdk-headless\n",
        " * spark 3.0.3 avec hadoop 2.7 \n",
        " * PySpark 3.0.3\n",
        " * findspark"
      ]
    },
    {
      "cell_type": "code",
      "metadata": {
        "id": "QaRu6fuHXLld",
        "colab": {
          "base_uri": "https://localhost:8080/"
        },
        "outputId": "4d0b23f9-00e3-48a8-c0ca-9d2c68ff65fe"
      },
      "source": [
        "!apt-get install openjdk-8-jdk-headless -qq > /dev/null\n",
        "!wget https://dlcdn.apache.org/spark/spark-3.0.3/spark-3.0.3-bin-hadoop2.7.tgz && tar xf spark-3.0.3-bin-hadoop2.7.tgz\n",
        "!pip install pyspark==3.0.3 findspark"
      ],
      "execution_count": null,
      "outputs": [
        {
          "output_type": "stream",
          "name": "stdout",
          "text": [
            "--2021-10-07 11:56:59--  https://dlcdn.apache.org/spark/spark-3.0.3/spark-3.0.3-bin-hadoop2.7.tgz\n",
            "Resolving dlcdn.apache.org (dlcdn.apache.org)... 151.101.2.132, 2a04:4e42::644\n",
            "Connecting to dlcdn.apache.org (dlcdn.apache.org)|151.101.2.132|:443... connected.\n",
            "HTTP request sent, awaiting response... 200 OK\n",
            "Length: 220400553 (210M) [application/x-gzip]\n",
            "Saving to: ‘spark-3.0.3-bin-hadoop2.7.tgz’\n",
            "\n",
            "spark-3.0.3-bin-had 100%[===================>] 210.19M   213MB/s    in 1.0s    \n",
            "\n",
            "2021-10-07 11:57:00 (213 MB/s) - ‘spark-3.0.3-bin-hadoop2.7.tgz’ saved [220400553/220400553]\n",
            "\n",
            "Collecting pyspark==3.0.3\n",
            "  Downloading pyspark-3.0.3.tar.gz (209.1 MB)\n",
            "\u001b[K     |████████████████████████████████| 209.1 MB 61 kB/s \n",
            "\u001b[?25hCollecting findspark\n",
            "  Downloading findspark-1.4.2-py2.py3-none-any.whl (4.2 kB)\n",
            "Collecting py4j==0.10.9\n",
            "  Downloading py4j-0.10.9-py2.py3-none-any.whl (198 kB)\n",
            "\u001b[K     |████████████████████████████████| 198 kB 72.4 MB/s \n",
            "\u001b[?25hBuilding wheels for collected packages: pyspark\n",
            "  Building wheel for pyspark (setup.py) ... \u001b[?25l\u001b[?25hdone\n",
            "  Created wheel for pyspark: filename=pyspark-3.0.3-py2.py3-none-any.whl size=209435970 sha256=af9b8c42f571e1c3dce459c63eba1bb78ccb5d3b9c39d42344aba422ffa26636\n",
            "  Stored in directory: /root/.cache/pip/wheels/7e/6d/0a/6b0bf301bc056d9af03194b732b9f49ad2fceb205aab2984fd\n",
            "Successfully built pyspark\n",
            "Installing collected packages: py4j, pyspark, findspark\n",
            "Successfully installed findspark-1.4.2 py4j-0.10.9 pyspark-3.0.3\n"
          ]
        }
      ]
    },
    {
      "cell_type": "markdown",
      "metadata": {
        "id": "7EC4JlK4ZLlt"
      },
      "source": [
        "## Configurer et créer une session Spark\n",
        "\n",
        "Depuis la version 2.0 de Spark le point d'entrée à PySpark est **SparkSession**, antérieurement le point d'entrée était **SparkContext**.\n",
        "\n",
        "Une session `SparkSession` crée des objets `SparkConfig` et `SparkContext` en interne. Une session `SparkSession` peut être créée en utilisant `SparkSession.builder`\n",
        "\n"
      ]
    },
    {
      "cell_type": "code",
      "metadata": {
        "id": "AkuT0ihYXvAn"
      },
      "source": [
        "from pyspark.sql import SparkSession\n",
        "spark = SparkSession.builder\\\n",
        "                    .appName(\"Introduction to pyspark\")\\\n",
        "                    .master(\"local[*]\")\\\n",
        "                    .getOrCreate()"
      ],
      "execution_count": null,
      "outputs": []
    },
    {
      "cell_type": "markdown",
      "metadata": {
        "id": "rFZzhl_QavOQ"
      },
      "source": [
        "La commande précédente crée un session Spark en utilisant le \"builder\" \n",
        "\n",
        "* `appName()` cette méthode est utilisée pour configurer le nom de votre application\n",
        "* `master()`\n",
        "  * Si Spark est executé dans un cluster vous devez donner le nom du master en argument, typiquement `yarn` ou `mesos`. \n",
        "  * Si Spark est configuré en mode `standalone` utilisez l'agument `local[X]`. `X` étant le nombre de partitions que doit créer votre Spark. `X` doit être une valeur supérieure à 0 et de manière générale sa valeur doit être égale au nombre de processeurs. Dans notre exemple ci-dessus `*` représente tous les processeurs disponibles. \n",
        "* `getOrCreate()` cette méthode retourne une session Spark si elle existe ou autrement en crée une nouvelle.\n"
      ]
    },
    {
      "cell_type": "markdown",
      "metadata": {
        "id": "cft4nuRLfA6t"
      },
      "source": [
        "## Télécharger et lire un fichier\n",
        "\n",
        "Uploader les fichiers fournis avec ce notebook dans l'environement Colab. Utilisez `google.colab files`\n",
        "\n",
        "Pour rappel les fichiers sont :\n",
        "\n",
        "* `WorldCupMatches.scv`\n",
        "* `WorldCupPlayers.csv`\n",
        "* `WorldCups.csv`"
      ]
    },
    {
      "cell_type": "code",
      "metadata": {
        "id": "4Q4s-chLaudY",
        "colab": {
          "base_uri": "https://localhost:8080/"
        },
        "outputId": "d193b552-ac74-447e-ecf7-ccfcd2510b9c"
      },
      "source": [
        "from google.colab import files\n",
        "\n",
        "uploaded = files.upload()\n",
        "\n"
      ],
      "execution_count": null,
      "outputs": [
        {
          "output_type": "stream",
          "name": "stdout",
          "text": [
            "root\n",
            " |-- _c0: string (nullable = true)\n",
            " |-- _c1: string (nullable = true)\n",
            " |-- _c2: string (nullable = true)\n",
            " |-- _c3: string (nullable = true)\n",
            " |-- _c4: string (nullable = true)\n",
            " |-- _c5: string (nullable = true)\n",
            " |-- _c6: string (nullable = true)\n",
            " |-- _c7: string (nullable = true)\n",
            " |-- _c8: string (nullable = true)\n",
            " |-- _c9: string (nullable = true)\n",
            " |-- _c10: string (nullable = true)\n",
            " |-- _c11: string (nullable = true)\n",
            " |-- _c12: string (nullable = true)\n",
            " |-- _c13: string (nullable = true)\n",
            " |-- _c14: string (nullable = true)\n",
            " |-- _c15: string (nullable = true)\n",
            " |-- _c16: string (nullable = true)\n",
            " |-- _c17: string (nullable = true)\n",
            " |-- _c18: string (nullable = true)\n",
            " |-- _c19: string (nullable = true)\n",
            "\n"
          ]
        }
      ]
    },
    {
      "cell_type": "markdown",
      "metadata": {
        "id": "8Nrd6UKf_zX8"
      },
      "source": [
        "Listez les fichiers"
      ]
    },
    {
      "cell_type": "code",
      "metadata": {
        "id": "qo9_8lNOis6y",
        "colab": {
          "base_uri": "https://localhost:8080/"
        },
        "outputId": "e8698192-4a4a-451e-ec54-ca2439749c4a"
      },
      "source": [
        "\n",
        "\n"
      ],
      "execution_count": null,
      "outputs": [
        {
          "output_type": "stream",
          "name": "stdout",
          "text": [
            "root\n",
            " |-- _c0: string (nullable = true)\n",
            " |-- _c1: string (nullable = true)\n",
            " |-- _c2: string (nullable = true)\n",
            " |-- _c3: string (nullable = true)\n",
            " |-- _c4: string (nullable = true)\n",
            " |-- _c5: string (nullable = true)\n",
            " |-- _c6: string (nullable = true)\n",
            " |-- _c7: string (nullable = true)\n",
            " |-- _c8: string (nullable = true)\n",
            " |-- _c9: string (nullable = true)\n",
            " |-- _c10: string (nullable = true)\n",
            " |-- _c11: string (nullable = true)\n",
            " |-- _c12: string (nullable = true)\n",
            " |-- _c13: string (nullable = true)\n",
            " |-- _c14: string (nullable = true)\n",
            " |-- _c15: string (nullable = true)\n",
            " |-- _c16: string (nullable = true)\n",
            " |-- _c17: string (nullable = true)\n",
            " |-- _c18: string (nullable = true)\n",
            " |-- _c19: string (nullable = true)\n",
            "\n"
          ]
        }
      ]
    },
    {
      "cell_type": "markdown",
      "metadata": {
        "id": "57fALUzwmZYb"
      },
      "source": [
        "Utilisez la méthode `spark.read.csv` pour lire le fichier `WorldCupMatches.csv`"
      ]
    },
    {
      "cell_type": "code",
      "metadata": {
        "id": "2hsv3PeCi-hP"
      },
      "source": [
        "Wc_matches = spark.read.csv('./WorldCupMatches.csv')\n"
      ],
      "execution_count": null,
      "outputs": []
    },
    {
      "cell_type": "markdown",
      "metadata": {
        "id": "TZPcCbAvmScZ"
      },
      "source": [
        "## Inspecter un DataFrame"
      ]
    },
    {
      "cell_type": "markdown",
      "metadata": {
        "id": "XT8Cy0uwmklM"
      },
      "source": [
        "### Afficher le schema d'un DataFrame\n",
        "\n",
        "Utilisez la méthode `printSchema` pour afficher le schèma de votre DataFrame.\n",
        "\n",
        "Que remarquez-vous ? "
      ]
    },
    {
      "cell_type": "code",
      "metadata": {
        "id": "p1cNTh42jYHm"
      },
      "source": [
        "Wc_matches.printSchema()"
      ],
      "execution_count": null,
      "outputs": []
    },
    {
      "cell_type": "markdown",
      "metadata": {
        "id": "eMozWrFKnLRr"
      },
      "source": [
        "<font color='Blue'>Tip: PrintSchema bien qu'affichant des données reste une opération d'input/output et non une action ce qui fait qu'elle est rapide en execution</font>\n"
      ]
    },
    {
      "cell_type": "markdown",
      "metadata": {
        "id": "V9PCje6coV2M"
      },
      "source": [
        "### Ajouter les labels depuis le CSV\n",
        "\n",
        "* Chercher l'option qui permet d'ajouter les labels.\n",
        "* Afficher le schèma de nouveau et observez la différence"
      ]
    },
    {
      "cell_type": "code",
      "metadata": {
        "id": "LUvudnQjjefU"
      },
      "source": [
        "Wc_matches = spark.read.csv('./WorldCupMatches.csv',header = True, inferSchema=True)\n"
      ],
      "execution_count": null,
      "outputs": []
    },
    {
      "cell_type": "markdown",
      "metadata": {
        "id": "olQzuQnso4Pq"
      },
      "source": [
        "### Typer le schèma implicitement ou explicitement \n",
        "\n",
        "#### Implicite\n",
        "\n",
        "* Cherchez l'option dans `read.csv` qui permet de définir les types des colonnes. \n",
        "* Afficher le schèma de nouveau et observez la différence"
      ]
    },
    {
      "cell_type": "code",
      "metadata": {
        "id": "opnCuSE1oxaf",
        "colab": {
          "base_uri": "https://localhost:8080/"
        },
        "outputId": "6b4be8d5-1178-4200-b606-31d1809e7fae"
      },
      "source": [
        "Wc_matches.printSchema()"
      ],
      "execution_count": null,
      "outputs": [
        {
          "output_type": "stream",
          "name": "stdout",
          "text": [
            "root\n",
            " |-- Year: integer (nullable = true)\n",
            " |-- Datetime: string (nullable = true)\n",
            " |-- Stage: string (nullable = true)\n",
            " |-- Stadium: string (nullable = true)\n",
            " |-- City: string (nullable = true)\n",
            " |-- Home Team Name: string (nullable = true)\n",
            " |-- Home Team Goals: integer (nullable = true)\n",
            " |-- Away Team Goals: integer (nullable = true)\n",
            " |-- Away Team Name: string (nullable = true)\n",
            " |-- Win conditions: string (nullable = true)\n",
            " |-- Attendance: integer (nullable = true)\n",
            " |-- Half-time Home Goals: integer (nullable = true)\n",
            " |-- Half-time Away Goals: integer (nullable = true)\n",
            " |-- Referee: string (nullable = true)\n",
            " |-- Assistant 1: string (nullable = true)\n",
            " |-- Assistant 2: string (nullable = true)\n",
            " |-- RoundID: integer (nullable = true)\n",
            " |-- MatchID: integer (nullable = true)\n",
            " |-- Home Team Initials: string (nullable = true)\n",
            " |-- Away Team Initials: string (nullable = true)\n",
            "\n"
          ]
        }
      ]
    },
    {
      "cell_type": "markdown",
      "metadata": {
        "id": "a6x9N0rupjFN"
      },
      "source": [
        "#### Définir les types explicitement.\n",
        "\n",
        "Executez le code suivant et comparez le type de la colonne `DateTime` entre la version explicite et la version implicite."
      ]
    },
    {
      "cell_type": "code",
      "metadata": {
        "id": "nuVr9IH0pfyL",
        "colab": {
          "base_uri": "https://localhost:8080/"
        },
        "outputId": "eabe316b-2eb7-4074-ce15-75cca489727a"
      },
      "source": [
        "from pyspark.sql.types import *\n",
        "\n",
        "data_schema = [\n",
        "              StructField('Year', IntegerType (),True),\n",
        "              StructField('Datetime', DateType (),True),\n",
        "              StructField('Stage', StringType (),True),\n",
        "              StructField('Stadium', StringType (),True),\n",
        "              StructField('City', StringType (),True),\n",
        "              StructField('Home Team Name', StringType (),True),\n",
        "              StructField('Home Team Goals', IntegerType (),True),\n",
        "              StructField('Away Team Goals', IntegerType (),True),\n",
        "              StructField('Away Team Name', StringType (),True),\n",
        "              StructField('Win conditions', StringType (),True),\n",
        "              StructField('Attendance', IntegerType (),True),\n",
        "              StructField('Half-time Home Goals', IntegerType (),True),\n",
        "              StructField('Half-time Away Goals', IntegerType (),True),\n",
        "              StructField('Referee', StringType (),True),\n",
        "              StructField('Assistant 1', StringType (),True),\n",
        "              StructField('Assistant 2', StringType (),True),\n",
        "              StructField('RoundID', IntegerType (),True),\n",
        "              StructField('MatchID', IntegerType (),True),\n",
        "              StructField('Home Team Initials', StringType (),True),\n",
        "              StructField('Away Team Initials', StringType (),True),\n",
        "            ]\n",
        "\n",
        "final_struc = StructType(fields = data_schema)\n",
        "\n",
        "worldCupDf = spark.read.csv('WorldCupMatches.csv',\n",
        "    sep = ',',\n",
        "    header = True,\n",
        "    schema = final_struc \n",
        "    )\n",
        "\n",
        "worldCupDf.printSchema()"
      ],
      "execution_count": null,
      "outputs": [
        {
          "output_type": "stream",
          "name": "stdout",
          "text": [
            "root\n",
            " |-- Year: integer (nullable = true)\n",
            " |-- Datetime: date (nullable = true)\n",
            " |-- Stage: string (nullable = true)\n",
            " |-- Stadium: string (nullable = true)\n",
            " |-- City: string (nullable = true)\n",
            " |-- Home Team Name: string (nullable = true)\n",
            " |-- Home Team Goals: integer (nullable = true)\n",
            " |-- Away Team Goals: integer (nullable = true)\n",
            " |-- Away Team Name: string (nullable = true)\n",
            " |-- Win conditions: string (nullable = true)\n",
            " |-- Attendance: integer (nullable = true)\n",
            " |-- Half-time Home Goals: integer (nullable = true)\n",
            " |-- Half-time Away Goals: integer (nullable = true)\n",
            " |-- Referee: string (nullable = true)\n",
            " |-- Assistant 1: string (nullable = true)\n",
            " |-- Assistant 2: string (nullable = true)\n",
            " |-- RoundID: integer (nullable = true)\n",
            " |-- MatchID: integer (nullable = true)\n",
            " |-- Home Team Initials: string (nullable = true)\n",
            " |-- Away Team Initials: string (nullable = true)\n",
            "\n"
          ]
        }
      ]
    },
    {
      "cell_type": "markdown",
      "metadata": {
        "id": "qZPBHCG7r4FY"
      },
      "source": [
        "### Autre méthode pour afficher le shema\n",
        "\n",
        "Executer la méthode `schema` sur votre dataFrame"
      ]
    },
    {
      "cell_type": "code",
      "metadata": {
        "id": "EVTgefc2rHAH",
        "colab": {
          "base_uri": "https://localhost:8080/"
        },
        "outputId": "9f5c4dad-1fae-4d01-a32f-c8dfa2cc8f17"
      },
      "source": [
        "Wc_matches.schema"
      ],
      "execution_count": null,
      "outputs": [
        {
          "output_type": "execute_result",
          "data": {
            "text/plain": [
              "StructType(List(StructField(Year,IntegerType,true),StructField(Datetime,StringType,true),StructField(Stage,StringType,true),StructField(Stadium,StringType,true),StructField(City,StringType,true),StructField(Home Team Name,StringType,true),StructField(Home Team Goals,IntegerType,true),StructField(Away Team Goals,IntegerType,true),StructField(Away Team Name,StringType,true),StructField(Win conditions,StringType,true),StructField(Attendance,IntegerType,true),StructField(Half-time Home Goals,IntegerType,true),StructField(Half-time Away Goals,IntegerType,true),StructField(Referee,StringType,true),StructField(Assistant 1,StringType,true),StructField(Assistant 2,StringType,true),StructField(RoundID,IntegerType,true),StructField(MatchID,IntegerType,true),StructField(Home Team Initials,StringType,true),StructField(Away Team Initials,StringType,true)))"
            ]
          },
          "metadata": {},
          "execution_count": 15
        }
      ]
    },
    {
      "cell_type": "markdown",
      "metadata": {
        "id": "vLgbemSFsQtZ"
      },
      "source": [
        "Utilisez `dtypes` pour lister les types de chaque colone"
      ]
    },
    {
      "cell_type": "code",
      "metadata": {
        "id": "rUY8NpEGsMq1",
        "colab": {
          "base_uri": "https://localhost:8080/"
        },
        "outputId": "d799cecd-bd5f-4494-eae6-4e5461cf69f8"
      },
      "source": [
        "Wc_matches.dtypes"
      ],
      "execution_count": null,
      "outputs": [
        {
          "output_type": "execute_result",
          "data": {
            "text/plain": [
              "[('Year', 'int'),\n",
              " ('Datetime', 'string'),\n",
              " ('Stage', 'string'),\n",
              " ('Stadium', 'string'),\n",
              " ('City', 'string'),\n",
              " ('Home Team Name', 'string'),\n",
              " ('Home Team Goals', 'int'),\n",
              " ('Away Team Goals', 'int'),\n",
              " ('Away Team Name', 'string'),\n",
              " ('Win conditions', 'string'),\n",
              " ('Attendance', 'int'),\n",
              " ('Half-time Home Goals', 'int'),\n",
              " ('Half-time Away Goals', 'int'),\n",
              " ('Referee', 'string'),\n",
              " ('Assistant 1', 'string'),\n",
              " ('Assistant 2', 'string'),\n",
              " ('RoundID', 'int'),\n",
              " ('MatchID', 'int'),\n",
              " ('Home Team Initials', 'string'),\n",
              " ('Away Team Initials', 'string')]"
            ]
          },
          "metadata": {},
          "execution_count": 16
        }
      ]
    },
    {
      "cell_type": "markdown",
      "metadata": {
        "id": "_SKSazt0sd03"
      },
      "source": [
        "Utilisez `head(n)` pour afficher les `n` premieres lignes de votre dataframe. Par défaut si `n` n'est pas spécifié `n= 1` "
      ]
    },
    {
      "cell_type": "code",
      "metadata": {
        "id": "_Sa056y_sbTi",
        "colab": {
          "base_uri": "https://localhost:8080/"
        },
        "outputId": "4519ba86-bbbc-40c9-a9e7-b944add1305e"
      },
      "source": [
        "Wc_matches.head(5)"
      ],
      "execution_count": null,
      "outputs": [
        {
          "output_type": "execute_result",
          "data": {
            "text/plain": [
              "[Row(Year=1930, Datetime='13 Jul 1930 - 15:00 ', Stage='Group 1', Stadium='Pocitos', City='Montevideo ', Home Team Name='France', Home Team Goals=4, Away Team Goals=1, Away Team Name='Mexico', Win conditions=' ', Attendance=4444, Half-time Home Goals=3, Half-time Away Goals=0, Referee='LOMBARDI Domingo (URU)', Assistant 1='CRISTOPHE Henry (BEL)', Assistant 2='REGO Gilberto (BRA)', RoundID=201, MatchID=1096, Home Team Initials='FRA', Away Team Initials='MEX'),\n",
              " Row(Year=1930, Datetime='13 Jul 1930 - 15:00 ', Stage='Group 4', Stadium='Parque Central', City='Montevideo ', Home Team Name='USA', Home Team Goals=3, Away Team Goals=0, Away Team Name='Belgium', Win conditions=' ', Attendance=18346, Half-time Home Goals=2, Half-time Away Goals=0, Referee='MACIAS Jose (ARG)', Assistant 1='MATEUCCI Francisco (URU)', Assistant 2='WARNKEN Alberto (CHI)', RoundID=201, MatchID=1090, Home Team Initials='USA', Away Team Initials='BEL'),\n",
              " Row(Year=1930, Datetime='14 Jul 1930 - 12:45 ', Stage='Group 2', Stadium='Parque Central', City='Montevideo ', Home Team Name='Yugoslavia', Home Team Goals=2, Away Team Goals=1, Away Team Name='Brazil', Win conditions=' ', Attendance=24059, Half-time Home Goals=2, Half-time Away Goals=0, Referee='TEJADA Anibal (URU)', Assistant 1='VALLARINO Ricardo (URU)', Assistant 2='BALWAY Thomas (FRA)', RoundID=201, MatchID=1093, Home Team Initials='YUG', Away Team Initials='BRA'),\n",
              " Row(Year=1930, Datetime='14 Jul 1930 - 14:50 ', Stage='Group 3', Stadium='Pocitos', City='Montevideo ', Home Team Name='Romania', Home Team Goals=3, Away Team Goals=1, Away Team Name='Peru', Win conditions=' ', Attendance=2549, Half-time Home Goals=1, Half-time Away Goals=0, Referee='WARNKEN Alberto (CHI)', Assistant 1='LANGENUS Jean (BEL)', Assistant 2='MATEUCCI Francisco (URU)', RoundID=201, MatchID=1098, Home Team Initials='ROU', Away Team Initials='PER'),\n",
              " Row(Year=1930, Datetime='15 Jul 1930 - 16:00 ', Stage='Group 1', Stadium='Parque Central', City='Montevideo ', Home Team Name='Argentina', Home Team Goals=1, Away Team Goals=0, Away Team Name='France', Win conditions=' ', Attendance=23409, Half-time Home Goals=0, Half-time Away Goals=0, Referee='REGO Gilberto (BRA)', Assistant 1='SAUCEDO Ulises (BOL)', Assistant 2='RADULESCU Constantin (ROU)', RoundID=201, MatchID=1085, Home Team Initials='ARG', Away Team Initials='FRA')]"
            ]
          },
          "metadata": {},
          "execution_count": 17
        }
      ]
    },
    {
      "cell_type": "markdown",
      "metadata": {
        "id": "DbZmtTpaspst"
      },
      "source": [
        "Utilisez `show()` ou `show(n)` pour afficher les n premieres lignes de votre dataframe\n"
      ]
    },
    {
      "cell_type": "code",
      "metadata": {
        "id": "cZ1NSb_rsoGf",
        "colab": {
          "base_uri": "https://localhost:8080/"
        },
        "outputId": "63d0001f-a308-4fa3-f8e2-d5c2c3c3b2ac"
      },
      "source": [
        "\n",
        "print(Wc_matches.Year)"
      ],
      "execution_count": null,
      "outputs": [
        {
          "output_type": "stream",
          "name": "stdout",
          "text": [
            "Column<b'Year'>\n"
          ]
        }
      ]
    },
    {
      "cell_type": "markdown",
      "metadata": {
        "id": "mZfBytLntMmw"
      },
      "source": [
        "Utilisez `describe()` pour décrire votre dataFrame et obtenir une résumé des stats "
      ]
    },
    {
      "cell_type": "code",
      "metadata": {
        "id": "DqjDzy3gs_dT",
        "colab": {
          "base_uri": "https://localhost:8080/"
        },
        "outputId": "fd471a48-6111-4e0b-9cb0-87ed8dceb5ab"
      },
      "source": [
        "Wc_matches.describe()"
      ],
      "execution_count": null,
      "outputs": [
        {
          "output_type": "execute_result",
          "data": {
            "text/plain": [
              "DataFrame[summary: string, Year: string, Datetime: string, Stage: string, Stadium: string, City: string, Home Team Name: string, Home Team Goals: string, Away Team Goals: string, Away Team Name: string, Win conditions: string, Attendance: string, Half-time Home Goals: string, Half-time Away Goals: string, Referee: string, Assistant 1: string, Assistant 2: string, RoundID: string, MatchID: string, Home Team Initials: string, Away Team Initials: string]"
            ]
          },
          "metadata": {},
          "execution_count": 19
        }
      ]
    },
    {
      "cell_type": "markdown",
      "metadata": {
        "id": "haWZB8titbtS"
      },
      "source": [
        "Utilisez `columns` pour afficher les noms des différentes colonnes "
      ]
    },
    {
      "cell_type": "code",
      "metadata": {
        "id": "nWCpK0O5tXHf",
        "colab": {
          "base_uri": "https://localhost:8080/"
        },
        "outputId": "8f825d22-07ec-433f-debc-d616343f5175"
      },
      "source": [
        "Wc_matches.columns"
      ],
      "execution_count": null,
      "outputs": [
        {
          "output_type": "execute_result",
          "data": {
            "text/plain": [
              "['Year',\n",
              " 'Datetime',\n",
              " 'Stage',\n",
              " 'Stadium',\n",
              " 'City',\n",
              " 'Home Team Name',\n",
              " 'Home Team Goals',\n",
              " 'Away Team Goals',\n",
              " 'Away Team Name',\n",
              " 'Win conditions',\n",
              " 'Attendance',\n",
              " 'Half-time Home Goals',\n",
              " 'Half-time Away Goals',\n",
              " 'Referee',\n",
              " 'Assistant 1',\n",
              " 'Assistant 2',\n",
              " 'RoundID',\n",
              " 'MatchID',\n",
              " 'Home Team Initials',\n",
              " 'Away Team Initials']"
            ]
          },
          "metadata": {},
          "execution_count": 20
        }
      ]
    },
    {
      "cell_type": "markdown",
      "metadata": {
        "id": "mB0FVYibtofW"
      },
      "source": [
        "Utilisez `count()` pour avoir le nombre de lignes dans le dataFrame"
      ]
    },
    {
      "cell_type": "code",
      "metadata": {
        "id": "ogbRZGy5tiZn",
        "colab": {
          "base_uri": "https://localhost:8080/"
        },
        "outputId": "68330961-a2b8-40ea-810f-5ff646abaffb"
      },
      "source": [
        "Wc_matches.count"
      ],
      "execution_count": null,
      "outputs": [
        {
          "output_type": "execute_result",
          "data": {
            "text/plain": [
              "<bound method DataFrame.count of DataFrame[Year: int, Datetime: string, Stage: string, Stadium: string, City: string, Home Team Name: string, Home Team Goals: int, Away Team Goals: int, Away Team Name: string, Win conditions: string, Attendance: int, Half-time Home Goals: int, Half-time Away Goals: int, Referee: string, Assistant 1: string, Assistant 2: string, RoundID: int, MatchID: int, Home Team Initials: string, Away Team Initials: string]>"
            ]
          },
          "metadata": {},
          "execution_count": 22
        }
      ]
    },
    {
      "cell_type": "markdown",
      "metadata": {
        "id": "Ovoyrj8Ktyza"
      },
      "source": [
        "Utilisez `distinct()` pour avoir le nombre de lignes uniques"
      ]
    },
    {
      "cell_type": "code",
      "metadata": {
        "id": "c4CLDMfJtxVL",
        "colab": {
          "base_uri": "https://localhost:8080/"
        },
        "outputId": "16fb397b-d776-492f-965d-c0dba4a4e97a"
      },
      "source": [
        "Wc_matches.distinct"
      ],
      "execution_count": null,
      "outputs": [
        {
          "output_type": "execute_result",
          "data": {
            "text/plain": [
              "<bound method DataFrame.distinct of DataFrame[Year: int, Datetime: string, Stage: string, Stadium: string, City: string, Home Team Name: string, Home Team Goals: int, Away Team Goals: int, Away Team Name: string, Win conditions: string, Attendance: int, Half-time Home Goals: int, Half-time Away Goals: int, Referee: string, Assistant 1: string, Assistant 2: string, RoundID: int, MatchID: int, Home Team Initials: string, Away Team Initials: string]>"
            ]
          },
          "metadata": {},
          "execution_count": 25
        }
      ]
    },
    {
      "cell_type": "markdown",
      "metadata": {
        "id": "8DkrsR8SuD4w"
      },
      "source": [
        "Jusqu'ici si vous êtes familier avec la librairie Pandas de Python vous aurez remarqué que les méthodes sont quasiment identiques"
      ]
    },
    {
      "cell_type": "markdown",
      "metadata": {
        "id": "oEGkHSt5uQ2a"
      },
      "source": [
        "## Manipulation des colonnes \n",
        "\n",
        "\n"
      ]
    },
    {
      "cell_type": "markdown",
      "metadata": {
        "id": "SainCgXttrhu"
      },
      "source": [
        "### Ajouter des colonnes\n",
        "\n",
        "Utilisez la méthode `withColumn` pour ajouter une colonne dans votre dataFrame. \n",
        "Cette méthode prend deux arguments: le nom de la nouvelle colonne et les données à y mettre.\n",
        "\n",
        "Ajoutez une nouvelle colonne nommée `Goal Difference` qui contient la différence en valeur absolue entre les `Home Team Goals` et `Away Team Goals`\n",
        "\n",
        "Vous devez utiliser la fonction `abs()`, pensez à bien l'importer!"
      ]
    },
    {
      "cell_type": "code",
      "metadata": {
        "id": "AXbypBCVt8rJ"
      },
      "source": [
        "from pyspark.sql.functions import abs \n",
        "Wc_matches = Wc_matches.withColumn('Goal Diff',abs(Wc_matches['Home Team Goals']-Wc_matches['Away Team Goals']))"
      ],
      "execution_count": null,
      "outputs": []
    },
    {
      "cell_type": "code",
      "metadata": {
        "id": "jYOwl1esuCcx",
        "colab": {
          "base_uri": "https://localhost:8080/"
        },
        "outputId": "8ad4df19-916b-43a4-e9a6-c0ff2bc3124d"
      },
      "source": [
        "Wc_matches.show(5)"
      ],
      "execution_count": null,
      "outputs": [
        {
          "output_type": "stream",
          "name": "stdout",
          "text": [
            "+----+--------------------+-------+--------------+-----------+--------------+---------------+---------------+--------------+--------------+----------+--------------------+--------------------+--------------------+--------------------+--------------------+-------+-------+------------------+------------------+---------+\n",
            "|Year|            Datetime|  Stage|       Stadium|       City|Home Team Name|Home Team Goals|Away Team Goals|Away Team Name|Win conditions|Attendance|Half-time Home Goals|Half-time Away Goals|             Referee|         Assistant 1|         Assistant 2|RoundID|MatchID|Home Team Initials|Away Team Initials|Goal Diff|\n",
            "+----+--------------------+-------+--------------+-----------+--------------+---------------+---------------+--------------+--------------+----------+--------------------+--------------------+--------------------+--------------------+--------------------+-------+-------+------------------+------------------+---------+\n",
            "|1930|13 Jul 1930 - 15:00 |Group 1|       Pocitos|Montevideo |        France|              4|              1|        Mexico|              |      4444|                   3|                   0|LOMBARDI Domingo ...|CRISTOPHE Henry (...| REGO Gilberto (BRA)|    201|   1096|               FRA|               MEX|        3|\n",
            "|1930|13 Jul 1930 - 15:00 |Group 4|Parque Central|Montevideo |           USA|              3|              0|       Belgium|              |     18346|                   2|                   0|   MACIAS Jose (ARG)|MATEUCCI Francisc...|WARNKEN Alberto (...|    201|   1090|               USA|               BEL|        3|\n",
            "|1930|14 Jul 1930 - 12:45 |Group 2|Parque Central|Montevideo |    Yugoslavia|              2|              1|        Brazil|              |     24059|                   2|                   0| TEJADA Anibal (URU)|VALLARINO Ricardo...| BALWAY Thomas (FRA)|    201|   1093|               YUG|               BRA|        1|\n",
            "|1930|14 Jul 1930 - 14:50 |Group 3|       Pocitos|Montevideo |       Romania|              3|              1|          Peru|              |      2549|                   1|                   0|WARNKEN Alberto (...| LANGENUS Jean (BEL)|MATEUCCI Francisc...|    201|   1098|               ROU|               PER|        2|\n",
            "|1930|15 Jul 1930 - 16:00 |Group 1|Parque Central|Montevideo |     Argentina|              1|              0|        France|              |     23409|                   0|                   0| REGO Gilberto (BRA)|SAUCEDO Ulises (BOL)|RADULESCU Constan...|    201|   1085|               ARG|               FRA|        1|\n",
            "+----+--------------------+-------+--------------+-----------+--------------+---------------+---------------+--------------+--------------+----------+--------------------+--------------------+--------------------+--------------------+--------------------+-------+-------+------------------+------------------+---------+\n",
            "only showing top 5 rows\n",
            "\n"
          ]
        }
      ]
    },
    {
      "cell_type": "markdown",
      "metadata": {
        "id": "xnnoTiQIwO_5"
      },
      "source": [
        "### Modifier le nom d'une colonne\n",
        "\n",
        "Utilisez la méthode `withColumnRenamed` pour renommer de la colonne `Year` en `Annee`. Cette méthode prend deux arguments: le nom de la colonne à modifier et le nouveau nom.\n"
      ]
    },
    {
      "cell_type": "code",
      "metadata": {
        "id": "rYmsnnU8usD4",
        "colab": {
          "base_uri": "https://localhost:8080/"
        },
        "outputId": "0d5efa0c-9919-41dc-b208-e0b1f5599e0a"
      },
      "source": [
        "Wc_matches = Wc_matches.withColumnRenamed('Year','Annee')\n",
        "Wc_matches.show(5)"
      ],
      "execution_count": null,
      "outputs": [
        {
          "output_type": "stream",
          "name": "stdout",
          "text": [
            "+-----+--------------------+-------+--------------+-----------+--------------+---------------+---------------+--------------+--------------+----------+--------------------+--------------------+--------------------+--------------------+--------------------+-------+-------+------------------+------------------+---------+\n",
            "|Annee|            Datetime|  Stage|       Stadium|       City|Home Team Name|Home Team Goals|Away Team Goals|Away Team Name|Win conditions|Attendance|Half-time Home Goals|Half-time Away Goals|             Referee|         Assistant 1|         Assistant 2|RoundID|MatchID|Home Team Initials|Away Team Initials|Goal Diff|\n",
            "+-----+--------------------+-------+--------------+-----------+--------------+---------------+---------------+--------------+--------------+----------+--------------------+--------------------+--------------------+--------------------+--------------------+-------+-------+------------------+------------------+---------+\n",
            "| 1930|13 Jul 1930 - 15:00 |Group 1|       Pocitos|Montevideo |        France|              4|              1|        Mexico|              |      4444|                   3|                   0|LOMBARDI Domingo ...|CRISTOPHE Henry (...| REGO Gilberto (BRA)|    201|   1096|               FRA|               MEX|        3|\n",
            "| 1930|13 Jul 1930 - 15:00 |Group 4|Parque Central|Montevideo |           USA|              3|              0|       Belgium|              |     18346|                   2|                   0|   MACIAS Jose (ARG)|MATEUCCI Francisc...|WARNKEN Alberto (...|    201|   1090|               USA|               BEL|        3|\n",
            "| 1930|14 Jul 1930 - 12:45 |Group 2|Parque Central|Montevideo |    Yugoslavia|              2|              1|        Brazil|              |     24059|                   2|                   0| TEJADA Anibal (URU)|VALLARINO Ricardo...| BALWAY Thomas (FRA)|    201|   1093|               YUG|               BRA|        1|\n",
            "| 1930|14 Jul 1930 - 14:50 |Group 3|       Pocitos|Montevideo |       Romania|              3|              1|          Peru|              |      2549|                   1|                   0|WARNKEN Alberto (...| LANGENUS Jean (BEL)|MATEUCCI Francisc...|    201|   1098|               ROU|               PER|        2|\n",
            "| 1930|15 Jul 1930 - 16:00 |Group 1|Parque Central|Montevideo |     Argentina|              1|              0|        France|              |     23409|                   0|                   0| REGO Gilberto (BRA)|SAUCEDO Ulises (BOL)|RADULESCU Constan...|    201|   1085|               ARG|               FRA|        1|\n",
            "+-----+--------------------+-------+--------------+-----------+--------------+---------------+---------------+--------------+--------------+----------+--------------------+--------------------+--------------------+--------------------+--------------------+-------+-------+------------------+------------------+---------+\n",
            "only showing top 5 rows\n",
            "\n"
          ]
        }
      ]
    },
    {
      "cell_type": "markdown",
      "metadata": {
        "id": "a-gwnrSBxHFq"
      },
      "source": [
        "## Requetes sur les données\n",
        "\n"
      ]
    },
    {
      "cell_type": "markdown",
      "metadata": {
        "id": "Bk8Q1oarxRzc"
      },
      "source": [
        "### Select\n",
        "\n",
        "En utilisant la fonction `select`, selectionnez les colonnes `'Home Team Name' 'Home Team Goals', 'Away Team Goals','Goal Difference'` et afficher les 10 premières lignes"
      ]
    },
    {
      "cell_type": "code",
      "metadata": {
        "id": "UaRvGsdBxj2C",
        "colab": {
          "base_uri": "https://localhost:8080/",
          "height": 163
        },
        "outputId": "6539b9ae-fb91-4f00-d5ab-8f5f4517a919"
      },
      "source": [
        "Wc_matches.select('Home Team Name' 'Home Team Goals', 'Away Team Goals','Goal Difference').show(10)\n"
      ],
      "execution_count": null,
      "outputs": [
        {
          "output_type": "error",
          "ename": "NameError",
          "evalue": "ignored",
          "traceback": [
            "\u001b[0;31m---------------------------------------------------------------------------\u001b[0m",
            "\u001b[0;31mNameError\u001b[0m                                 Traceback (most recent call last)",
            "\u001b[0;32m<ipython-input-33-d9e8662dff82>\u001b[0m in \u001b[0;36m<module>\u001b[0;34m()\u001b[0m\n\u001b[0;32m----> 1\u001b[0;31m \u001b[0mdf\u001b[0m\u001b[0;34m.\u001b[0m\u001b[0mselect\u001b[0m\u001b[0;34m(\u001b[0m\u001b[0;34m'Home Team Name'\u001b[0m \u001b[0;34m'Home Team Goals'\u001b[0m\u001b[0;34m,\u001b[0m \u001b[0;34m'Away Team Goals'\u001b[0m\u001b[0;34m,\u001b[0m\u001b[0;34m'Goal Difference'\u001b[0m\u001b[0;34m)\u001b[0m\u001b[0;34m.\u001b[0m\u001b[0mshow\u001b[0m\u001b[0;34m(\u001b[0m\u001b[0;36m10\u001b[0m\u001b[0;34m)\u001b[0m\u001b[0;34m\u001b[0m\u001b[0;34m\u001b[0m\u001b[0m\n\u001b[0m",
            "\u001b[0;31mNameError\u001b[0m: name 'df' is not defined"
          ]
        }
      ]
    },
    {
      "cell_type": "markdown",
      "metadata": {
        "id": "b3M9UZJjyPOI"
      },
      "source": [
        "### Filtrer\n",
        "\n",
        "Vous pouvez filtrer certaine données grâce à des conditions. Vous pouvez aussi utilisez des opérateurs binaires. \n",
        "\n",
        "* Selectionner les matchs de l'équipe de France. Utilisez les modules `col` et `lit` "
      ]
    },
    {
      "cell_type": "code",
      "metadata": {
        "id": "znUkgToEyRUG"
      },
      "source": [
        "from pyspark.sql.functions import col, lit\n",
        "\n",
        "Wc_matches_fr =Wc_matches.filter(((col('Home Team Name')== 'France' ) | (col( 'Away Team Name') == 'France')))\n"
      ],
      "execution_count": null,
      "outputs": []
    },
    {
      "cell_type": "markdown",
      "metadata": {
        "id": "xNtoURgnyRpc"
      },
      "source": [
        "### Selectionner entre deux valeur\n",
        "\n",
        "Selectionner les match de l'équipe de France entre 2009 et 2015"
      ]
    },
    {
      "cell_type": "code",
      "metadata": {
        "id": "7bpcUnydyY5v",
        "colab": {
          "base_uri": "https://localhost:8080/"
        },
        "outputId": "c2038748-3eda-4339-8591-7deb96f8e8ce"
      },
      "source": [
        "Wc_matches_fr_2009_2015 = Wc_matches_fr.filter(Wc_matches['Annee'].between(209,2015))\n",
        "\n",
        "Wc_matches_fr_2009_2015.show(5)\n"
      ],
      "execution_count": null,
      "outputs": [
        {
          "output_type": "stream",
          "name": "stdout",
          "text": [
            "+-----+--------------------+-----------------+--------------------+-----------+--------------+---------------+---------------+--------------+--------------------+----------+--------------------+--------------------+--------------------+--------------------+--------------------+-------+-------+------------------+------------------+---------+\n",
            "|Annee|            Datetime|            Stage|             Stadium|       City|Home Team Name|Home Team Goals|Away Team Goals|Away Team Name|      Win conditions|Attendance|Half-time Home Goals|Half-time Away Goals|             Referee|         Assistant 1|         Assistant 2|RoundID|MatchID|Home Team Initials|Away Team Initials|Goal Diff|\n",
            "+-----+--------------------+-----------------+--------------------+-----------+--------------+---------------+---------------+--------------+--------------------+----------+--------------------+--------------------+--------------------+--------------------+--------------------+-------+-------+------------------+------------------+---------+\n",
            "| 1930|13 Jul 1930 - 15:00 |          Group 1|             Pocitos|Montevideo |        France|              4|              1|        Mexico|                    |      4444|                   3|                   0|LOMBARDI Domingo ...|CRISTOPHE Henry (...| REGO Gilberto (BRA)|    201|   1096|               FRA|               MEX|        3|\n",
            "| 1930|15 Jul 1930 - 16:00 |          Group 1|      Parque Central|Montevideo |     Argentina|              1|              0|        France|                    |     23409|                   0|                   0| REGO Gilberto (BRA)|SAUCEDO Ulises (BOL)|RADULESCU Constan...|    201|   1085|               ARG|               FRA|        1|\n",
            "| 1930|19 Jul 1930 - 12:50 |          Group 1|  Estadio Centenario|Montevideo |         Chile|              1|              0|        France|                    |      2000|                   0|                   0| TEJADA Anibal (URU)|LOMBARDI Domingo ...| REGO Gilberto (BRA)|    201|   1094|               CHI|               FRA|        1|\n",
            "| 1934|27 May 1934 - 16:30 |Preliminary round|Stadio Benito Mus...|     Turin |       Austria|              3|              2|        France|Austria win after...|     16000|                   0|                   0|VAN MOORSEL Johan...|CAIRONI Camillo (...|   BAERT Louis (BEL)|    204|   1104|               AUT|               FRA|        1|\n",
            "| 1938|05 Jun 1938 - 17:00 |      First round|     Stade Olympique|  Colombes |        France|              3|              1|       Belgium|                    |     30454|                   2|                   1|WUETHRICH Hans (SUI)|  KRIST Gustav (TCH)| BIRLEM Alfred (GER)|    206|   1146|               FRA|               BEL|        2|\n",
            "+-----+--------------------+-----------------+--------------------+-----------+--------------+---------------+---------------+--------------+--------------------+----------+--------------------+--------------------+--------------------+--------------------+--------------------+-------+-------+------------------+------------------+---------+\n",
            "only showing top 5 rows\n",
            "\n"
          ]
        }
      ]
    },
    {
      "cell_type": "markdown",
      "metadata": {
        "id": "GXApWFU-yn3w"
      },
      "source": [
        "### Select with Like\n",
        "\n",
        "Selectionner les match de l'équipe de France entre 1950 et 2020 disputés dans une ville contenant le mot 'Rio' et durant lesquels le nombre de spectateurs était supérieur à 50.000 personnes. N'affichez dans l'ordre suivant que les colonnes avec le nom de l'équipe, le stade, la ville et la date \n",
        "\n",
        "\n",
        "`df.select('col', df.like())`"
      ]
    },
    {
      "cell_type": "code",
      "metadata": {
        "id": "xCFfrKojyqYw",
        "colab": {
          "base_uri": "https://localhost:8080/"
        },
        "outputId": "c590f6ad-0c54-4156-e6e7-18d7bdd64363"
      },
      "source": [
        "#df = Wc_matches_fr.select('Annee', df.like())\n",
        "\n",
        "Wc_goals_team = Wc_matches_fr.select('Home Team Name','Home Team Goals', 'Stadium' , 'City' ,'Attendance' , 'Annee').where(col('City').like(\"%Rio%\")).filter(Wc_matches['Attendance']> '50000')\n",
        "Wc_matches_fr.select('Home Team Name','Home Team Goals', 'Stadium' , 'City' ,'Attendance' , 'Annee').where(col('City').like(\"%Rio%\")).filter(Wc_matches.Attendance > 50000).show(5)\n",
        "\n",
        "\n"
      ],
      "execution_count": null,
      "outputs": [
        {
          "output_type": "stream",
          "name": "stdout",
          "text": [
            "+--------------+---------------+-------------------+---------------+----------+-----+\n",
            "|Home Team Name|Home Team Goals|            Stadium|           City|Attendance|Annee|\n",
            "+--------------+---------------+-------------------+---------------+----------+-----+\n",
            "|       Ecuador|              0|Estadio do Maracana|Rio De Janeiro |     73749| 2014|\n",
            "|        France|              0|Estadio do Maracana|Rio De Janeiro |     74240| 2014|\n",
            "|        France|              0|Estadio do Maracana|Rio De Janeiro |     74240| 2014|\n",
            "+--------------+---------------+-------------------+---------------+----------+-----+\n",
            "\n"
          ]
        }
      ]
    },
    {
      "cell_type": "markdown",
      "metadata": {
        "id": "XHfI6QlVyZOC"
      },
      "source": [
        "### GroupBy\n",
        "\n",
        "Calculer la somme des buts marqués par chaque équipe lorsque celle-ci est considérée comme `Home Team`. "
      ]
    },
    {
      "cell_type": "code",
      "metadata": {
        "id": "JITJI8BkCar_",
        "colab": {
          "base_uri": "https://localhost:8080/"
        },
        "outputId": "4a1b889b-fa2d-4efb-bb79-863dfdb95a58"
      },
      "source": [
        "Wc_matches.groupBy(\"Home Team Name\").sum('Home Team Goals').show(5)"
      ],
      "execution_count": null,
      "outputs": [
        {
          "output_type": "stream",
          "name": "stdout",
          "text": [
            "+--------------+--------------------+\n",
            "|Home Team Name|sum(Home Team Goals)|\n",
            "+--------------+--------------------+\n",
            "|      Paraguay|                  14|\n",
            "|        Russia|                   9|\n",
            "|       Senegal|                   3|\n",
            "|        Sweden|                  53|\n",
            "|       IR Iran|                   0|\n",
            "+--------------+--------------------+\n",
            "only showing top 5 rows\n",
            "\n"
          ]
        }
      ]
    },
    {
      "cell_type": "code",
      "metadata": {
        "id": "kieoTSi-u8Bs",
        "colab": {
          "base_uri": "https://localhost:8080/"
        },
        "outputId": "1c7e2320-0b19-4c95-9c49-771928e09e49"
      },
      "source": [
        "Wc_matches.columns"
      ],
      "execution_count": null,
      "outputs": [
        {
          "output_type": "execute_result",
          "data": {
            "text/plain": [
              "['Annee',\n",
              " 'Datetime',\n",
              " 'Stage',\n",
              " 'Stadium',\n",
              " 'City',\n",
              " 'Home Team Name',\n",
              " 'Home Team Goals',\n",
              " 'Away Team Goals',\n",
              " 'Away Team Name',\n",
              " 'Win conditions',\n",
              " 'Attendance',\n",
              " 'Half-time Home Goals',\n",
              " 'Half-time Away Goals',\n",
              " 'Referee',\n",
              " 'Assistant 1',\n",
              " 'Assistant 2',\n",
              " 'RoundID',\n",
              " 'MatchID',\n",
              " 'Home Team Initials',\n",
              " 'Away Team Initials',\n",
              " 'Goal Diff']"
            ]
          },
          "metadata": {},
          "execution_count": 101
        }
      ]
    },
    {
      "cell_type": "markdown",
      "metadata": {
        "id": "9pcbTfb5JySh"
      },
      "source": [
        "## Sauvegarder dans un fichier\n"
      ]
    },
    {
      "cell_type": "code",
      "metadata": {
        "id": "3SVLDZKvJ1fm"
      },
      "source": [
        "Wc_goals_team.write.csv(\"./goals_by_team_cssv\" )\n",
        "\n",
        "\n"
      ],
      "execution_count": null,
      "outputs": []
    },
    {
      "cell_type": "markdown",
      "metadata": {
        "id": "ZAc5ISHSD0w6"
      },
      "source": [
        "## Passage à Pandas\n",
        "\n",
        "En utilisant `toPandas` et `pandas.plot` afficher un bar graph qui montre le nombre total de buts marqué chaque année entre 1990 et 2020"
      ]
    },
    {
      "cell_type": "code",
      "metadata": {
        "id": "Z-FJ2F4mE3Lr",
        "colab": {
          "base_uri": "https://localhost:8080/"
        },
        "outputId": "fc30af3d-f10b-4b01-f5fe-a03b65e697ef"
      },
      "source": [
        "Wc_matches = Wc_matches.withColumn('sum goals',abs(Wc_matches['Home Team Goals']+Wc_matches['Away Team Goals']))\n",
        "Wc_matches.groupBy(\"Annee\").sum('sum goals').filter(Wc_matches['Annee'].between(1990,2020)).show(10)"
      ],
      "execution_count": null,
      "outputs": [
        {
          "output_type": "stream",
          "name": "stdout",
          "text": [
            "+-----+--------------+\n",
            "|Annee|sum(sum goals)|\n",
            "+-----+--------------+\n",
            "| 1990|           115|\n",
            "| 2006|           147|\n",
            "| 1994|           141|\n",
            "| 2014|           206|\n",
            "| 1998|           171|\n",
            "| 2010|           145|\n",
            "| 2002|           161|\n",
            "+-----+--------------+\n",
            "\n"
          ]
        }
      ]
    },
    {
      "cell_type": "code",
      "metadata": {
        "id": "P0JuQ9XkGcAr"
      },
      "source": [
        "goals_by_year = Wc_matches.groupBy(\"Annee\").sum('sum goals').filter(Wc_matches['Annee'].between(1990,2020)).orderBy('Annee')"
      ],
      "execution_count": 145,
      "outputs": []
    },
    {
      "cell_type": "code",
      "metadata": {
        "id": "dZ3mdeGgFYPn",
        "colab": {
          "base_uri": "https://localhost:8080/",
          "height": 403
        },
        "outputId": "1925351b-0345-41a4-f4a7-a47f696c6e5c"
      },
      "source": [
        "goals_by_year_df= goals_by_year.toPandas()\n",
        "goals_by_year_df.plot(kind='bar', x = 'Annee', y = 'sum(sum goals)',figsize=(12,6));\n"
      ],
      "execution_count": 146,
      "outputs": [
        {
          "output_type": "display_data",
          "data": {
            "image/png": "[encoded data removed]",
            "text/plain": [
              "<Figure size 864x432 with 1 Axes>"
            ]
          },
          "metadata": {
            "needs_background": "light"
          }
        }
      ]
    }
  ]
}