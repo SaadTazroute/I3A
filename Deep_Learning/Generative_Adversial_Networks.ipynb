{
  "nbformat": 4,
  "nbformat_minor": 0,
  "metadata": {
    "colab": {
      "name": "Deep_Generative_TP_Saad.ipynb",
      "provenance": [],
      "collapsed_sections": []
    },
    "kernelspec": {
      "name": "python3",
      "display_name": "Python 3"
    }
  },
  "cells": [
    {
      "cell_type": "markdown",
      "metadata": {
        "id": "qOMP0WoFBA5f"
      },
      "source": [
        "<h1> TP6: Generative Adversarial Networks</h1>\n",
        "\n",
        "Ce TP est consacré à la manipulation de réseaux génératifs exploitant le paradigme d'apprentissage \"Adversarial\". Ce type de réseaux comprend une partie \"Générateur\" et une autre \"Discriminateur\", chacun ayant des objectifs antagonistes. \n",
        "\n",
        "La première partie de ce TP illustre la capacité des GAN sur des données artificielles, sous la forme d'un mélange de gaussiennes 1D. Cette partie est fortement guidée et met en évidence la capacité des deux sous réseaux pour parvenir à approcher au mieux la distribution sous jacentes des données.\n",
        "\n",
        "La deuxième partie nécessite un travail en autonomie. Elle consiste à étendre le réseau préalablement définie pour, cette fois, modéliser la distribution des données issues du jeu de données MNIST (les chiffres manuscrits).\n",
        "\n",
        "Pour finir, vous pourriez vous amuser et générer des visages réalistes à partir du jeu de données CelebA."
      ]
    },
    {
      "cell_type": "code",
      "metadata": {
        "id": "fbvBt_nnAkmy"
      },
      "source": [
        "import keras\n",
        "import keras.backend as K\n",
        "import numpy as np"
      ],
      "execution_count": 2,
      "outputs": []
    },
    {
      "cell_type": "markdown",
      "metadata": {
        "id": "KmxGjvDdEYQh"
      },
      "source": [
        "<h2>Partie 1: GANs avec des données artificielles</h2>"
      ]
    },
    {
      "cell_type": "markdown",
      "metadata": {
        "id": "vXC6phSxGnsE"
      },
      "source": [
        "Dans la cellule suivante, on créé des données artificielles à partir de distributions gaussiennes. Par la suite, on modifiera le code pour obtenir des données multimodales (ie: mélange de gaussinnes)."
      ]
    },
    {
      "cell_type": "code",
      "metadata": {
        "id": "trY9PDD1BZ19"
      },
      "source": [
        "batch_size = 10\n",
        "nbdata = 250\n",
        "data_dim = 1 # 1-dimensional data\n",
        "\n",
        "xdata = np.random.normal(5, 0.1, (nbdata, data_dim))\n",
        "#xdata1 = np.random.normal(5, 0.1, (int(nbdata/3), data_dim))\n",
        "#xdata2 = np.random.normal(10, 0.1, (int(nbdata/3), data_dim)) # for multimodal data\n",
        "#xdata3 = np.random.normal(15, 0.1, (int(nbdata/3), data_dim)) # for multimodal data\n",
        "#xdata = np.concatenate((xdata1, xdata2, xdata3), axis=0) # for multimodal data\n",
        "np.random.shuffle(xdata)\n"
      ],
      "execution_count": 3,
      "outputs": []
    },
    {
      "cell_type": "markdown",
      "metadata": {
        "id": "TCcLBfnVItN5"
      },
      "source": [
        "Affichage de la densité de distribution correspondant à nos données :"
      ]
    },
    {
      "cell_type": "code",
      "metadata": {
        "id": "G_UODM_hGADX",
        "colab": {
          "base_uri": "https://localhost:8080/",
          "height": 286
        },
        "outputId": "43e665e8-eb87-4440-dbe8-243e922485b6"
      },
      "source": [
        "import matplotlib.pyplot as plt\n",
        "\n",
        "xs = np.linspace(0, 30, 10*batch_size)[:-1]\n",
        "bins = np.linspace(0, 30, 10*batch_size)\n",
        "hx,_ = np.histogram(xdata, bins=bins, density=True)\n",
        "plt.plot(xs, hx)"
      ],
      "execution_count": 4,
      "outputs": [
        {
          "output_type": "execute_result",
          "data": {
            "text/plain": [
              "[<matplotlib.lines.Line2D at 0x7f994075ea10>]"
            ]
          },
          "metadata": {},
          "execution_count": 4
        },
        {
          "output_type": "display_data",
          "data": {
            "image/png": "[encoded data removed]",
            "text/plain": [
              "<Figure size 432x288 with 1 Axes>"
            ]
          },
          "metadata": {
            "needs_background": "light"
          }
        }
      ]
    },
    {
      "cell_type": "markdown",
      "metadata": {
        "id": "YzwQ5LsBA8xZ"
      },
      "source": [
        "<h2>Création d'un générateur python pour accéder aux données par batch</h2>"
      ]
    },
    {
      "cell_type": "code",
      "metadata": {
        "id": "SC3iMQ-FBD8g"
      },
      "source": [
        "def get_batch():\n",
        "  i = 0\n",
        "  while True:\n",
        "    i = i + batch_size\n",
        "    if i+batch_size > nbdata: i = 0\n",
        "    \n",
        "    yield xdata[i:i+batch_size].reshape((batch_size, data_dim))\n",
        "\n",
        "data_generator = get_batch()\n",
        "#x = next(data_generator)\n",
        "#print(x)"
      ],
      "execution_count": 5,
      "outputs": []
    },
    {
      "cell_type": "markdown",
      "metadata": {
        "id": "xiZTmuPJFnVo"
      },
      "source": [
        "<h2> Création du réseau</h2>\n",
        "\n",
        "Ici nous créons les deux parties : \"générateur\" et \"discriminateur\", puis le modèle combiné \"GAN\". Réseaux très simples comprenant deux couches cachées denses avec tanh + une couche sortie. Dropout dans le discriminateur."
      ]
    },
    {
      "cell_type": "code",
      "metadata": {
        "id": "b7S2vsnPD1Sk",
        "colab": {
          "base_uri": "https://localhost:8080/"
        },
        "outputId": "ef8f5fdc-011e-45ee-b9e3-9139300a4f0b"
      },
      "source": [
        "from tensorflow.keras.optimizers import Adam\n",
        "\n",
        "# some hyperparameters\n",
        "z_dim = 5\n",
        "h_dim = 10\n",
        "\n",
        "def generator(opt):\n",
        "  model = keras.models.Sequential()\n",
        "  model.add(keras.layers.Dense(h_dim, activation=\"tanh\", input_shape=(z_dim,)))\n",
        "  model.add(keras.layers.Dense(int((h_dim+data_dim)/2), activation=\"tanh\", input_shape=(z_dim,)))\n",
        "  model.add(keras.layers.Dense(int((h_dim+data_dim)/2), activation=\"tanh\", input_shape=(z_dim,)))\n",
        "  model.add(keras.layers.Dense(data_dim))\n",
        "  model.compile(loss=\"binary_crossentropy\", optimizer=opt)\n",
        "  return model\n",
        "\n",
        "opt = Adam(learning_rate=0.001, beta_1=0.5, beta_2=0.99)\n",
        "G = generator(opt)"
      ],
      "execution_count": 10,
      "outputs": [
        {
          "output_type": "stream",
          "name": "stderr",
          "text": [
            "/usr/local/lib/python3.7/dist-packages/keras/optimizer_v2/optimizer_v2.py:356: UserWarning: The `lr` argument is deprecated, use `learning_rate` instead.\n",
            "  \"The `lr` argument is deprecated, use `learning_rate` instead.\")\n"
          ]
        }
      ]
    },
    {
      "cell_type": "code",
      "metadata": {
        "id": "bEDn5vbWGhbT"
      },
      "source": [
        "def discriminator(opt):\n",
        "  model = keras.models.Sequential()\n",
        "  model.add(keras.layers.Dense(h_dim, activation=\"tanh\", input_shape=(data_dim,)))\n",
        "  model.add(keras.layers.Dense(int(h_dim/2), activation=\"tanh\"))\n",
        "  model.add(keras.layers.Dense(int(h_dim/2), activation=\"tanh\"))\n",
        "  model.add(keras.layers.Dropout(0.4))\n",
        "  \n",
        "  model.add(keras.layers.Dense(1, activation=\"sigmoid\"))\n",
        "  model.compile(loss=\"binary_crossentropy\", optimizer=opt)\n",
        "  return model\n",
        "\n",
        "D = discriminator(opt)"
      ],
      "execution_count": 11,
      "outputs": []
    },
    {
      "cell_type": "code",
      "metadata": {
        "id": "JodZVqxoIE9E"
      },
      "source": [
        "def gan(opt):\n",
        "  D.trainable = False\n",
        "  GAN = keras.models.Sequential()\n",
        "  GAN.add(G)\n",
        "  GAN.add(D)\n",
        "  GAN.compile(loss=\"binary_crossentropy\", optimizer=opt)\n",
        "  return GAN\n",
        "\n",
        "GAN = gan(opt)"
      ],
      "execution_count": 12,
      "outputs": []
    },
    {
      "cell_type": "markdown",
      "metadata": {
        "id": "M_WxueYAHZR4"
      },
      "source": [
        "<h2>Apprentissage du modèle</h2>"
      ]
    },
    {
      "cell_type": "markdown",
      "metadata": {
        "id": "2WUCOvakHoJ6"
      },
      "source": [
        "Initialise des structures pour construire des plots"
      ]
    },
    {
      "cell_type": "code",
      "metadata": {
        "id": "K43xSgNUL15Y"
      },
      "source": [
        "xtab = []\n",
        "gtab = []\n",
        "lossDtab = []\n",
        "lossGtab = []\n",
        "Dpostab = []\n",
        "Dnegtab = []\n",
        " \n",
        "epochs_done = 0"
      ],
      "execution_count": 13,
      "outputs": []
    },
    {
      "cell_type": "markdown",
      "metadata": {
        "id": "sGEV_6RgH_RT"
      },
      "source": [
        "Boucle d'apprentissage, alterne entre le discriminateur et le GAN. Enregistre les valeurs de loss du discriminateur (lossD) et du générateur (lossG), et es prédictions du discriminateur pour des exemples positifs (Dpos) et négatifs (Dneg). Conserve l'historique dans des listes pour affichage ultérieur. On enregistre aussi des données obtenues par le générateur à chaque epoch, ces données seront utilisées et animées dans une cellule suivante."
      ]
    },
    {
      "cell_type": "code",
      "metadata": {
        "id": "jMYbp-ndId01",
        "colab": {
          "base_uri": "https://localhost:8080/"
        },
        "outputId": "0772ffcb-643b-4d18-a4ef-8f6e84ee0e0a"
      },
      "source": [
        "data_generator = get_batch()\n",
        "nb_epoch = 1000 #2000\n",
        "ones = np.ones((batch_size, 1))\n",
        "zeros = np.zeros((batch_size, 1))\n",
        "for epoch in range(nb_epoch):\n",
        "  lossD = []\n",
        "  lossG = []\n",
        "  Dpos = []\n",
        "  Dneg = []\n",
        "  for batch in range(int(nbdata/batch_size)):\n",
        "    # train discriminator with positive samples\n",
        "    x = next(data_generator)\n",
        "    lossP = D.train_on_batch(x, ones)\n",
        "    if epoch % 10 == 0:\n",
        "      x = next(data_generator)\n",
        "      Dpos.append( D.predict(x) )\n",
        "    \n",
        "    # train discriminator with negative samples\n",
        "    z = np.random.uniform(-1,1,(batch_size, z_dim))\n",
        "    fakes = G.predict(z)\n",
        "    lossN = D.train_on_batch(fakes, zeros)\n",
        "    if epoch % 10 == 0:\n",
        "      z = np.random.uniform(-1,1,(batch_size, z_dim))\n",
        "      fakes = G.predict(z)\n",
        "      Dneg.append( D.predict(fakes) )\n",
        "    \n",
        "    # compute D's loss (for plotting)\n",
        "    lossD.append((lossP + lossN) / 2.)\n",
        "    \n",
        "    # train generator with GAN\n",
        "    z = np.random.uniform(-1,1,(batch_size, z_dim))\n",
        "    lossG.append( GAN.train_on_batch(z, ones) )\n",
        "  \n",
        "  # Compute and store some statistics for further plotting\n",
        "  if epoch % 10 == 0:\n",
        "    lossD = np.mean(lossD)\n",
        "    lossG = np.mean(lossG)\n",
        "    Dpos = np.mean(Dpos)\n",
        "    Dneg = np.mean(Dneg)\n",
        "  \n",
        "    lossDtab.append(lossD)\n",
        "    lossGtab.append(lossG)\n",
        "    Dpostab.append(Dpos)\n",
        "    Dnegtab.append(Dneg)\n",
        "  \n",
        "    print(epoch, \" lossD=\", lossD, \" lossG=\", lossG, \" Dpos=\", Dpos, \" Dneg=\", Dneg )\n",
        "  \n",
        "  # Sample data from generator to plot an animation of learned distribution\n",
        "  z = np.random.uniform(-1,1,(10*batch_size, z_dim))\n",
        "  g = G.predict(z)\n",
        "  hg,_ = np.histogram(g, bins=bins, density=True)\n",
        "  gtab.append(hg)\n",
        "  xtab.append(hx)\n",
        "  \n",
        "  epochs_done = epochs_done + 1"
      ],
      "execution_count": null,
      "outputs": [
        {
          "output_type": "stream",
          "name": "stdout",
          "text": [
            "0  lossD= 0.5930288648605346  lossG= 0.7084615468978882  Dpos= 0.62186956  Dneg= 0.49200812\n",
            "10  lossD= 0.5398085075616836  lossG= 0.9192053818702698  Dpos= 0.6109112  Dneg= 0.40435627\n",
            "20  lossD= 0.8095503258705139  lossG= 0.5944685840606689  Dpos= 0.45137456  Dneg= 0.55294573\n",
            "30  lossD= 0.6563327240943909  lossG= 0.7801731371879578  Dpos= 0.49974954  Dneg= 0.45597273\n",
            "40  lossD= 0.6650525856018067  lossG= 0.6661829924583436  Dpos= 0.54594344  Dneg= 0.5158094\n",
            "50  lossD= 0.6912890219688416  lossG= 0.7033195114135742  Dpos= 0.49842995  Dneg= 0.4941855\n",
            "60  lossD= 0.6904788994789124  lossG= 0.6927333426475525  Dpos= 0.5024468  Dneg= 0.502997\n",
            "70  lossD= 0.6939481782913208  lossG= 0.6985371923446655  Dpos= 0.499012  Dneg= 0.498026\n",
            "80  lossD= 0.6930438899993896  lossG= 0.6922775769233703  Dpos= 0.5018464  Dneg= 0.50088286\n",
            "90  lossD= 0.6951159429550171  lossG= 0.6991577744483948  Dpos= 0.49700925  Dneg= 0.4965747\n",
            "100  lossD= 0.6920255565643311  lossG= 0.6932205843925476  Dpos= 0.5012281  Dneg= 0.500418\n",
            "110  lossD= 0.6946287035942078  lossG= 0.7047430562973023  Dpos= 0.49642175  Dneg= 0.49566796\n",
            "120  lossD= 0.6952963972091675  lossG= 0.6942778110504151  Dpos= 0.50014746  Dneg= 0.49946773\n",
            "130  lossD= 0.6945976781845092  lossG= 0.6998922443389892  Dpos= 0.4998507  Dneg= 0.4989216\n"
          ]
        }
      ]
    },
    {
      "cell_type": "markdown",
      "metadata": {
        "id": "IPKHbkIUFHis"
      },
      "source": [
        "<h2>Création et affichage des plots</h2>\n"
      ]
    },
    {
      "cell_type": "markdown",
      "metadata": {
        "id": "tTaMOb51DL90"
      },
      "source": [
        "<b>1. Evolution des prédictions du discriminateur sur les données réelles (en bleu) ou sur les données fournies par le générateur (en vert).</b>\n",
        "On observe une convergence rapide vers 0.5, le point d'équilibre lorsque le discriminateur ne sait plus distinguer l'origine des données."
      ]
    },
    {
      "cell_type": "code",
      "metadata": {
        "id": "zpiz98dWJCPE"
      },
      "source": [
        "ppos, = plt.plot(Dpostab, label=\"pos\")\n",
        "pneg, = plt.plot(Dnegtab, label=\"neg\")\n",
        "plt.legend(handles=[ppos, pneg])"
      ],
      "execution_count": null,
      "outputs": []
    },
    {
      "cell_type": "markdown",
      "metadata": {
        "id": "yQl8u17pF7D_"
      },
      "source": [
        "<b>2. Evolution des données obtenues au cours de l'apprentissage.</b>\n",
        "Selon le nombre d'epochs, la cellule suivante prend un peu de temps pour construire un gif que nous affichons dans la foulée. Cette étape nécessite l'installation du package ffmeg-python."
      ]
    },
    {
      "cell_type": "code",
      "metadata": {
        "id": "AlGZCTOJemuW"
      },
      "source": [
        "#!pip install ffmpeg-python\n",
        "\n",
        "import matplotlib.pyplot as plt\n",
        "from matplotlib import animation, rc\n",
        "\n",
        "fig = plt.figure()\n",
        "ax = fig.add_subplot(111)\n",
        "\n",
        "ax.set_xlim((0,30))\n",
        "ax.set_ylim((0, 4))\n",
        "\n",
        "px, = ax.plot([], [], lw=2)\n",
        "pg, = ax.plot([], [], lw=2)\n",
        "\n",
        "def init():\n",
        "  px.set_data([],[])\n",
        "  pg.set_data([],[])\n",
        "  return (px, pg)\n",
        "\n",
        "def animate(i):\n",
        "  px.set_data(xs, xtab[i*10])\n",
        "  pg.set_data(xs, gtab[i*10])\n",
        "  return (px, pg)\n",
        "\n",
        "anim = animation.FuncAnimation(fig, animate, init_func=init, frames=int(epochs_done/10), blit=True)\n",
        "rc('animation', html='jshtml')\n",
        "anim\n"
      ],
      "execution_count": null,
      "outputs": []
    },
    {
      "cell_type": "markdown",
      "metadata": {
        "id": "d0oqmjFyFqxO"
      },
      "source": [
        "<b>3. Comparaison entre un batch de données original et de données issues du générateur.</b>"
      ]
    },
    {
      "cell_type": "code",
      "metadata": {
        "id": "qIgYgIlrNATA"
      },
      "source": [
        "# get a batch of real data (for comparison)\n",
        "x = next(data_generator)\n",
        "print(\"some real data:\", x)\n",
        "\n",
        "# sample some noise then transform them with our generator\n",
        "z = np.random.uniform(-1,1,(10*batch_size, z_dim))\n",
        "g = G.predict(z)\n",
        "print(\"some generated data\", g[:10])\n",
        "\n",
        "# plot distributions\n",
        "xs = np.linspace(0, 30, 10*batch_size)[:-1]\n",
        "bins = np.linspace(0, 30, 10*batch_size)\n",
        "\n",
        "hg,_ = np.histogram(g, bins=bins, density=True)\n",
        "plt.plot(xs,hg)\n",
        "\n",
        "hx,_ = np.histogram(x, bins=bins, density=True)\n",
        "plt.plot(xs,hx)\n",
        "plt.show()"
      ],
      "execution_count": null,
      "outputs": []
    },
    {
      "cell_type": "markdown",
      "metadata": {
        "id": "cz58kXUPD2jM"
      },
      "source": [
        "# Travail à faire"
      ]
    },
    {
      "cell_type": "markdown",
      "metadata": {
        "id": "_dvOBngcJ4j-"
      },
      "source": [
        "1. Modifiez la première fonction de création de données pour obtenir la moitiée de données centrées autour de 5 et l'autre autour de 10. La distribution de probabilité associée à ces données est dite \"multimodale\" (2 modes). \n",
        "\n",
        "2. Réinitialisez les modèles et relancez l'apprentissage. Essayez plus d'epoch si besoin. \n",
        "\n",
        "3. Augmentez les capacités du discriminateur et générateur en augmentant leur nombre de neurones dans les couches cachées.\n",
        "\n",
        "4. Augmentez de nouveau le nombre de modes de la distribution de données et retentez l'expérience. La difficulté de parvenir à apprendre des distributions multimodales correspond au \"mode collapse\" dans la littérature GAN. Une manière de contourner ce problème consiste à encourager le discriminateur à reconnaitre une diversité dans un batch d'exemples. Plusieurs approches ont été proposées dans ce sens, dont \"batch discrimination\" et \"standard deviation discrimination\" (à voir dans la littérature)."
      ]
    },
    {
      "cell_type": "markdown",
      "metadata": {
        "id": "eTozUrlAK23A"
      },
      "source": [
        "<h2>Partie 2: GANs sur MNIST</h2>\n",
        "\n",
        "Cette partie se déroule en totale autonomie.. Une fois bien compris la partie précédente, proposez un réseau adversarial pour générer des chiffres manuscrits (et/ou des visages pour les très motivés). \n",
        "\n",
        "Selon la nature et la structure des données, les réseaux \"générateur\" et \"discriminateur\" pourront exploiter des couches convolutionnelles, batch_discrimination ou dropout. Attention les couches Batch Discrimination et Dropout se comportent différemment lorsqu'elle sont utilisées en phase d'apprentissage ou d'inférence. Or, le discriminateur utilisé par le modèle combiné \"GAN\" est en mode \"inférence\" étant donné qu'il est configuré pour ne pas apprendre. Dans ce cas, avec Keras il est nécessaire de préciser <i>training=True</i> à l'initialisation de ces couches.\n",
        "\n",
        "Pour MNIST, nous considéront que le générateur prend en entrée un vecteur aléatoire de dimension 10, puis augmentera la taille des représentation jusqu'aux images ciblées (ie 28x28 pour MNIST) par l'emploi successifs de :\n",
        "- couches Denses de tailles adéquates (ie: 10 - 100 - 400 - 784), en augmentant le nombre de neurones, puis en utilisant la couche Reshape avant la sortie.\n",
        "- couches Conv2D couplées avec des couches UpSampling ; ou Conv2DTranspose. Toujours en augmentant progressivement la taille des représentation."
      ]
    }
  ]
}