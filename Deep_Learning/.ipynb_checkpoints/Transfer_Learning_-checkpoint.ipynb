{
 "cells": [
  {
   "cell_type": "markdown",
   "metadata": {
    "id": "qOMP0WoFBA5f"
   },
   "source": [
    "<h1> TP transfert - Deep Learning </h1>\n",
    "\n",
    "<hr/>\n",
    "\n",
    "<b>N'envoyez pas votre travail par mail :</b>\n",
    "- Zippez votre fichier notebook, et nommez l'archive avec votre nom\n",
    "- Envoyez l'archive via la page :  https://pageperso.lis-lab.fr/stephane.ayache/TP_transfer/upload/upload.php\n",
    "\n",
    "<hr/>\n",
    "\n",
    "Un musée spécialisé en peintures représentant des animaux de la savane a malheureusement perdu son fichier d'inventaire qui regroupait des informations précieuses sur les 2000 oeuvres du musée ! Fort heureusement, l'informaticien toujours prévoyant avait conservé une copie des 2000 photos des oeuvres, et il vient juste de suivre une formation de Deep Learning ...\n",
    "\n",
    "<center>\n",
    "<img src=\"https://pageperso.lis-lab.fr/stephane.ayache/TP_transfer/0.jpg\" width=\"90px\" />\n",
    "<img src=\"https://pageperso.lis-lab.fr/stephane.ayache/TP_transfer/1.jpg\" width=\"90px\" />\n",
    "<img src=\"https://pageperso.lis-lab.fr/stephane.ayache/TP_transfer/2.jpg\" width=\"90px\" />\n",
    "<img src=\"https://pageperso.lis-lab.fr/stephane.ayache/TP_transfer/3.jpg\" width=\"90px\" />\n",
    "<img src=\"https://pageperso.lis-lab.fr/stephane.ayache/TP_transfer/4.jpg\" width=\"90px\" />\n",
    "<img src=\"https://pageperso.lis-lab.fr/stephane.ayache/TP_transfer/5.jpg\" width=\"90px\" />\n",
    "<img src=\"https://pageperso.lis-lab.fr/stephane.ayache/TP_transfer/6.jpg\" width=\"90px\" />\n",
    "<img src=\"https://pageperso.lis-lab.fr/stephane.ayache/TP_transfer/7.jpg\" width=\"90px\" />\n",
    "<img src=\"https://pageperso.lis-lab.fr/stephane.ayache/TP_transfer/8.jpg\" width=\"90px\" />\n",
    "<img src=\"https://pageperso.lis-lab.fr/stephane.ayache/TP_transfer/9.jpg\" width=\"90px\" />\n",
    "</center>\n",
    "\n",
    "Cet examen porte sur la résolution d'une tâche de classification d'images sur un jeu de données faiblement annoté. Plusieurs solutions sont envisagées  consistant à tirer parti d'annotations de classes équivalentes sur un autre dataset entièrement étiquetté (imagenet). Les deux jeux de données contiennent 2000 images réparties (également) en quatre classes (d'animaux : zèbres, gorilles, léopards, tigres). 1500 images sont utilisées pour l'entrainement, 500 pour l'évaluation. Seul le jeu de données A (imagenet) est complètement annoté, le dataset B (les photos des oeuvres du musée) ne contient que très peu d'annotations.\n",
    "\n",
    "La partie 1 consiste à entrainer et évaluer les performances d'un modèle CNN fourni sur les deux datasets d'images. Les parties 2 et 3 consistent à mettre en oeuvre deux solutions par <i>adaptation de domaines</i> pour tenter d'améliorer les performances de classification sur le dataset faiblement annoté. Vous pouvez consacrer environ une heure à chaque partie, notées également.\n"
   ]
  },
  {
   "cell_type": "markdown",
   "metadata": {
    "id": "JhEFJi2Jm-AU"
   },
   "source": [
    "<h3> Téléchargement des données </h3>"
   ]
  },
  {
   "cell_type": "code",
   "execution_count": 1,
   "metadata": {
    "colab": {
     "base_uri": "https://localhost:8080/"
    },
    "id": "xOoNnEmRXA0O",
    "outputId": "175c566f-7bba-41f0-9440-b44ab098e4c4"
   },
   "outputs": [
    {
     "name": "stdout",
     "output_type": "stream",
     "text": [
      "--2021-11-07 22:23:46--  https://pageperso.lis-lab.fr/stephane.ayache/TP_transfer/imagenetXtrain.npy\n",
      "Resolving pageperso.lis-lab.fr (pageperso.lis-lab.fr)... 139.124.22.27\n",
      "Connecting to pageperso.lis-lab.fr (pageperso.lis-lab.fr)|139.124.22.27|:443... connected.\n",
      "HTTP request sent, awaiting response... 200 OK\n",
      "Length: 18432128 (18M)\n",
      "Saving to: ‘imagenetXtrain.npy’\n",
      "\n",
      "imagenetXtrain.npy  100%[===================>]  17.58M  34.0MB/s    in 0.5s    \n",
      "\n",
      "2021-11-07 22:23:47 (34.0 MB/s) - ‘imagenetXtrain.npy’ saved [18432128/18432128]\n",
      "\n",
      "--2021-11-07 22:23:47--  https://pageperso.lis-lab.fr/stephane.ayache/TP_transfer/imagenetYtrain.npy\n",
      "Resolving pageperso.lis-lab.fr (pageperso.lis-lab.fr)... 139.124.22.27\n",
      "Connecting to pageperso.lis-lab.fr (pageperso.lis-lab.fr)|139.124.22.27|:443... connected.\n",
      "HTTP request sent, awaiting response... 200 OK\n",
      "Length: 12128 (12K)\n",
      "Saving to: ‘imagenetYtrain.npy’\n",
      "\n",
      "imagenetYtrain.npy  100%[===================>]  11.84K  --.-KB/s    in 0s      \n",
      "\n",
      "2021-11-07 22:23:47 (217 MB/s) - ‘imagenetYtrain.npy’ saved [12128/12128]\n",
      "\n",
      "--2021-11-07 22:23:47--  https://pageperso.lis-lab.fr/stephane.ayache/TP_transfer/imagenetXtest.npy\n",
      "Resolving pageperso.lis-lab.fr (pageperso.lis-lab.fr)... 139.124.22.27\n",
      "Connecting to pageperso.lis-lab.fr (pageperso.lis-lab.fr)|139.124.22.27|:443... connected.\n",
      "HTTP request sent, awaiting response... 200 OK\n",
      "Length: 6144128 (5.9M)\n",
      "Saving to: ‘imagenetXtest.npy’\n",
      "\n",
      "imagenetXtest.npy   100%[===================>]   5.86M  22.3MB/s    in 0.3s    \n",
      "\n",
      "2021-11-07 22:23:48 (22.3 MB/s) - ‘imagenetXtest.npy’ saved [6144128/6144128]\n",
      "\n",
      "--2021-11-07 22:23:48--  https://pageperso.lis-lab.fr/stephane.ayache/TP_transfer/imagenetYtest.npy\n",
      "Resolving pageperso.lis-lab.fr (pageperso.lis-lab.fr)... 139.124.22.27\n",
      "Connecting to pageperso.lis-lab.fr (pageperso.lis-lab.fr)|139.124.22.27|:443... connected.\n",
      "HTTP request sent, awaiting response... 200 OK\n",
      "Length: 4128 (4.0K)\n",
      "Saving to: ‘imagenetYtest.npy’\n",
      "\n",
      "imagenetYtest.npy   100%[===================>]   4.03K  --.-KB/s    in 0s      \n",
      "\n",
      "2021-11-07 22:23:48 (291 MB/s) - ‘imagenetYtest.npy’ saved [4128/4128]\n",
      "\n",
      "--2021-11-07 22:23:48--  https://pageperso.lis-lab.fr/stephane.ayache/TP_transfer/awaXtrain.npy\n",
      "Resolving pageperso.lis-lab.fr (pageperso.lis-lab.fr)... 139.124.22.27\n",
      "Connecting to pageperso.lis-lab.fr (pageperso.lis-lab.fr)|139.124.22.27|:443... connected.\n",
      "HTTP request sent, awaiting response... 200 OK\n",
      "Length: 18432128 (18M)\n",
      "Saving to: ‘awaXtrain.npy’\n",
      "\n",
      "awaXtrain.npy       100%[===================>]  17.58M  33.8MB/s    in 0.5s    \n",
      "\n",
      "2021-11-07 22:23:49 (33.8 MB/s) - ‘awaXtrain.npy’ saved [18432128/18432128]\n",
      "\n",
      "--2021-11-07 22:23:49--  https://pageperso.lis-lab.fr/stephane.ayache/TP_transfer/awaYtrain.npy\n",
      "Resolving pageperso.lis-lab.fr (pageperso.lis-lab.fr)... 139.124.22.27\n",
      "Connecting to pageperso.lis-lab.fr (pageperso.lis-lab.fr)|139.124.22.27|:443... connected.\n",
      "HTTP request sent, awaiting response... 200 OK\n",
      "Length: 528\n",
      "Saving to: ‘awaYtrain.npy’\n",
      "\n",
      "awaYtrain.npy       100%[===================>]     528  --.-KB/s    in 0s      \n",
      "\n",
      "2021-11-07 22:23:49 (42.6 MB/s) - ‘awaYtrain.npy’ saved [528/528]\n",
      "\n",
      "--2021-11-07 22:23:49--  https://pageperso.lis-lab.fr/stephane.ayache/TP_transfer/awaXtest.npy\n",
      "Resolving pageperso.lis-lab.fr (pageperso.lis-lab.fr)... 139.124.22.27\n",
      "Connecting to pageperso.lis-lab.fr (pageperso.lis-lab.fr)|139.124.22.27|:443... connected.\n",
      "HTTP request sent, awaiting response... 200 OK\n",
      "Length: 6144128 (5.9M)\n",
      "Saving to: ‘awaXtest.npy’\n",
      "\n",
      "awaXtest.npy        100%[===================>]   5.86M  23.8MB/s    in 0.2s    \n",
      "\n",
      "2021-11-07 22:23:49 (23.8 MB/s) - ‘awaXtest.npy’ saved [6144128/6144128]\n",
      "\n",
      "--2021-11-07 22:23:49--  https://pageperso.lis-lab.fr/stephane.ayache/TP_transfer/awaYtest.npy\n",
      "Resolving pageperso.lis-lab.fr (pageperso.lis-lab.fr)... 139.124.22.27\n",
      "Connecting to pageperso.lis-lab.fr (pageperso.lis-lab.fr)|139.124.22.27|:443... connected.\n",
      "HTTP request sent, awaiting response... 200 OK\n",
      "Length: 4128 (4.0K)\n",
      "Saving to: ‘awaYtest.npy’\n",
      "\n",
      "awaYtest.npy        100%[===================>]   4.03K  --.-KB/s    in 0s      \n",
      "\n",
      "2021-11-07 22:23:49 (330 MB/s) - ‘awaYtest.npy’ saved [4128/4128]\n",
      "\n"
     ]
    }
   ],
   "source": [
    "!wget https://pageperso.lis-lab.fr/stephane.ayache/TP_transfer/imagenetXtrain.npy\n",
    "!wget https://pageperso.lis-lab.fr/stephane.ayache/TP_transfer/imagenetYtrain.npy\n",
    "!wget https://pageperso.lis-lab.fr/stephane.ayache/TP_transfer/imagenetXtest.npy\n",
    "!wget https://pageperso.lis-lab.fr/stephane.ayache/TP_transfer/imagenetYtest.npy\n",
    "  \n",
    "!wget https://pageperso.lis-lab.fr/stephane.ayache/TP_transfer/awaXtrain.npy\n",
    "!wget https://pageperso.lis-lab.fr/stephane.ayache/TP_transfer/awaYtrain.npy\n",
    "!wget https://pageperso.lis-lab.fr/stephane.ayache/TP_transfer/awaXtest.npy\n",
    "!wget https://pageperso.lis-lab.fr/stephane.ayache/TP_transfer/awaYtest.npy  "
   ]
  },
  {
   "cell_type": "markdown",
   "metadata": {
    "id": "JELpwwuImeSc"
   },
   "source": [
    "<h3>Chargement des données</h3>"
   ]
  },
  {
   "cell_type": "code",
   "execution_count": 2,
   "metadata": {
    "id": "fbvBt_nnAkmy"
   },
   "outputs": [],
   "source": [
    "\n",
    "import numpy as np\n",
    "from random import shuffle\n",
    "import keras\n",
    "import keras.utils\n",
    "import keras.backend as K\n",
    "from keras.layers import Input, Dense, Flatten, LeakyReLU\n",
    "from keras.layers import AveragePooling2D, Conv2D, Activation, BatchNormalization, Dropout\n",
    "from keras.models import Model\n",
    "from tensorflow.keras.optimizers import Adam # - Works\n",
    "from tensorflow.keras.utils import to_categorical\n"
   ]
  },
  {
   "cell_type": "code",
   "execution_count": 3,
   "metadata": {
    "colab": {
     "base_uri": "https://localhost:8080/"
    },
    "id": "hHDrGe_IYIUm",
    "outputId": "f7e454ee-f467-41c0-8eae-7d7ec652d3eb"
   },
   "outputs": [
    {
     "name": "stdout",
     "output_type": "stream",
     "text": [
      "x_trainA.shape: (1500, 64, 64, 3) y_trainA.shape: (1500, 4)\n",
      "x_trainB.shape: (50, 64, 64, 3) y_trainB.shape: (50, 4)\n",
      "x_testA.shape: (500, 64, 64, 3) y_testA.shape: (500, 4)\n",
      "x_testB.shape: (500, 64, 64, 3) y_testB.shape: (500, 4)\n"
     ]
    }
   ],
   "source": [
    "path = './'\n",
    "num_classes = 4\n",
    "\n",
    "x_trainA = np.load(path+'imagenetXtrain.npy')\n",
    "x_trainA = x_trainA / 255.\n",
    "y_trainA = np.load(path+'imagenetYtrain.npy')\n",
    "y_trainA = to_categorical(y_trainA, num_classes)\n",
    "\n",
    "x_testA = np.load(path+'imagenetXtest.npy')\n",
    "x_testA = x_testA / 255.\n",
    "y_testA = np.load(path+'imagenetYtest.npy')\n",
    "y_testA = to_categorical(y_testA, num_classes)\n",
    "\n",
    "x_trainB = np.load(path+'awaXtrain.npy')\n",
    "x_trainB = x_trainB / 255.\n",
    "y_trainB = np.load(path+'awaYtrain.npy')\n",
    "y_trainB = to_categorical(y_trainB, num_classes)\n",
    "\n",
    "x_testB = np.load(path+'awaXtest.npy')\n",
    "x_testB = x_testB / 255.\n",
    "y_testB = np.load(path+'awaYtest.npy')\n",
    "y_testB = to_categorical(y_testB, num_classes)\n",
    "x_trainB = x_trainB[0:50,:,:,:]\n",
    "print('x_trainA.shape:', x_trainA.shape, 'y_trainA.shape:', y_trainA.shape)\n",
    "print('x_trainB.shape:', x_trainB.shape, 'y_trainB.shape:', y_trainB.shape)\n",
    "\n",
    "print('x_testA.shape:', x_testA.shape, 'y_testA.shape:', y_testA.shape)\n",
    "print('x_testB.shape:', x_testB.shape, 'y_testB.shape:', y_testB.shape)\n",
    "\n"
   ]
  },
  {
   "cell_type": "code",
   "execution_count": 4,
   "metadata": {
    "id": "8-3Yw_fIEC_n"
   },
   "outputs": [],
   "source": [
    "z_trainA = np.zeros(x_trainA.shape[0])\n",
    "z_trainB = np.ones(x_trainB.shape[0])\n",
    "x_train = np.concatenate((x_trainA,x_trainB), axis=0)\n",
    "z_train = np.concatenate((z_trainA,z_trainB), axis=0)\n",
    "\n",
    "\n",
    "\n",
    "z_testA = np.zeros(x_testA.shape[0])\n",
    "z_testB = np.ones(x_testB.shape[0])\n",
    "x_test = np.concatenate((x_testA,x_testB), axis=0)\n",
    "z_test = np.concatenate((z_testA,z_testB), axis=0)"
   ]
  },
  {
   "cell_type": "markdown",
   "metadata": {
    "id": "nwLsluNtYHkG"
   },
   "source": [
    "Les deux jeux de données contiennent 2000 images, de 64x64x3 pixels, réparties en quatre classes. 1500 images sont utilisées pour l'entrainement, 500 pour l'évaluation. Seul le jeu de données A est complètement annoté, le jeu de donnée B ne contient que très peu d'annotations, correspondantent aux 50 premiers exemples de x_trainB."
   ]
  },
  {
   "cell_type": "markdown",
   "metadata": {
    "id": "-NRp44rQagA-"
   },
   "source": [
    "<h2> Partie 1 : Modèle convolutionnel pour la classification d'images </h2>\n",
    "\n",
    "On définie ci-dessous une architecture convolutionnelle simple, à ne pas modifier. Cette partie vise à évaluer la performance d'un modèle CNN sur les deux dataset A et B. Entrainez ce modèle des différentes manières possibles et reportez les performances obtenues dans le tableau situé en fin de cette partie. A chaque nouvel apprentissage, utilisez les configurations suivantes : \n",
    "- 30 epochs\n",
    "- Taille des minibatchs à 64\n",
    "- 10% des données pour validation\n",
    "\n",
    "Tracez les courbes d'apprentissage, et commentez vos résultats."
   ]
  },
  {
   "cell_type": "code",
   "execution_count": 5,
   "metadata": {
    "colab": {
     "base_uri": "https://localhost:8080/"
    },
    "id": "aVzDIs5-a_jI",
    "outputId": "1ea02005-1ddf-4173-f8f1-fc66673f200c"
   },
   "outputs": [
    {
     "name": "stdout",
     "output_type": "stream",
     "text": [
      "Model: \"model_2\"\n",
      "_________________________________________________________________\n",
      "Layer (type)                 Output Shape              Param #   \n",
      "=================================================================\n",
      "input_1 (InputLayer)         [(None, 64, 64, 3)]       0         \n",
      "_________________________________________________________________\n",
      "model (Functional)           (None, 4096)              1110784   \n",
      "_________________________________________________________________\n",
      "model_1 (Functional)         (None, 4)                 4722180   \n",
      "=================================================================\n",
      "Total params: 5,832,964\n",
      "Trainable params: 5,831,812\n",
      "Non-trainable params: 1,152\n",
      "_________________________________________________________________\n",
      "None\n"
     ]
    }
   ],
   "source": [
    "# Couches d'apprentissage de représentations par convolutions \n",
    "ximg = Input(shape=(x_trainA.shape[1], x_trainA.shape[2], x_trainA.shape[3]))\n",
    "\n",
    "l = Conv2D(64, kernel_size=(3,3), strides=(1,1), padding='same')(ximg)\n",
    "l = BatchNormalization(axis=-1)(l)\n",
    "l = Activation('relu')(l)\n",
    "l = Conv2D(128, kernel_size=(3,3), strides=(1,1), padding='same')(l)\n",
    "l = BatchNormalization(axis=-1)(l)\n",
    "l = Activation('relu')(l)\n",
    "l = Conv2D(128, kernel_size=(3,3), strides=(1,1), padding='same')(l)\n",
    "l = BatchNormalization(axis=-1)(l)\n",
    "l = Activation('relu')(l)\n",
    "l = AveragePooling2D((4,4))(l)\n",
    "l = Conv2D(256, kernel_size=(3,3), strides=(2,2), padding='same')(l)\n",
    "l = BatchNormalization(axis=-1)(l)\n",
    "l = Conv2D(256, kernel_size=(3,3), strides=(1,1), padding='same')(l)\n",
    "l = AveragePooling2D((2,2))(l)\n",
    "l = Activation('relu')(l)\n",
    "l = Dropout(0.2)(l)\n",
    "feat_layer = Flatten()(l)\n",
    "\n",
    "# conv_model(ximg) retourne la couche 'feat_layer' : 4096 dimensions pour une image 64x64x3\n",
    "conv_model = Model(ximg, feat_layer) \n",
    "\n",
    "# Couches de classification\n",
    "xfeat = Input(shape=(4096,))\n",
    "y = Dense(1024, activation='relu')(xfeat)\n",
    "y = Dropout(0.5)(y)\n",
    "y = Dense(512, activation='relu')(y)\n",
    "out_layer = Dense(num_classes, activation='softmax')(y)\n",
    "\n",
    "# classif_model(xfeat) renvoie la couche sortie du classifieur : 4 dimensions\n",
    "classif_model = Model(xfeat, out_layer) \n",
    "\n",
    "# Modèle CNN : représentation + classifier\n",
    "feat = conv_model(ximg)\n",
    "clf = classif_model(feat)\n",
    "modelA = Model(ximg, clf)\n",
    "modelA.compile(loss='categorical_crossentropy', optimizer=Adam(0.0001), metrics=['accuracy'])\n",
    "print(modelA.summary())"
   ]
  },
  {
   "cell_type": "markdown",
   "metadata": {
    "id": "0-0G5SHsaX06"
   },
   "source": [
    "<h4> Entrainement du modèle sur les données A, puis évaluation sur A et B</h4>"
   ]
  },
  {
   "cell_type": "code",
   "execution_count": 6,
   "metadata": {
    "id": "L5BCW-YqbIVm"
   },
   "outputs": [],
   "source": [
    "import matplotlib.pyplot as plt\n",
    "\n",
    "# des fonctions de plot de courbes de loss et d'accuracy\n",
    "def plot_loss(fit_history,title):\n",
    "  plt.plot(fit_history.history['loss'])\n",
    "  plt.plot(fit_history.history['val_loss'])\n",
    "  plt.title(title)\n",
    "  plt.ylabel('loss')\n",
    "  plt.xlabel('epoch')\n",
    "  plt.legend(['train_loss', 'val_loss'], loc='upper left')\n",
    "  plt.show()\n",
    "\n",
    "def plot_accuracy(fit_history,title):\n",
    "  plt.plot(fit_history.history['accuracy'])\n",
    "  plt.plot(fit_history.history['val_accuracy'])\n",
    "  plt.title(title)\n",
    "  plt.ylabel('accuracy')\n",
    "  plt.xlabel('epoch')\n",
    "  plt.legend(['train_accuracy', 'val_accuracy'], loc='upper left')\n",
    "  plt.show()"
   ]
  },
  {
   "cell_type": "code",
   "execution_count": null,
   "metadata": {
    "colab": {
     "base_uri": "https://localhost:8080/"
    },
    "id": "Djnp2tvm4Jmf",
    "outputId": "a4b46f4f-15e4-488b-b84f-b28411efeef5"
   },
   "outputs": [
    {
     "name": "stdout",
     "output_type": "stream",
     "text": [
      "Epoch 1/30\n",
      "20/24 [========================>.....] - ETA: 23s - loss: 1.2526 - accuracy: 0.4195"
     ]
    }
   ],
   "source": [
    "historyA = modelA.fit(\n",
    "    x=x_trainA,\n",
    "    y=y_trainA,\n",
    "    validation_data = (x_testA,y_testA),\n",
    "    batch_size=64,\n",
    "    epochs=30,\n",
    "    verbose=\"auto\",\n",
    "    callbacks=None,\n",
    "    shuffle=True,\n",
    "    use_multiprocessing=False)"
   ]
  },
  {
   "cell_type": "code",
   "execution_count": null,
   "metadata": {
    "id": "L34kKo4twVQo"
   },
   "outputs": [],
   "source": [
    "\n",
    "score, acc = modelA.evaluate(x_testA, y_testA)\n",
    "print('Test score:', score)\n",
    "print('Test accuracy:', acc)\n",
    "\n",
    "\n",
    "score, acc = modelA.evaluate(x_testB, y_testB)\n",
    "print('Test score:', score)\n",
    "print('Test accuracy:', acc)\n"
   ]
  },
  {
   "cell_type": "code",
   "execution_count": null,
   "metadata": {
    "id": "FrpMYtVaq31L"
   },
   "outputs": [],
   "source": [
    "plot_loss(historyA,\"suivi de la loss\")\n",
    "plot_accuracy(historyA,\"suivi de l'accuracy\")"
   ]
  },
  {
   "cell_type": "markdown",
   "metadata": {
    "id": "eZgXh4ZmOqkG"
   },
   "source": [
    "*Commentaires* :\n",
    "\n",
    "Entrainement raisonnable, pas d'overfitting."
   ]
  },
  {
   "cell_type": "markdown",
   "metadata": {
    "id": "aDIVGF9dbnSO"
   },
   "source": [
    "<h4> Entrainement et évaluation du modèle sur les données B</h4>\n",
    "\n",
    "<i>Attention à ne pas réutiliser la variable <b>model</b>, déjà entrainée sur A, il faut créer une nouvelle instance <b>model2</b> à partir des fonctions <b>conv_model()</b> et <b>classif_model()</b> définient précédemment.</i>"
   ]
  },
  {
   "cell_type": "code",
   "execution_count": null,
   "metadata": {
    "id": "8GvEjDRqbNXm"
   },
   "outputs": [],
   "source": [
    "historyB = modelB.fit(\n",
    "    x=x_trainB,\n",
    "    y=y_trainB,\n",
    "    validation_data = (x_testA,y_testA),\n",
    "    batch_size=64,\n",
    "    epochs=30,\n",
    "    verbose=\"auto\",\n",
    "    callbacks=None,\n",
    "    shuffle=True,\n",
    "    use_multiprocessing=False)\n",
    "\n",
    "#Evaluating\n",
    "score, acc = modelB.evaluate(x_testA, y_testA)\n",
    "print('Test score:', score)\n",
    "print('Test accuracy:', acc)\n",
    "\n",
    "\n",
    "score, acc = modelB.evaluate(x_testB, y_testB)\n",
    "print('Test score:', score)\n",
    "print('Test accuracy:', acc)"
   ]
  },
  {
   "cell_type": "code",
   "execution_count": null,
   "metadata": {
    "id": "uVnJo3ZUbtRD"
   },
   "outputs": [],
   "source": [
    "plot_loss(historyB,\"suivi de la loss \")\n",
    "plot_accuracy(historyB,\"suivi de l'accuracy\")"
   ]
  },
  {
   "cell_type": "markdown",
   "metadata": {
    "id": "IQ82M78uxDXD"
   },
   "source": [
    "*Commentaires* :\n",
    "Le modèle n'arrive pas à apprendre, le modèle overfitt sur ce jeu de données."
   ]
  },
  {
   "cell_type": "markdown",
   "metadata": {
    "id": "083Zv7bAb6eR"
   },
   "source": [
    "<h4>Finetuning sur B du modèle entrainé sur A</h4>"
   ]
  },
  {
   "cell_type": "code",
   "execution_count": null,
   "metadata": {
    "id": "xXQU24qAcBcy"
   },
   "outputs": [],
   "source": [
    "historyBA = modelA.fit(\n",
    "    x=x_trainB,\n",
    "    y=y_trainB,\n",
    "    validation_data = (x_testB,y_testB),\n",
    "    batch_size=64,\n",
    "    epochs=30,\n",
    "    verbose=\"auto\",\n",
    "    shuffle=True,\n",
    "    use_multiprocessing=False)\n",
    "\n",
    "#evaluate  : Model A est fine tuned sur B data\n",
    "\n",
    "score, acc = modelA.evaluate(x_testA, y_testA)\n",
    "print('Test score:', score)\n",
    "print('Test accuracy:', acc)\n",
    "\n",
    "\n",
    "score, acc = modelA.evaluate(x_testB, y_testB)\n",
    "print('Test score:', score)\n",
    "print('Test accuracy:', acc)"
   ]
  },
  {
   "cell_type": "code",
   "execution_count": null,
   "metadata": {
    "id": "7uQ2DEMerLeH"
   },
   "outputs": [],
   "source": [
    "plot_loss(historyBA,\"suivi de la loss\")\n",
    "plot_accuracy(historyBA,\"suivi de l'accuracy\")"
   ]
  },
  {
   "cell_type": "code",
   "execution_count": null,
   "metadata": {
    "id": "_st-bitKvL_a"
   },
   "outputs": [],
   "source": []
  },
  {
   "cell_type": "markdown",
   "metadata": {
    "id": "G-3j2kTBxEat"
   },
   "source": [
    "*Commentaires* :\n",
    "\n",
    "Le modèle A fine tuned sur le jeu de données B, n'apprend quasiment rien.\n",
    "\n",
    "L'accuracy et la loss de validation nous donne une idée sur ceci."
   ]
  },
  {
   "cell_type": "markdown",
   "metadata": {
    "id": "rGTo8Gnyx-8s"
   },
   "source": [
    "<table>\n",
    "\n",
    "> Indented block\n",
    "\n",
    "\n",
    "  <thead>\n",
    "    <th></th><th>Accuracy train A</th><th>Accuracy dev A</th><th>Accuracy test A</th><th>Accuracy train B</th><th>Accuracy dev B</th><th>Accuracy test B</th>\n",
    "  </thead>\n",
    "  <tbody>\n",
    "    <tr><th>Entrainement sur A</th><td>0.99</td><td>0.75</td><td>0.71</td><td>###</td><td>###</td><td>0.54</td></tr>\n",
    "    <tr><th>Entrainement sur B</th><td>###</td><td>###</td><td>0.56</td><td>1</td><td>0.57</td><td>0.54</td></tr>\n",
    "    <tr><th>Entrainement sur A <br/>+ Finetuning sur B</th><td>0.99</td><td>0.75</td><td>0.51</td><td>1</td><td>0.54</td><td>0.48</td></tr>\n",
    "  </tbody>\n",
    "</table>\n",
    "\n",
    "Commentaires :\n",
    "\n",
    "**Le fine tunning sur le dataset ne permet pas d'améliorer le modèle entrainé seulement sur B.**\n",
    "\n",
    "**On constate que l'entrainement sur A a des résultats fiables comme prévu (dataset considérable, annotée)**\n",
    "\n",
    "**L'entrainement sur B reste médiocre puisque les données labellisés sont d'ordre de 50 echantillons.**\n",
    "\n",
    "**Le finetuning sur B du modele A, ne donne pas de résultats intéressants : Overfitting**\n"
   ]
  }
 ],
 "metadata": {
  "accelerator": "GPU",
  "colab": {
   "collapsed_sections": [],
   "name": "TP_transfer_TAZROUTE.ipynb",
   "provenance": []
  },
  "kernelspec": {
   "display_name": "Python 3",
   "language": "python",
   "name": "python3"
  },
  "language_info": {
   "codemirror_mode": {
    "name": "ipython",
    "version": 3
   },
   "file_extension": ".py",
   "mimetype": "text/x-python",
   "name": "python",
   "nbconvert_exporter": "python",
   "pygments_lexer": "ipython3",
   "version": "3.8.8"
  }
 },
 "nbformat": 4,
 "nbformat_minor": 1
}
