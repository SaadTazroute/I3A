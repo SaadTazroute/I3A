{
 "cells": [
  {
   "cell_type": "markdown",
   "id": "d3aedb0d",
   "metadata": {},
   "source": [
    "## TP1 : Voyageur de commerce"
   ]
  },
  {
   "cell_type": "code",
   "execution_count": 1,
   "id": "9a2d4224",
   "metadata": {},
   "outputs": [],
   "source": [
    "import numpy as np\n",
    "import matplotlib.pyplot as plt\n",
    "import random"
   ]
  },
  {
   "cell_type": "markdown",
   "id": "39a63192",
   "metadata": {},
   "source": [
    "Un voyageur de commerce doit visiter $n$ villes au cours de sa tournée numérotées $0,\\ldots,n-1$.\n",
    "Ces villes sont définies par leurs coordonnées géographiques $(x_i,y_i)$. Un parcours consiste à\n",
    "affecter un ordre à chaque ville :\n",
    "ordre $i \\rightarrow s(i) ∈ 0..n-1$\n",
    "sous la contrainte que chaque ville doit être visitée une fois et une seule. (autrement dit, $s$ est une\n",
    "permutation de $(0,\\ldots,n-1)$ ⇒ $n!$ solutions). Le coût d’une solution s est : $$J(s) =\n",
    "\\sum_{i=0}^{n-2} d(s(i),s(i+1)) + d(s(n-1), s(0))$$ avec: $$d(s(i), s(j)) = \\sqrt{(x_{s(i)} - x_{s(j)})^2\n",
    "+ (y_{s(i)} - y_{s(j)})^2}$$\n",
    "Le problème d’optimisation consiste à minimiser la distance totale."
   ]
  },
  {
   "cell_type": "code",
   "execution_count": 2,
   "id": "d7f3cfeb",
   "metadata": {},
   "outputs": [],
   "source": [
    "import math "
   ]
  },
  {
   "cell_type": "code",
   "execution_count": 24,
   "id": "a2aa4b8e",
   "metadata": {},
   "outputs": [],
   "source": [
    "class ProbVC:\n",
    "    def __init__(self, cities):\n",
    "        self.cities = cities\n",
    "        self.n = len(cities)\n",
    "        self.dist = [[0] * self.n for i in range(self.n)]\n",
    "        for i in range(self.n):\n",
    "            for j in range(i, self.n):\n",
    "                self.dist[i][j] =  math.sqrt((cities[i][0] - cities[j][0]) ** 2 + (cities[i][1] - cities[j][1]) ** 2)\n",
    "                self.dist[j][i] = math.sqrt((cities[i][0] - cities[j][0]) ** 2 + (cities[i][1] - cities[j][1]) ** 2)\n",
    "\n",
    "    def display(self,sol):\n",
    "        plt.figure(figsize=(8, 8))\n",
    "        \n",
    "        plt.plot([self.cities[i][0] for i in sol], [self.cities[i][1] for i in sol], '-o')\n",
    "        plt.show()\n",
    "    \n",
    "    def plot_cities(self):\n",
    "        x = []\n",
    "        y = []\n",
    "        for city in self.cities:\n",
    "            x.append(city[0])\n",
    "            y.append(city[1])\n",
    "        plt.plot(x,y,'ro')\n",
    "        plt.show()\n",
    "    \n",
    "    def randomNeighbor(self, s):\n",
    "        n = len(s)\n",
    "        i = random.randint(0, n - 1)\n",
    "        j = random.randint(0, n - 1)\n",
    "        if i == j:\n",
    "            return self.randomNeighbor(s)\n",
    "        s[i], s[j] = s[j], s[i]\n",
    "        return s\n",
    "\n",
    "    def allNeighbors(self,s):\n",
    "        neighbors = []\n",
    "        for i in range(self.n):\n",
    "            for j in range(i, n): # double boucle pour parcourir tout les villes\n",
    "                neighbor = s.copy()\n",
    "                neighbor[i], neighbor[j] = neighbor[j], neighbor[i]\n",
    "                neighbors.append(neighbor)\n",
    "                #print(neighbors)\n",
    "        return neighbors\n",
    "\n",
    "    def J(self,s):\n",
    "        \"\"\"\n",
    "        Returns the value of the function J for the solution s and the problem p.\n",
    "        \"\"\"\n",
    "        J = 0\n",
    "        for i in range(len(s)-1):\n",
    "            J += p.dist[i][i + 1]\n",
    "        J += p.dist[-1][0]\n",
    "        #print(J)\n",
    "        return J\n",
    "    \n",
    "    def argmin_J(self):\n",
    "        min_J = self.J()\n",
    "        min_s = s\n",
    "        for neighbor in self.allNeighbors(s):\n",
    "            if self.J(neighbor, p) < min_J:\n",
    "                min_J = self.J(neighbor, p)\n",
    "                min_s = neighbor\n",
    "        return min_s\n"
   ]
  },
  {
   "cell_type": "code",
   "execution_count": 4,
   "id": "9205ae2b",
   "metadata": {},
   "outputs": [],
   "source": [
    "def list_cities(n):\n",
    "    list_of_element = []\n",
    "    for i in range(n):\n",
    "        y = random.uniform(0, 100)\n",
    "        x = random.uniform(0, 100)\n",
    "        list_of_element.append([x,y])\n",
    "    return list_of_element\n"
   ]
  },
  {
   "cell_type": "code",
   "execution_count": null,
   "id": "f514a35b",
   "metadata": {},
   "outputs": [],
   "source": []
  },
  {
   "cell_type": "code",
   "execution_count": null,
   "id": "fb4d1930",
   "metadata": {},
   "outputs": [],
   "source": []
  },
  {
   "cell_type": "code",
   "execution_count": 25,
   "id": "e9ce0d51",
   "metadata": {
    "scrolled": true
   },
   "outputs": [],
   "source": [
    "n=10\n",
    "a = list_cities(n)\n",
    "prob= ProbVC(a)"
   ]
  },
  {
   "cell_type": "code",
   "execution_count": null,
   "id": "9158b9c0",
   "metadata": {
    "scrolled": true
   },
   "outputs": [],
   "source": []
  },
  {
   "cell_type": "code",
   "execution_count": 6,
   "id": "429085fb",
   "metadata": {},
   "outputs": [],
   "source": [
    "randomsol = random.sample(range(0, len(a)), len(a))"
   ]
  },
  {
   "cell_type": "code",
   "execution_count": 7,
   "id": "cf5ffad4",
   "metadata": {},
   "outputs": [
    {
     "data": {
      "image/png": "[encoded data removed]",
      "text/plain": [
       "<Figure size 576x576 with 1 Axes>"
      ]
     },
     "metadata": {
      "needs_background": "light"
     },
     "output_type": "display_data"
    }
   ],
   "source": [
    "prob.display(randomsol)"
   ]
  },
  {
   "cell_type": "code",
   "execution_count": 8,
   "id": "7463c8f9",
   "metadata": {},
   "outputs": [
    {
     "data": {
      "image/png": "[encoded data removed]",
      "text/plain": [
       "<Figure size 432x288 with 1 Axes>"
      ]
     },
     "metadata": {
      "needs_background": "light"
     },
     "output_type": "display_data"
    }
   ],
   "source": [
    "prob.plot_cities()"
   ]
  },
  {
   "cell_type": "code",
   "execution_count": null,
   "id": "e5149de9",
   "metadata": {},
   "outputs": [],
   "source": []
  },
  {
   "cell_type": "code",
   "execution_count": 9,
   "id": "0592c1fa",
   "metadata": {},
   "outputs": [],
   "source": [
    "## Class containing all utilities to solve a tsp problem"
   ]
  },
  {
   "cell_type": "code",
   "execution_count": 10,
   "id": "d5757afb",
   "metadata": {},
   "outputs": [],
   "source": [
    "class solver:\n",
    "    def __init__(self, p):\n",
    "        self.p = p\n",
    "\n",
    "    def randomNeighbor(self, s):\n",
    "        n = len(s)\n",
    "        i = random.randint(0, n - 1)\n",
    "        j = random.randint(0, n - 1)\n",
    "        if i == j:\n",
    "            return self.randomNeighbor(s)\n",
    "        s[i], s[j] = s[j], s[i]\n",
    "        return s\n",
    "\n",
    "    def allNeighbors(self, s):\n",
    "        n = len(s)\n",
    "        neighbors = []\n",
    "        for i in range(n):\n",
    "            for j in range(i, n): # double boucle pour parcourir tout les villes\n",
    "                neighbor = s.copy()\n",
    "                neighbor[i], neighbor[j] = neighbor[j], neighbor[i]\n",
    "                neighbors.append(neighbor)\n",
    "                #print(neighbors)\n",
    "        return neighbors\n",
    "\n",
    "    def J(self, s, p):\n",
    "        \"\"\"\n",
    "        Returns the value of the function J for the solution s and the problem p.\n",
    "        \"\"\"\n",
    "        J = 0\n",
    "        for i in range(len(s)-1):\n",
    "            J += p.dist[i][i + 1]\n",
    "        J += p.dist[-1][0]\n",
    "        #print(J)\n",
    "        return J\n",
    "    \n",
    "    def argmin_J(self, s, p):\n",
    "        min_J = self.J(s, p)\n",
    "        min_s = s\n",
    "        for neighbor in self.allNeighbors(s):\n",
    "            if self.J(neighbor, p) < min_J:\n",
    "                min_J = self.J(neighbor, p)\n",
    "                min_s = neighbor\n",
    "        return min_s\n"
   ]
  },
  {
   "cell_type": "code",
   "execution_count": 12,
   "id": "dcdfec5f",
   "metadata": {},
   "outputs": [],
   "source": [
    "\"\"\"\n",
    "Write a class TSP that solves the TSP problem using the Solver class, using monte carlo algorithm\n",
    "\"\"\"\n",
    "class TSP:\n",
    "    def __init__(self, prob, solver):\n",
    "        self.prob = prob\n",
    "        self.solver = solver\n",
    "\n",
    "    def montecarlo(self, nb_iter):\n",
    "        \"\"\"\n",
    "        Returns the best solution found after nb_iter iterations of the solver.\n",
    "        \"\"\"\n",
    "        best_J = 1000\n",
    "        print(best_J)\n",
    "        for i in range(nb_iter):    \n",
    "            sol = random.sample(range(0, len(self.prob.cities)), len(self.prob.cities))            \n",
    "            #print(sol)\n",
    "            J = self.solver.J(sol, self.prob)\n",
    "            \n",
    "            if J < best_J:\n",
    "                print(True)\n",
    "                best_sol = sol\n",
    "                best_J = J\n",
    "        print(\"distance totale est \" , best_J)\n",
    "\n",
    "        return best_sol\n",
    "    \n",
    "    def glouton(self,sol):\n",
    "        best_J = 100000000000\n",
    "        J = self.solver.J(sol, self.prob)\n",
    "        best_sol = sol\n",
    "        while J<best_J :\n",
    "            best_sol = self.solver.argmin_J(best_sol, self.prob)\n",
    "            \n",
    "            best_J = self.solver.J(best_sol, self.prob)\n",
    "            print(\"j\",best_J)\n",
    "\n",
    "        print(\"distance totale est \" , best_J)\n",
    "        return best_sol\n",
    "\n",
    "     \n",
    "            \n",
    "    def glouton_aleatoire(self,nb_iter):\n",
    "\n",
    "        best_sol = random.sample(range(0, len(self.prob.cities)), len(self.prob.cities))            \n",
    "\n",
    "        best_J = 100000\n",
    "        for i in range(nb_iter):\n",
    "            sol_voisin = self.solver.randomNeighbor(best_sol)\n",
    "            J_voisin = self.solver.J(sol_voisin, self.prob)\n",
    "            J = self.solver.J(best_sol, self.prob)\n",
    "\n",
    "            if J_voisin < J:\n",
    "                print(True)\n",
    "                best_sol = sol_voisin\n",
    "                best_J = J_voisin \n",
    "        print(\"distance totale est \" , best_J)\n",
    "\n",
    "        return best_sol\n",
    "    beta0 = 0.01\n",
    "    eps = 10/N\n",
    "    def recuit(self,nb_iter):\n",
    "        beta = beta0\n",
    "        for i in range(nb_iter):\n",
    "            \n",
    "        \n",
    "\n",
    "\n",
    "\n"
   ]
  },
  {
   "cell_type": "code",
   "execution_count": null,
   "id": "a342930f",
   "metadata": {},
   "outputs": [],
   "source": []
  },
  {
   "cell_type": "code",
   "execution_count": 13,
   "id": "1246d804",
   "metadata": {},
   "outputs": [],
   "source": [
    "tsp = TSP(prob,solver(prob))"
   ]
  },
  {
   "cell_type": "code",
   "execution_count": 14,
   "id": "3bd6a559",
   "metadata": {},
   "outputs": [
    {
     "name": "stdout",
     "output_type": "stream",
     "text": [
      "1000\n",
      "True\n",
      "distance totale est  551.8459507383058\n"
     ]
    }
   ],
   "source": [
    "x = tsp.montecarlo(1000000)"
   ]
  },
  {
   "cell_type": "code",
   "execution_count": 15,
   "id": "7a8446f2",
   "metadata": {},
   "outputs": [
    {
     "name": "stdout",
     "output_type": "stream",
     "text": [
      "distance totale est  100000\n"
     ]
    }
   ],
   "source": [
    "x = tsp.glouton_aleatoire(1000000)"
   ]
  },
  {
   "cell_type": "code",
   "execution_count": 16,
   "id": "a8a1bbf7",
   "metadata": {},
   "outputs": [
    {
     "data": {
      "text/plain": [
       "[3, 4, 8, 0, 5, 6, 9, 7, 1, 2]"
      ]
     },
     "execution_count": 16,
     "metadata": {},
     "output_type": "execute_result"
    }
   ],
   "source": [
    "rand_sol = random.sample(range(0, len(a)), len(a))\n",
    "rand_sol"
   ]
  },
  {
   "cell_type": "code",
   "execution_count": 17,
   "id": "93956c99",
   "metadata": {},
   "outputs": [
    {
     "name": "stdout",
     "output_type": "stream",
     "text": [
      "j 551.8459507383058\n",
      "distance totale est  551.8459507383058\n"
     ]
    }
   ],
   "source": [
    "x = tsp.glouton(rand_sol)"
   ]
  },
  {
   "cell_type": "code",
   "execution_count": 18,
   "id": "1864de23",
   "metadata": {},
   "outputs": [],
   "source": [
    "import time \n",
    "def benchmark_montecarlo(liste,nb_iter,solution=None):\n",
    "    temps = []\n",
    "    resultats =[]\n",
    "\n",
    "    for x in liste : \n",
    "        print(\"pour un ensemble de \",x,\"villes\")\n",
    "        \n",
    "        t0=time.time()\n",
    "        a = list_cities(n)\n",
    "        prob= ProbVC(a)\n",
    "        Algorithms = TSP(prob,solver(prob))\n",
    "        x = Algorithms.montecarlo(nb_iter)\n",
    "        resultats.append(x)\n",
    "        t1=time.time()\n",
    "        temps.append(t1-t0)\n",
    "    return temps,resultats\n",
    "\n",
    "def benchmark_glouton(liste,solution):\n",
    "    temps = []\n",
    "    resultats =[]\n",
    "    for x in liste : \n",
    "        print(\"pour un ensemble de \",x,\"villes\")\n",
    "        solution  = random.sample(range(0, x), x)\n",
    "        t0=time.time()\n",
    "        a = list_cities(x)\n",
    "        prob= ProbVC(a)\n",
    "        Algorithms = TSP(prob,solver(prob))\n",
    "        rand_sol = random.sample(range(0, len(a)), len(a))\n",
    "\n",
    "\n",
    "        x = Algorithms.glouton(solution)\n",
    "        resultats.append(x)\n",
    "\n",
    "        t1=time.time()\n",
    "        temps.append(t1-t0)\n",
    "    return temps,resultats\n",
    "\n",
    "def benchmark_glouton_alea(liste,nb_iter,solution=None):\n",
    "    temps = []\n",
    "    resultats =[]\n",
    "\n",
    "    for x in liste : \n",
    "        print(\"pour un ensemble de \",x,\"villes\")\n",
    "        t0=time.time()\n",
    "        a = list_cities(n)\n",
    "        prob= ProbVC(a)\n",
    "        Algorithms = TSP(prob,solver(prob))\n",
    "        x = Algorithms.glouton_aleatoire(nb_iter)\n",
    "        resultats.append(x)\n",
    "        t1=time.time()\n",
    "        temps.append(t1-t0)\n",
    "    return temps,resultats\n",
    "\n",
    "\n",
    "        "
   ]
  },
  {
   "cell_type": "code",
   "execution_count": null,
   "id": "1228f5ac",
   "metadata": {},
   "outputs": [],
   "source": []
  },
  {
   "cell_type": "code",
   "execution_count": 19,
   "id": "3c89b7df",
   "metadata": {},
   "outputs": [],
   "source": [
    "def plot_time(times,liste,title):\n",
    "\n",
    "  plt.plot(liste,times)\n",
    "  plt.title(title)\n",
    "  plt.ylabel('Temps de calcul')\n",
    "  plt.xlabel(\"Nombre d'échnatillons\")\n",
    "  plt.show()"
   ]
  },
  {
   "cell_type": "code",
   "execution_count": 20,
   "id": "018836be",
   "metadata": {},
   "outputs": [
    {
     "name": "stdout",
     "output_type": "stream",
     "text": [
      "######################### Montecarlo ############\n",
      "pour un ensemble de  100 villes\n",
      "1000\n",
      "True\n",
      "distance totale est  457.1014841077372\n",
      "pour un ensemble de  20 villes\n",
      "1000\n",
      "True\n",
      "distance totale est  490.17173111334546\n",
      "pour un ensemble de  40 villes\n",
      "1000\n",
      "True\n",
      "distance totale est  483.259020326718\n",
      "pour un ensemble de  80 villes\n",
      "1000\n",
      "True\n",
      "distance totale est  474.26108327079936\n",
      "pour un ensemble de  160 villes\n",
      "1000\n",
      "True\n",
      "distance totale est  387.3016220648908\n",
      "######################### Glouton ############\n"
     ]
    },
    {
     "ename": "NameError",
     "evalue": "name 'solution' is not defined",
     "output_type": "error",
     "traceback": [
      "\u001b[0;31m---------------------------------------------------------------------------\u001b[0m",
      "\u001b[0;31mNameError\u001b[0m                                 Traceback (most recent call last)",
      "\u001b[0;32m<ipython-input-20-a580ae1b3721>\u001b[0m in \u001b[0;36m<module>\u001b[0;34m\u001b[0m\n\u001b[1;32m      7\u001b[0m \u001b[0;34m\u001b[0m\u001b[0m\n\u001b[1;32m      8\u001b[0m \u001b[0;34m\u001b[0m\u001b[0m\n\u001b[0;32m----> 9\u001b[0;31m \u001b[0mtemps_gl\u001b[0m \u001b[0;34m,\u001b[0m\u001b[0mresultats_gl\u001b[0m \u001b[0;34m=\u001b[0m \u001b[0mbenchmark_glouton\u001b[0m\u001b[0;34m(\u001b[0m\u001b[0mliste\u001b[0m\u001b[0;34m,\u001b[0m\u001b[0msolution\u001b[0m \u001b[0;34m=\u001b[0m \u001b[0msolution\u001b[0m\u001b[0;34m)\u001b[0m\u001b[0;34m\u001b[0m\u001b[0;34m\u001b[0m\u001b[0m\n\u001b[0m\u001b[1;32m     10\u001b[0m \u001b[0;34m\u001b[0m\u001b[0m\n\u001b[1;32m     11\u001b[0m \u001b[0mprint\u001b[0m\u001b[0;34m(\u001b[0m\u001b[0;34m\"######################### Glouton_alétoires ############\"\u001b[0m\u001b[0;34m)\u001b[0m\u001b[0;34m\u001b[0m\u001b[0;34m\u001b[0m\u001b[0m\n",
      "\u001b[0;31mNameError\u001b[0m: name 'solution' is not defined"
     ]
    }
   ],
   "source": [
    "liste = [100,20,40,80,160]\n",
    "print(\"######################### Montecarlo ############\")\n",
    "temps_mc ,resultats_mc = benchmark_montecarlo(liste,nb_iter=1000000)\n",
    "\n",
    "print(\"######################### Glouton ############\")\n",
    "\n",
    "\n",
    "\n",
    "temps_gl ,resultats_gl = benchmark_glouton(liste,solution = solution)\n",
    "\n",
    "print(\"######################### Glouton_alétoires ############\")\n",
    "\n",
    "\n",
    "temps_gl_alea ,resultats_gl_alea = benchmark_glouton_alea(liste,nb_iter=1000000 )\n",
    "\n",
    "\n",
    "\n",
    "    \n",
    "\n",
    "plot_time(temps_mc,liste,'Montecarlo algorithm')\n",
    "\n",
    "plot_time(temps_gl,liste,'Glouton algorithm')\n",
    "\n",
    "plot_time(temps_gl_alea,liste,'Glouton aleatoire ')\n",
    "\n",
    "        "
   ]
  },
  {
   "cell_type": "code",
   "execution_count": 180,
   "id": "9841218a",
   "metadata": {},
   "outputs": [
    {
     "data": {
      "image/png": "[encoded data removed]",
      "text/plain": [
       "<Figure size 432x288 with 1 Axes>"
      ]
     },
     "metadata": {
      "needs_background": "light"
     },
     "output_type": "display_data"
    },
    {
     "data": {
      "image/png": "[encoded data removed]",
      "text/plain": [
       "<Figure size 432x288 with 1 Axes>"
      ]
     },
     "metadata": {
      "needs_background": "light"
     },
     "output_type": "display_data"
    },
    {
     "data": {
      "image/png": "[encoded data removed]",
      "text/plain": [
       "<Figure size 432x288 with 1 Axes>"
      ]
     },
     "metadata": {
      "needs_background": "light"
     },
     "output_type": "display_data"
    }
   ],
   "source": [
    "\n",
    "plot_time(temps_mc,liste,'Montecarlo algorithm')\n",
    "\n",
    "plot_time(temps_gl,liste,'Glouton algorithm')\n",
    "\n",
    "plot_time(temps_gl_alea,liste,'Glouton aleatoire ')\n",
    "\n"
   ]
  },
  {
   "cell_type": "code",
   "execution_count": null,
   "id": "06143211",
   "metadata": {},
   "outputs": [],
   "source": []
  }
 ],
 "metadata": {
  "kernelspec": {
   "display_name": "Python 3",
   "language": "python",
   "name": "python3"
  },
  "language_info": {
   "codemirror_mode": {
    "name": "ipython",
    "version": 3
   },
   "file_extension": ".py",
   "mimetype": "text/x-python",
   "name": "python",
   "nbconvert_exporter": "python",
   "pygments_lexer": "ipython3",
   "version": "3.8.8"
  }
 },
 "nbformat": 4,
 "nbformat_minor": 5
}
