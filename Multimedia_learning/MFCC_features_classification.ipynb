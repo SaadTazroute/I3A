{
 "cells": [
  {
   "cell_type": "markdown",
   "id": "581ae778",
   "metadata": {},
   "source": [
    "## Genre Classification : MFCC Features with CNN  "
   ]
  },
  {
   "cell_type": "code",
   "execution_count": 11,
   "id": "3802c0e8",
   "metadata": {},
   "outputs": [],
   "source": [
    "import numpy as np\n",
    "import keras\n",
    "from keras.models import Sequential\n",
    "from keras.layers import Dense, Dropout, Flatten\n",
    "from keras.layers import Conv2D, MaxPooling2D\n",
    "from tensorflow.keras.optimizers import SGD\n",
    "from tensorflow.keras.utils import to_categorical\n",
    "from keras.callbacks import EarlyStopping\n",
    "from keras.callbacks import ModelCheckpoint\n",
    "from keras.models import load_model\n",
    "from sklearn.model_selection import train_test_split\n",
    "from sklearn.metrics import confusion_matrix\n",
    "from sklearn.preprocessing import StandardScaler\n",
    "import matplotlib.pyplot as plt\n",
    "import itertools"
   ]
  },
  {
   "cell_type": "code",
   "execution_count": 12,
   "id": "d2e14a5c",
   "metadata": {},
   "outputs": [
    {
     "name": "stdout",
     "output_type": "stream",
     "text": [
      "[Errno 2] No such file or directory: 'projet'\n",
      "/home/phillyflingo/Desktop/ECM/M2 IAAA/temps2/SAM/projet\n"
     ]
    }
   ],
   "source": [
    "%cd projet"
   ]
  },
  {
   "cell_type": "code",
   "execution_count": 13,
   "id": "defd5568",
   "metadata": {},
   "outputs": [],
   "source": [
    "import keras\n",
    "\n",
    "import tensorflow\n",
    "from keras.models import Sequential\n",
    "from keras.layers import Dense, Dropout, Activation, Flatten, ActivityRegularization, Lambda, BatchNormalization\n",
    "from keras.layers import Convolution2D, MaxPooling2D, Conv1D, MaxPooling1D\n",
    "from keras.layers import AveragePooling2D, Input\n",
    "from keras import backend as K \n",
    "from sklearn.preprocessing import OneHotEncoder,LabelEncoder\n",
    "\n",
    "import os\n",
    "import glob\n",
    "import time\n",
    "\n",
    "import sklearn\n",
    "from sklearn.preprocessing import normalize\n",
    "\n",
    "from keras.applications.vgg19 import VGG19\n",
    "from keras.preprocessing.image import load_img, img_to_array\n",
    "from keras.preprocessing import image\n",
    "from keras.applications.vgg19 import preprocess_input\n",
    "from keras.models import Model\n",
    "from keras.utils import * "
   ]
  },
  {
   "cell_type": "code",
   "execution_count": 14,
   "id": "97c19081",
   "metadata": {},
   "outputs": [],
   "source": [
    "from pathlib import Path\n",
    "import pandas as pd\n",
    "import numpy as np\n",
    "import matplotlib.pyplot as plt\n",
    "\n",
    "_msdi_path = 'msdi'  # Change this to configure your path to MSDI dataset\n",
    "\n",
    "\n",
    "def get_msdi_dataframe(msdi_path=_msdi_path):\n",
    "    return pd.read_csv(Path(msdi_path) / 'msdi_mapping.csv')\n",
    "\n",
    "\n",
    "def load_mfcc(entry, msdi_path=_msdi_path):\n",
    "    x = np.load(Path(msdi_path) / entry['mfcc'])\n",
    "    return x[entry['msd_track_id']]\n",
    "\n",
    "\n",
    "def load_img(entry, msdi_path=_msdi_path):\n",
    "    return plt.imread(Path(msdi_path) / entry['img'])\n",
    "\n",
    "\n",
    "def load_deep_audio_features(entry, msdi_path=_msdi_path):\n",
    "    subset_file = 'X_{}_audio_MSD-I.npy'.format(entry['set'])\n",
    "    x = np.load(Path(msdi_path) / 'deep_features' / subset_file, mmap_mode='r')\n",
    "    idx = entry['deep_features']\n",
    "    return x[idx, :]\n",
    "\n",
    "\n",
    "def get_set(entry):\n",
    "    return entry['set']\n",
    "\n",
    "\n",
    "def get_label(entry):\n",
    "    return entry['genre']\n",
    "\n",
    "\n",
    "def get_label_list(msdi_path=_msdi_path):\n",
    "    df = pd.read_csv(Path(msdi_path) / 'labels.csv', header=None)\n",
    "    return list(df.iloc[:, 0])"
   ]
  },
  {
   "cell_type": "code",
   "execution_count": 15,
   "id": "8ef157b4",
   "metadata": {},
   "outputs": [
    {
     "name": "stdout",
     "output_type": "stream",
     "text": [
      "Dataset with 30712 entries\n",
      "################################################################################\n",
      "Labels: ['Blues', 'Country', 'Electronic', 'Folk', 'Jazz', 'Latin', 'Metal', 'New Age', 'Pop', 'Punk', 'Rap', 'Reggae', 'RnB', 'Rock', 'World']\n",
      "################################################################################\n",
      "Entry 10:\n",
      "Unnamed: 0                                                      10\n",
      "msd_track_id                                    TRHDZSB128F429112F\n",
      "genre                                                        Metal\n",
      "album_index                                                     13\n",
      "set                                                          train\n",
      "msd_artist_id                                   ARZN98V1187B990D1D\n",
      "image_url        http://artwork-cdn.7static.com/static/img/slee...\n",
      "img                                         img/0000848765_200.jpg\n",
      "mfcc                                               mfcc/mfcc_H.npz\n",
      "deep_features                                                   10\n",
      "Name: 10, dtype: object\n",
      "################################################################################\n",
      "MFCC shape: (872, 12)\n",
      "Image shape: (200, 200, 3)\n",
      "Deep features: (2048,)\n",
      "Set: train\n",
      "Genre: Metal\n"
     ]
    }
   ],
   "source": [
    "if __name__ == '__main__':\n",
    "    # Exemple d'utilisation\n",
    "    msdi = get_msdi_dataframe(_msdi_path)\n",
    "    print('Dataset with {} entries'.format(len(msdi)))\n",
    "    print('#' * 80)\n",
    "    print('Labels:', get_label_list())\n",
    "    print('#' * 80)\n",
    "\n",
    "    entry_idx = 10\n",
    "    one_entry = msdi.loc[entry_idx]\n",
    "    print('Entry {}:'.format(entry_idx))\n",
    "    print(one_entry)\n",
    "    print('#' * 80)\n",
    "    mfcc = load_mfcc(one_entry, _msdi_path)\n",
    "    print('MFCC shape:', mfcc.shape)\n",
    "    img = load_img(one_entry, _msdi_path)\n",
    "    print('Image shape:', img.shape)\n",
    "    deep_features = load_deep_audio_features(one_entry, _msdi_path)\n",
    "    print('Deep features:', deep_features.shape)\n",
    "    print('Set:', get_set(one_entry))\n",
    "    print('Genre:', get_label(one_entry))"
   ]
  },
  {
   "cell_type": "code",
   "execution_count": 8,
   "id": "9b59a3c7",
   "metadata": {},
   "outputs": [],
   "source": [
    "import gc\n"
   ]
  },
  {
   "cell_type": "code",
   "execution_count": 9,
   "id": "f63fdf49",
   "metadata": {},
   "outputs": [],
   "source": [
    "def get_X_y(msdi_path):\n",
    "    X_train = []\n",
    "    y_train = []\n",
    "    X_test = []\n",
    "    y_test = []\n",
    "    mfccs_lenghts = []\n",
    "    cpt = 0\n",
    "    msdi = get_msdi_dataframe(msdi_path)\n",
    "    n = len(msdi)\n",
    "    \n",
    "    for idx in range(n):\n",
    "        entry = msdi.loc[idx]\n",
    "        cpt+=1\n",
    "        if  get_set(entry) =='train' :\n",
    "            print(cpt)\n",
    "            x = load_mfcc(entry, msdi_path)\n",
    "            X_train.append(x)\n",
    "            x=None            \n",
    "            y = get_label(entry)\n",
    "            y_train.append(y)\n",
    "        if  get_set(entry) =='test' :\n",
    "            print(cpt)\n",
    "            x = load_mfcc(entry, msdi_path)\n",
    "            X_test.append(x)\n",
    "            x=None            \n",
    "            y = get_label(entry)\n",
    "            y_test.append(y)\n",
    "    print('end')\n",
    "    X_test = np.array(X_test,dtype=object)\n",
    "    y_test = np.array(y_test)\n",
    "    X_train = np.array(X_train,dtype=object)\n",
    "    y_train = np.array(y_train)    \n",
    "    return X_train,y_train,X_test,y_test\n",
    "_msdi_path = 'msdi/'  # Change this to configure your path to MSDI dataset\n",
    "            \n"
   ]
  },
  {
   "cell_type": "code",
   "execution_count": null,
   "id": "acf45c89",
   "metadata": {},
   "outputs": [],
   "source": [
    "X_train,y_train,X_test,y_test = get_X_y(_msdi_path)"
   ]
  },
  {
   "cell_type": "code",
   "execution_count": 34,
   "id": "19f2c1b0",
   "metadata": {},
   "outputs": [],
   "source": [
    "\"\"\"X_train = np.load('X_train_img_trunc_1024.npy',allow_pickle=True)\n",
    "y_train = np.load('y_train_img_trunc_1024.npy')\n",
    "X_test = np.load('X_test_img_trunc_1024.npy',allow_pickle=True)\n",
    "y_test = np.load('y_test_img_trunc_1024.npy')\"\"\""
   ]
  },
  {
   "cell_type": "code",
   "execution_count": 16,
   "id": "c63bca82",
   "metadata": {},
   "outputs": [],
   "source": [
    "\"\"\"X_train = np.load('X_train_img_run1.npy',allow_pickle=True)\n",
    "y_train = np.load('y_train_img_run1.npy')\n",
    "X_test = np.load('X_test_img_run1.npy',allow_pickle=True)\n",
    "y_test = np.load('y_test_img_run1.npy')\"\"\""
   ]
  },
  {
   "cell_type": "code",
   "execution_count": null,
   "id": "3b7dee27",
   "metadata": {},
   "outputs": [],
   "source": []
  },
  {
   "cell_type": "code",
   "execution_count": 9,
   "id": "da34a252",
   "metadata": {},
   "outputs": [],
   "source": [
    "def prepare_targets(y_train, y_test):\n",
    "    le = LabelEncoder()\n",
    "    le.fit(y_train)\n",
    "    le.fit(y_test)\n",
    "    y_train_enc = le.transform(y_train)\n",
    "    y_test_enc = le.transform(y_test)\n",
    "    return y_train_enc,y_test_enc"
   ]
  },
  {
   "cell_type": "code",
   "execution_count": 53,
   "id": "3e03b762",
   "metadata": {},
   "outputs": [],
   "source": [
    "def truncate_and_delete_short_samples(X,y, max_length):\n",
    "    \"\"\"\n",
    "    truncate the arrays to a fixed length and delete the short samples\n",
    "    \"\"\"\n",
    "    truncated_list_of_arrays = []\n",
    "    labels=[]\n",
    "    for i,array in enumerate(X):\n",
    "        if array.shape[0] > max_length:\n",
    "            truncated_list_of_arrays.append(array[:max_length])\n",
    "            array = None\n",
    "            labels.append(y[i])\n",
    "\n",
    "    truncated_list_of_arrays = np.array(truncated_list_of_arrays,dtype=object)\n",
    "    labels= np.array(labels)\n",
    "    print(truncated_list_of_arrays.shape)\n",
    "    return truncated_list_of_arrays,labels"
   ]
  },
  {
   "cell_type": "code",
   "execution_count": null,
   "id": "e3277512",
   "metadata": {},
   "outputs": [],
   "source": [
    "\n"
   ]
  },
  {
   "cell_type": "code",
   "execution_count": 54,
   "id": "7594fee7",
   "metadata": {},
   "outputs": [
    {
     "name": "stdout",
     "output_type": "stream",
     "text": [
      "(6572, 1024, 12)\n",
      "(1381, 1024, 12)\n",
      "(1381, 1024, 12) (1381,)\n"
     ]
    }
   ],
   "source": [
    "X_train,y_train = truncate_and_delete_short_samples(X_train,y_train, max_length=1024)\n",
    "\n",
    "X_test,y_test = truncate_and_delete_short_samples(X_test,y_test, max_length=1024)\n",
    "print(X_test.shape,y_test.shape)"
   ]
  },
  {
   "cell_type": "code",
   "execution_count": 55,
   "id": "ee99c7dd",
   "metadata": {},
   "outputs": [],
   "source": [
    "np.save('X_train_img_trunc_1024.npy',X_train)\n",
    "np.save('y_train_img_trunc_1024.npy',y_train)\n",
    "np.save('X_test_img_trunc_1024.npy',X_test)\n",
    "np.save('y_test_img_trunc_1024.npy',y_test)"
   ]
  },
  {
   "cell_type": "code",
   "execution_count": null,
   "id": "d02b7b59",
   "metadata": {},
   "outputs": [],
   "source": []
  },
  {
   "cell_type": "code",
   "execution_count": null,
   "id": "82b25a4f",
   "metadata": {},
   "outputs": [],
   "source": []
  },
  {
   "cell_type": "code",
   "execution_count": 35,
   "id": "f1a5b919",
   "metadata": {},
   "outputs": [],
   "source": [
    "X_train = np.asarray(X_train).astype(np.float32)\n",
    "X_test = np.asarray(X_test).astype(np.float32)"
   ]
  },
  {
   "cell_type": "code",
   "execution_count": null,
   "id": "bb92bfeb",
   "metadata": {},
   "outputs": [],
   "source": []
  },
  {
   "cell_type": "code",
   "execution_count": 36,
   "id": "3e46d0b7",
   "metadata": {},
   "outputs": [
    {
     "data": {
      "text/plain": [
       "(6572, 12288, 1)"
      ]
     },
     "execution_count": 36,
     "metadata": {},
     "output_type": "execute_result"
    }
   ],
   "source": [
    "X_test = X_test.reshape(X_test.shape[0], X_test.shape[1]*X_test.shape[2], 1)\n",
    "X_train = X_train.reshape(X_train.shape[0], X_train.shape[1]*X_train.shape[2], 1)\n",
    "X_train.shape\n"
   ]
  },
  {
   "cell_type": "code",
   "execution_count": 15,
   "id": "2cdf89c4",
   "metadata": {},
   "outputs": [],
   "source": [
    "#y_train, y_test = prepare_targets(y_train, y_test)"
   ]
  },
  {
   "cell_type": "code",
   "execution_count": 37,
   "id": "a9f2fb27",
   "metadata": {},
   "outputs": [],
   "source": [
    "from sklearn.preprocessing import LabelEncoder,OneHotEncoder\n",
    "\n",
    "labelencoder = LabelEncoder()\n",
    "\n",
    "labelencoder.fit(y_train)\n",
    "labelencoder.fit(y_test)\n",
    "\n",
    "\n",
    "y_train = labelencoder.transform(y_train)\n",
    "y_test = labelencoder.transform(y_test)"
   ]
  },
  {
   "cell_type": "code",
   "execution_count": 38,
   "id": "57efa549",
   "metadata": {},
   "outputs": [],
   "source": [
    "y_train = np.asarray(y_train).astype(np.float32)\n",
    "y_test = np.asarray(y_test).astype(np.float32)"
   ]
  },
  {
   "cell_type": "code",
   "execution_count": 32,
   "id": "40b81957",
   "metadata": {},
   "outputs": [],
   "source": [
    "from keras.preprocessing.image import ImageDataGenerator\n",
    "datagen = ImageDataGenerator()\n"
   ]
  },
  {
   "cell_type": "code",
   "execution_count": null,
   "id": "7b11f75b",
   "metadata": {},
   "outputs": [],
   "source": []
  },
  {
   "cell_type": "code",
   "execution_count": 39,
   "id": "8fcee049",
   "metadata": {
    "scrolled": true
   },
   "outputs": [
    {
     "name": "stdout",
     "output_type": "stream",
     "text": [
      "Epoch 1/60\n",
      "411/411 [==============================] - 8s 16ms/step - loss: 3.8513 - val_loss: 2.6867\n",
      "Epoch 2/60\n",
      "411/411 [==============================] - 6s 15ms/step - loss: 2.6759 - val_loss: 2.6614\n",
      "Epoch 3/60\n",
      "411/411 [==============================] - 6s 15ms/step - loss: 2.6520 - val_loss: 2.6364\n",
      "Epoch 4/60\n",
      "411/411 [==============================] - 6s 15ms/step - loss: 2.6287 - val_loss: 2.6122\n",
      "Epoch 5/60\n",
      "411/411 [==============================] - 6s 15ms/step - loss: 2.6060 - val_loss: 2.5885\n",
      "Epoch 6/60\n",
      "411/411 [==============================] - 6s 15ms/step - loss: 2.5841 - val_loss: 2.5659\n",
      "Epoch 7/60\n",
      "411/411 [==============================] - 6s 15ms/step - loss: 2.5630 - val_loss: 2.5439\n",
      "Epoch 8/60\n",
      "411/411 [==============================] - 6s 16ms/step - loss: 2.5427 - val_loss: 2.5228\n",
      "Epoch 9/60\n",
      "411/411 [==============================] - 6s 16ms/step - loss: 2.5232 - val_loss: 2.5024\n",
      "Epoch 10/60\n",
      "411/411 [==============================] - 6s 15ms/step - loss: 2.5044 - val_loss: 2.4829\n",
      "Epoch 11/60\n",
      "411/411 [==============================] - 6s 16ms/step - loss: 2.4864 - val_loss: 2.4641\n",
      "Epoch 12/60\n",
      "411/411 [==============================] - 6s 15ms/step - loss: 2.4691 - val_loss: 2.4460\n",
      "Epoch 13/60\n",
      "411/411 [==============================] - 6s 15ms/step - loss: 2.4525 - val_loss: 2.4287\n",
      "Epoch 14/60\n",
      "411/411 [==============================] - 6s 15ms/step - loss: 2.4366 - val_loss: 2.4120\n",
      "Epoch 15/60\n",
      "411/411 [==============================] - 6s 16ms/step - loss: 2.4214 - val_loss: 2.3961\n",
      "Epoch 16/60\n",
      "411/411 [==============================] - 6s 15ms/step - loss: 2.4069 - val_loss: 2.3810\n",
      "Epoch 17/60\n",
      "411/411 [==============================] - 6s 15ms/step - loss: 2.3930 - val_loss: 2.3665\n",
      "Epoch 18/60\n",
      "411/411 [==============================] - 6s 15ms/step - loss: 2.3798 - val_loss: 2.3526\n",
      "Epoch 19/60\n",
      "411/411 [==============================] - 6s 15ms/step - loss: 2.3672 - val_loss: 2.3394\n",
      "Epoch 20/60\n",
      "411/411 [==============================] - 6s 15ms/step - loss: 2.3552 - val_loss: 2.3267\n",
      "Epoch 21/60\n",
      "411/411 [==============================] - 6s 16ms/step - loss: 2.3438 - val_loss: 2.3148\n",
      "Epoch 22/60\n",
      "411/411 [==============================] - 6s 15ms/step - loss: 2.3330 - val_loss: 2.3035\n",
      "Epoch 23/60\n",
      "411/411 [==============================] - 6s 15ms/step - loss: 2.3228 - val_loss: 2.2927\n",
      "Epoch 24/60\n",
      "411/411 [==============================] - 6s 16ms/step - loss: 2.3131 - val_loss: 2.2825\n",
      "Epoch 25/60\n",
      "411/411 [==============================] - 6s 15ms/step - loss: 2.3039 - val_loss: 2.2728\n",
      "Epoch 26/60\n",
      "411/411 [==============================] - 6s 15ms/step - loss: 2.2953 - val_loss: 2.2636\n",
      "Epoch 27/60\n",
      "411/411 [==============================] - 6s 15ms/step - loss: 2.2871 - val_loss: 2.2550\n",
      "Epoch 28/60\n",
      "411/411 [==============================] - 6s 15ms/step - loss: 2.2794 - val_loss: 2.2468\n",
      "Epoch 29/60\n",
      "411/411 [==============================] - 6s 16ms/step - loss: 2.2722 - val_loss: 2.2391\n",
      "Epoch 30/60\n",
      "411/411 [==============================] - 6s 16ms/step - loss: 2.2654 - val_loss: 2.2319\n",
      "Epoch 31/60\n",
      "411/411 [==============================] - 6s 15ms/step - loss: 2.2590 - val_loss: 2.2252\n",
      "Epoch 32/60\n",
      "411/411 [==============================] - 6s 15ms/step - loss: 2.2531 - val_loss: 2.2188\n",
      "Epoch 33/60\n",
      "411/411 [==============================] - 6s 15ms/step - loss: 2.2476 - val_loss: 2.2130\n",
      "Epoch 34/60\n",
      "411/411 [==============================] - 6s 15ms/step - loss: 2.2425 - val_loss: 2.2074\n",
      "Epoch 35/60\n",
      "411/411 [==============================] - 6s 15ms/step - loss: 2.2377 - val_loss: 2.2023\n",
      "Epoch 36/60\n",
      "411/411 [==============================] - 6s 15ms/step - loss: 2.2333 - val_loss: 2.1975\n",
      "Epoch 37/60\n",
      "411/411 [==============================] - 6s 15ms/step - loss: 2.2292 - val_loss: 2.1931\n",
      "Epoch 38/60\n",
      "411/411 [==============================] - 6s 15ms/step - loss: 2.2253 - val_loss: 2.1889\n",
      "Epoch 39/60\n",
      "411/411 [==============================] - 6s 15ms/step - loss: 2.2218 - val_loss: 2.1850\n",
      "Epoch 40/60\n",
      "411/411 [==============================] - 6s 15ms/step - loss: 2.2185 - val_loss: 2.1815\n",
      "Epoch 41/60\n",
      "411/411 [==============================] - 6s 15ms/step - loss: 2.2156 - val_loss: 2.1783\n",
      "Epoch 42/60\n",
      "411/411 [==============================] - 6s 15ms/step - loss: 2.2128 - val_loss: 2.1752\n",
      "Epoch 43/60\n",
      "411/411 [==============================] - 6s 15ms/step - loss: 2.2103 - val_loss: 2.1724\n",
      "Epoch 44/60\n",
      "411/411 [==============================] - 6s 15ms/step - loss: 2.2080 - val_loss: 2.1699\n",
      "Epoch 45/60\n",
      "411/411 [==============================] - 6s 15ms/step - loss: 2.2059 - val_loss: 2.1676\n",
      "Epoch 46/60\n",
      "411/411 [==============================] - 6s 15ms/step - loss: 2.2039 - val_loss: 2.1654\n",
      "Epoch 47/60\n",
      "411/411 [==============================] - 6s 15ms/step - loss: 2.2021 - val_loss: 2.1634\n",
      "Epoch 48/60\n",
      "411/411 [==============================] - 6s 15ms/step - loss: 2.2005 - val_loss: 2.1616\n",
      "Epoch 49/60\n",
      "411/411 [==============================] - 6s 15ms/step - loss: 2.1990 - val_loss: 2.1599\n",
      "Epoch 50/60\n",
      "411/411 [==============================] - 6s 15ms/step - loss: 2.1976 - val_loss: 2.1583\n",
      "Epoch 51/60\n",
      "411/411 [==============================] - 6s 15ms/step - loss: 2.1963 - val_loss: 2.1569\n",
      "Epoch 52/60\n",
      "411/411 [==============================] - 6s 15ms/step - loss: 2.1952 - val_loss: 2.1555\n",
      "Epoch 53/60\n",
      "411/411 [==============================] - 6s 15ms/step - loss: 2.1941 - val_loss: 2.1543\n",
      "Epoch 54/60\n",
      "411/411 [==============================] - 6s 15ms/step - loss: 2.1931 - val_loss: 2.1532\n",
      "Epoch 55/60\n",
      "411/411 [==============================] - 6s 15ms/step - loss: 2.1922 - val_loss: 2.1521\n",
      "Epoch 56/60\n",
      "411/411 [==============================] - 6s 16ms/step - loss: 2.1914 - val_loss: 2.1512\n",
      "Epoch 57/60\n",
      "411/411 [==============================] - 6s 15ms/step - loss: 2.1906 - val_loss: 2.1503\n",
      "Epoch 58/60\n",
      "411/411 [==============================] - 6s 15ms/step - loss: 2.1899 - val_loss: 2.1494\n",
      "Epoch 59/60\n",
      "411/411 [==============================] - 6s 15ms/step - loss: 2.1892 - val_loss: 2.1486\n",
      "Epoch 60/60\n",
      "411/411 [==============================] - 6s 15ms/step - loss: 2.1886 - val_loss: 2.1479\n"
     ]
    }
   ],
   "source": [
    "\n",
    "input_shape = (X_train.shape[1], 1)\n",
    "input_shape\n",
    "# Layer 1\n",
    "model = Sequential()\n",
    "model.add(Conv1D(64, 1, activation='relu', input_shape=input_shape))\n",
    "model.add(MaxPooling1D(2))\n",
    "model.add(Conv1D(64, 1, activation='relu'))\n",
    "model.add(MaxPooling1D(2))\n",
    "model.add(Flatten())\n",
    "model.add(Dense(64, activation='relu'))\n",
    "model.add(Dense(15, activation='softmax'))\n",
    "\n",
    "opt = tensorflow.keras.optimizers.Adam(learning_rate=0.0001)\n",
    "\n",
    "# compile the model\n",
    "model.compile(loss='sparse_categorical_crossentropy', optimizer=opt)\n",
    "\n",
    "# fit the model\n",
    "history = model.fit(X_train, y_train,validation_data=(X_test, y_test) , epochs=60, batch_size=16,shuffle=True, verbose=1)"
   ]
  },
  {
   "cell_type": "code",
   "execution_count": 42,
   "id": "82e9c5a9",
   "metadata": {},
   "outputs": [],
   "source": [
    "from sklearn.metrics import accuracy_score,precision_score,recall_score,f1_score\n",
    "def evaluate_model(model, X_test, y_test):\n",
    "    \"\"\"\n",
    "    evaluate a model using different metrics for multiclass classification\n",
    "    :param model: model to be evaluated\n",
    "    :param X_test: test data\n",
    "    :param y_test: test labels\n",
    "    :return: a table of different metrics for multiclass classification\n",
    "    \"\"\"\n",
    "    # predict classes\n",
    "    y_pred = model.predict(X_test)\n",
    "\n",
    "    y_pred=np.argmax(y_pred,axis=1)\n",
    "    # calculate precision score\n",
    "    precision = precision_score(y_test, y_pred, average='micro')\n",
    "    # calculate recall score\n",
    "    recall = recall_score(y_test, y_pred, average='micro')\n",
    "    # calculate f1 score\n",
    "    f1 = f1_score(y_test, y_pred, average='micro')\n",
    "    # calculate accuracy score\n",
    "    accuracy = accuracy_score(y_test, y_pred)\n",
    "    # create a dictionary of metrics\n",
    "    metrics = {'precision': precision, 'recall': recall, 'f1': f1, 'accuracy': accuracy}\n",
    "    # create a dataframe of metrics\n",
    "    df = pd.DataFrame(metrics, index=[0])\n",
    "    # return the dataframe\n",
    "    return df\n"
   ]
  },
  {
   "cell_type": "code",
   "execution_count": 43,
   "id": "27635018",
   "metadata": {},
   "outputs": [
    {
     "data": {
      "text/html": [
       "<div>\n",
       "<style scoped>\n",
       "    .dataframe tbody tr th:only-of-type {\n",
       "        vertical-align: middle;\n",
       "    }\n",
       "\n",
       "    .dataframe tbody tr th {\n",
       "        vertical-align: top;\n",
       "    }\n",
       "\n",
       "    .dataframe thead th {\n",
       "        text-align: right;\n",
       "    }\n",
       "</style>\n",
       "<table border=\"1\" class=\"dataframe\">\n",
       "  <thead>\n",
       "    <tr style=\"text-align: right;\">\n",
       "      <th></th>\n",
       "      <th>precision</th>\n",
       "      <th>recall</th>\n",
       "      <th>f1</th>\n",
       "      <th>accuracy</th>\n",
       "    </tr>\n",
       "  </thead>\n",
       "  <tbody>\n",
       "    <tr>\n",
       "      <th>0</th>\n",
       "      <td>0.33092</td>\n",
       "      <td>0.33092</td>\n",
       "      <td>0.33092</td>\n",
       "      <td>0.33092</td>\n",
       "    </tr>\n",
       "  </tbody>\n",
       "</table>\n",
       "</div>"
      ],
      "text/plain": [
       "   precision   recall       f1  accuracy\n",
       "0    0.33092  0.33092  0.33092   0.33092"
      ]
     },
     "execution_count": 43,
     "metadata": {},
     "output_type": "execute_result"
    }
   ],
   "source": [
    "evaluate_model(model, X_test, y_test)"
   ]
  },
  {
   "cell_type": "code",
   "execution_count": 45,
   "id": "1137de61",
   "metadata": {},
   "outputs": [
    {
     "name": "stdout",
     "output_type": "stream",
     "text": [
      "INFO:tensorflow:Assets written to: model_mcff_1024_60/assets\n"
     ]
    }
   ],
   "source": [
    "model.save('model_mcff_1024_60')"
   ]
  },
  {
   "cell_type": "code",
   "execution_count": 46,
   "id": "77114a52",
   "metadata": {},
   "outputs": [],
   "source": [
    "import matplotlib.pyplot as plt\n",
    "\n",
    "def plot_loss(fit_history,title):\n",
    "  plt.plot(fit_history.history['loss'])\n",
    "  plt.plot(fit_history.history['val_loss'])\n",
    "  plt.title(title)\n",
    "  plt.ylabel('loss')\n",
    "  plt.xlabel('epoch')\n",
    "  plt.legend(['train_loss', 'val_loss'], loc='upper left')\n",
    "  plt.show()"
   ]
  },
  {
   "cell_type": "code",
   "execution_count": 47,
   "id": "dc3bd172",
   "metadata": {},
   "outputs": [
    {
     "data": {
      "image/png": "[encoded data removed]",
      "text/plain": [
       "<Figure size 432x288 with 1 Axes>"
      ]
     },
     "metadata": {
      "needs_background": "light"
     },
     "output_type": "display_data"
    }
   ],
   "source": [
    "plot_loss(history,'MFCC_feats_1024')"
   ]
  },
  {
   "cell_type": "code",
   "execution_count": null,
   "id": "bf518e26",
   "metadata": {},
   "outputs": [],
   "source": [
    "def plot_confusion_matrix(y_true, y_pred, labels):\n",
    "    \"\"\"\n",
    "    plots the confusion matrix\n",
    "    \"\"\"\n",
    "    matrix = confusion_matrix(y_true, y_pred)    \n",
    "    fig, ax = plt.subplots(figsize=(12,10))\n",
    "    plt.imshow(matrix)\n",
    "    ax.set_xticks(range(len(labels)));\n",
    "    ax.set_xticklabels(labels, rotation=0)\n",
    "    ax.set_yticks(range(len(labels)));\n",
    "    ax.set_yticklabels(labels)\n",
    "    max_confusions = 0\n",
    "    confused_classes = (-1, -1)\n",
    "    for i, true_label in enumerate(matrix):\n",
    "        for j, predicted_label in enumerate(true_label):\n",
    "            text = ax.text(j, i, matrix[i, j],\n",
    "                        ha=\"center\", va=\"center\", color=\"w\");\n",
    "    plt.tick_params(axis=u'both', which=u'both',length=0)\n",
    "    plt.title(\"Confusion Matrix\")"
   ]
  },
  {
   "cell_type": "code",
   "execution_count": null,
   "id": "d4f6dddf",
   "metadata": {},
   "outputs": [],
   "source": []
  },
  {
   "cell_type": "code",
   "execution_count": null,
   "id": "8d12faba",
   "metadata": {},
   "outputs": [],
   "source": []
  },
  {
   "cell_type": "code",
   "execution_count": null,
   "id": "0761612c",
   "metadata": {},
   "outputs": [],
   "source": []
  },
  {
   "cell_type": "code",
   "execution_count": null,
   "id": "a52569f0",
   "metadata": {},
   "outputs": [],
   "source": []
  },
  {
   "cell_type": "code",
   "execution_count": null,
   "id": "8b7024f9",
   "metadata": {},
   "outputs": [],
   "source": [
    "\"\"\"X_train = np.asarray(X_train).astype(np.float32)\n",
    "#y_train = np.asarray(y_train).astype(np.float32)\n",
    "X_test = np.asarray(X_train).astype(np.float32)\n",
    "#y_test = np.asarray(y_train).astype(np.float32)\"\"\""
   ]
  },
  {
   "cell_type": "code",
   "execution_count": null,
   "id": "11a928e6",
   "metadata": {},
   "outputs": [],
   "source": [
    "\"\"\"# reshape data to fit model\n",
    "X_train = X_train.reshape(X_train.shape[0], X_train.shape[1], X_train.shape[2], 1)\n",
    "X_test = X_test.reshape(X_test.shape[0], X_test.shape[1], X_test.shape[2], 1)\n",
    "\n",
    "# one hot encode target values\n",
    "y_train = to_categorical(y_train)\n",
    "y_test = to_categorical(y_test)\n",
    "\"\"\""
   ]
  },
  {
   "cell_type": "code",
   "execution_count": null,
   "id": "9cdb0bb8",
   "metadata": {},
   "outputs": [],
   "source": []
  },
  {
   "cell_type": "code",
   "execution_count": null,
   "id": "96bdc302",
   "metadata": {},
   "outputs": [],
   "source": []
  },
  {
   "cell_type": "code",
   "execution_count": null,
   "id": "8f37bcda",
   "metadata": {},
   "outputs": [],
   "source": []
  },
  {
   "cell_type": "code",
   "execution_count": null,
   "id": "e168c417",
   "metadata": {},
   "outputs": [],
   "source": []
  },
  {
   "cell_type": "code",
   "execution_count": null,
   "id": "eb8ab8c3",
   "metadata": {},
   "outputs": [],
   "source": []
  }
 ],
 "metadata": {
  "kernelspec": {
   "display_name": "Python 3",
   "language": "python",
   "name": "python3"
  },
  "language_info": {
   "codemirror_mode": {
    "name": "ipython",
    "version": 3
   },
   "file_extension": ".py",
   "mimetype": "text/x-python",
   "name": "python",
   "nbconvert_exporter": "python",
   "pygments_lexer": "ipython3",
   "version": "3.8.8"
  }
 },
 "nbformat": 4,
 "nbformat_minor": 5
}
